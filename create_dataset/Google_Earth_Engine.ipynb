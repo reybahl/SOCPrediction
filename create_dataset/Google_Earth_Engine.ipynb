{
  "nbformat": 4,
  "nbformat_minor": 0,
  "metadata": {
    "colab": {
      "provenance": [],
      "mount_file_id": "1opQZkheVUFbldZX5N2DmqdRwG1x-DnB3",
      "authorship_tag": "ABX9TyNQKKMprZldAyQPwx7oTXw/"
    },
    "kernelspec": {
      "name": "python3",
      "display_name": "Python 3"
    },
    "language_info": {
      "name": "python"
    }
  },
  "cells": [
    {
      "cell_type": "code",
      "execution_count": null,
      "metadata": {
        "id": "WD6_a-R3-nJX"
      },
      "outputs": [],
      "source": [
        "import ee\n",
        "\n",
        "# Trigger the authentication flow.\n",
        "ee.Authenticate()\n",
        "\n",
        "# Initialize the library.\n",
        "ee.Initialize()"
      ]
    },
    {
      "cell_type": "code",
      "source": [
        "def select(long1, lat1, long2, lat2):\n",
        "\trectangle = ee.Geometry.Rectangle([long1, lat1, long2, lat2])\n",
        "\n",
        "\tdataset = 'LANDSAT/LC08/C01/T1_TOA'\n",
        "\n",
        "\tl8 = ee.ImageCollection(dataset)\n",
        "\n",
        "\timg = ee.Image(\n",
        "\t\tl8.filterBounds(rectangle)\n",
        "\t\t\t.filterDate('2015-01-01',\n",
        "\t\t\t\t'2015-12-31')\n",
        "\t\t\t.sort('CLOUD_COVER').first()\n",
        "\t)\n",
        "\treturn img.clip(rectangle).select(list(range(11)))"
      ],
      "metadata": {
        "id": "HDS6GZk0BIET"
      },
      "execution_count": 62,
      "outputs": []
    },
    {
      "cell_type": "code",
      "source": [
        "img = select(102.94439697265625, 22.29854151818362, 103.94439697265625,23.29854151818362)"
      ],
      "metadata": {
        "id": "C2eJRO-y_yOv"
      },
      "execution_count": 77,
      "outputs": []
    },
    {
      "cell_type": "code",
      "source": [
        "task = ee.batch.Export.image.toDrive(image=img,\n",
        "                                     description='test',\n",
        "                                     fileNamePrefix='my_export',\n",
        "                                     crs='EPSG:4326',\n",
        "                                     fileFormat='GeoTIFF', folder= \"SOCData\")\n",
        "task.start()"
      ],
      "metadata": {
        "id": "pZZho1GNBs_E"
      },
      "execution_count": 78,
      "outputs": []
    },
    {
      "cell_type": "code",
      "source": [
        "task.status()"
      ],
      "metadata": {
        "id": "gh4_LH4fCwMc"
      },
      "execution_count": null,
      "outputs": []
    }
  ]
}
