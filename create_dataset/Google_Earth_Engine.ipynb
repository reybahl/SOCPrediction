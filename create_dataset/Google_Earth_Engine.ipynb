{
  "nbformat": 4,
  "nbformat_minor": 0,
  "metadata": {
    "colab": {
      "provenance": [],
      "mount_file_id": "1opQZkheVUFbldZX5N2DmqdRwG1x-DnB3",
      "authorship_tag": "ABX9TyORRH4je5yT2924fbF5vZ52"
    },
    "kernelspec": {
      "name": "python3",
      "display_name": "Python 3"
    },
    "language_info": {
      "name": "python"
    }
  },
  "cells": [
    {
      "cell_type": "code",
      "execution_count": null,
      "metadata": {
        "id": "WD6_a-R3-nJX"
      },
      "outputs": [],
      "source": [
        "import ee\n",
        "\n",
        "# Trigger the authentication flow.\n",
        "ee.Authenticate()\n",
        "\n",
        "# Initialize the library.\n",
        "ee.Initialize()"
      ]
    },
    {
      "cell_type": "code",
      "source": [
        "def select(long1, lat1, long2, lat2):\n",
        "\trectangle = ee.Geometry.Rectangle([long1, lat1, long2, lat2])\n",
        "\n",
        "\tdataset = 'LANDSAT/LC08/C01/T1_TOA'\n",
        "\n",
        "\tl8 = ee.ImageCollection(dataset)\n",
        "\n",
        "\timg = ee.Image(\n",
        "\t\tl8.filterBounds(rectangle)\n",
        "\t\t\t.filterDate('2015-01-01',\n",
        "\t\t\t\t'2015-12-31')\n",
        "\t\t\t.sort('CLOUD_COVER').first()\n",
        "\t)\n",
        "\treturn img.clip(rectangle).select(list(range(11)))"
      ],
      "metadata": {
        "id": "HDS6GZk0BIET"
      },
      "execution_count": null,
      "outputs": []
    },
    {
      "cell_type": "code",
      "source": [
        "img = select(102.94439697265625, 22.29854151818362, 103.94439697265625,23.29854151818362)"
      ],
      "metadata": {
        "id": "C2eJRO-y_yOv"
      },
      "execution_count": 85,
      "outputs": []
    },
    {
      "cell_type": "code",
      "source": [
        "task = ee.batch.Export.image.toDrive(image=img,\n",
        "                                     description='test',\n",
        "                                     fileNamePrefix='my_export',\n",
        "                                     crs='EPSG:4326',\n",
        "                                     fileFormat='GeoTIFF', folder= \"SOCData\")\n",
        "task.start()"
      ],
      "metadata": {
        "id": "pZZho1GNBs_E"
      },
      "execution_count": null,
      "outputs": []
    },
    {
      "cell_type": "code",
      "source": [
        "task.status()"
      ],
      "metadata": {
        "id": "gh4_LH4fCwMc"
      },
      "execution_count": null,
      "outputs": []
    },
    {
      "cell_type": "code",
      "source": [
        "img.getThumbURL({'scale': 200, 'format': 'png', 'bands': [\"B4\", \"B3\", \"B2\"], 'min': 0, 'max': 0.5, 'gamma': [0.95, 1.1, 1]})"
      ],
      "metadata": {
        "colab": {
          "base_uri": "https://localhost:8080/",
          "height": 36
        },
        "id": "sXQ8XfcoJVZ3",
        "outputId": "28f9f3ff-da77-4073-b66c-586d525644a7"
      },
      "execution_count": 87,
      "outputs": [
        {
          "output_type": "execute_result",
          "data": {
            "text/plain": [
              "'https://earthengine.googleapis.com/v1alpha/projects/earthengine-legacy/thumbnails/eb9f19c8657b69305eec115a7022f0b5-2a7df693253a7a71b1e9f11c8a94ffa7:getPixels'"
            ],
            "application/vnd.google.colaboratory.intrinsic+json": {
              "type": "string"
            }
          },
          "metadata": {},
          "execution_count": 87
        }
      ]
    }
  ]
}