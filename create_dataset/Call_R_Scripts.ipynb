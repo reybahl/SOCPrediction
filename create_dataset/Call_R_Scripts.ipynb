{
  "cells": [
    {
      "cell_type": "code",
      "execution_count": null,
      "metadata": {
        "id": "-EuuC9IWAfPN"
      },
      "outputs": [],
      "source": [
        "!Rscript /content/drive/MyDrive/SOC/install_packages.R"
      ]
    },
    {
      "cell_type": "code",
      "source": [
        "hwsd_r_path = \"/content/drive/MyDrive/SOC/HWSD.r\""
      ],
      "metadata": {
        "id": "w8zrOvjqqLHN"
      },
      "execution_count": 3,
      "outputs": []
    },
    {
      "cell_type": "code",
      "execution_count": null,
      "metadata": {
        "colab": {
          "base_uri": "https://localhost:8080/"
        },
        "id": "v3pci7ItIOkC",
        "outputId": "b54812e9-5b03-4cea-a869-c7ca75d7e53e"
      },
      "outputs": [
        {
          "output_type": "stream",
          "name": "stdout",
          "text": [
            "current:487\n",
            "current:488\n",
            "current:489\n",
            "current:490\n",
            "current:491\n",
            "current:492\n",
            "current:493\n",
            "current:494\n",
            "current:495\n",
            "current:496\n",
            "current:497\n",
            "current:498\n",
            "current:499\n",
            "current:500\n",
            "current:501\n",
            "current:502\n",
            "current:503\n",
            "current:504\n"
          ]
        }
      ],
      "source": [
        "import subprocess\n",
        "from subprocess import Popen\n",
        "\n",
        "f = open(\"/content/drive/MyDrive/SOCData/r_script_commands_list.txt\")\n",
        "\n",
        "f2 = open(\"/content/drive/MyDrive/SOCData/current_batch.txt\")\n",
        "\n",
        "current_step = int(f2.read())\n",
        "f2.close()\n",
        "\n",
        "commands = f.readlines()\n",
        "\n",
        "# procs = [Popen(i.strip(), shell = True, stdout=subprocess.PIPE) for i in commands[:50]]\n",
        "\n",
        "for i in range(current_step, 20000):\n",
        "    print(\"current:\"  + str(i))\n",
        "    with open(\"/content/drive/MyDrive/SOCData/current_batch.txt\", \"w\") as f2:\n",
        "        f2.write(str(i))\n",
        "    subprocess.run(commands[i].replace(\"HWSD.r\", hwsd_r_path), shell = True)"
      ]
    }
  ],
  "metadata": {
    "colab": {
      "provenance": [],
      "mount_file_id": "1zyI7LdEnelaDniOIQKvlwdSMFp2SQK0T",
      "authorship_tag": "ABX9TyMRipzO/xED2mB79986Klci"
    },
    "kernelspec": {
      "display_name": "Python 3",
      "name": "python3"
    },
    "language_info": {
      "name": "python"
    }
  },
  "nbformat": 4,
  "nbformat_minor": 0
}