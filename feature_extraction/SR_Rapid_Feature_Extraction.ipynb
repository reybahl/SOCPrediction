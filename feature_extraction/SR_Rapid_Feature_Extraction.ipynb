{
  "cells": [
    {
      "cell_type": "code",
      "execution_count": null,
      "metadata": {
        "colab": {
          "base_uri": "https://localhost:8080/"
        },
        "id": "WD6_a-R3-nJX",
        "outputId": "d38cb045-1100-4fd8-eedb-f5a2a626d5bd"
      },
      "outputs": [],
      "source": [
        "import ee\n",
        "\n",
        "# Trigger the authentication flow.\n",
        "ee.Authenticate()\n",
        "\n",
        "# Initialize the library.\n",
        "ee.Initialize()"
      ]
    },
    {
      "cell_type": "code",
      "execution_count": null,
      "metadata": {
        "id": "HDS6GZk0BIET"
      },
      "outputs": [],
      "source": [
        "def select(long1, lat1, long2, lat2):\n",
        "    rectangle = ee.Geometry.Rectangle([long1, lat1, long2, lat2])\n",
        "\n",
        "    dataset = \"LANDSAT/LC08/C01/T1_SR\"\n",
        "\n",
        "    l8 = ee.ImageCollection(dataset)\n",
        "\n",
        "    img = ee.Image(\n",
        "        l8.filterBounds(rectangle)\n",
        "            .filterDate('2015-01-01',\n",
        "                '2015-12-31')\n",
        "            .sort('CLOUD_COVER').first()\n",
        "    )\n",
        "    return img.clip(rectangle).select(list(range(11)))"
      ]
    },
    {
      "cell_type": "code",
      "execution_count": null,
      "metadata": {
        "id": "3Xt5TDC4WQnw"
      },
      "outputs": [],
      "source": [
        "!pip install spyndex"
      ]
    },
    {
      "cell_type": "code",
      "execution_count": null,
      "metadata": {
        "id": "EgA1OxVDXGD-"
      },
      "outputs": [],
      "source": [
        "import spyndex"
      ]
    },
    {
      "cell_type": "code",
      "execution_count": null,
      "metadata": {
        "id": "yySehDV-iqGd"
      },
      "outputs": [],
      "source": [
        "!pip install -q kaggle"
      ]
    },
    {
      "cell_type": "code",
      "execution_count": null,
      "metadata": {
        "id": "fgFiiPVri6kD"
      },
      "outputs": [],
      "source": [
        "! mkdir ~/.kaggle\n",
        "\n",
        "! cp /content/drive/MyDrive/important/kaggle.json ~/.kaggle/"
      ]
    },
    {
      "cell_type": "code",
      "execution_count": null,
      "metadata": {
        "id": "tIzk7eyZjCZ6"
      },
      "outputs": [],
      "source": [
        "! chmod 600 ~/.kaggle/kaggle.json"
      ]
    },
    {
      "cell_type": "code",
      "execution_count": null,
      "metadata": {
        "colab": {
          "base_uri": "https://localhost:8080/"
        },
        "id": "11S9FYHRjPhv",
        "outputId": "0ec6d0ba-fa03-4ef6-eab2-f698be8ca1aa"
      },
      "outputs": [],
      "source": [
        "!kaggle datasets download -d reymaster/hwsd-landsat-processed"
      ]
    },
    {
      "cell_type": "code",
      "execution_count": null,
      "metadata": {
        "colab": {
          "base_uri": "https://localhost:8080/"
        },
        "id": "ByyFx-QbjsNu",
        "outputId": "586c0d52-0325-4bd4-ec6c-6959af044a28"
      },
      "outputs": [],
      "source": [
        "! unzip \"hwsd-landsat-processed.zip\" -d latdata"
      ]
    },
    {
      "cell_type": "code",
      "execution_count": null,
      "metadata": {
        "colab": {
          "base_uri": "https://localhost:8080/"
        },
        "id": "Xa-cJMDmjkN_",
        "outputId": "93d126f6-7f4d-4b93-a5ef-0d87fdce5c99"
      },
      "outputs": [],
      "source": [
        "!ls"
      ]
    },
    {
      "cell_type": "code",
      "execution_count": null,
      "metadata": {
        "colab": {
          "base_uri": "https://localhost:8080/"
        },
        "id": "zz8aioQjgQ6P",
        "outputId": "27139cd8-75f2-4955-92bf-e1b166ccb0c7"
      },
      "outputs": [],
      "source": [
        "import pandas as pd\n",
        "latdata = pd.read_csv('latdata/latdata/latdata.csv').to_numpy()\n",
        "latdata.shape"
      ]
    },
    {
      "cell_type": "code",
      "execution_count": null,
      "metadata": {
        "id": "zo1rk7KvWhXj"
      },
      "outputs": [],
      "source": [
        "def compute_indices (img):\n",
        "    dataset = \"LANDSAT/LC08/C01/T1_SR\"\n",
        "\n",
        "    parameters = {\n",
        "        \"A\": img.select(\"B1\"),\n",
        "        \"B\": img.select(\"B2\"),\n",
        "        \"G\": img.select(\"B3\"),\n",
        "        \"R\": img.select(\"B4\"),\n",
        "        \"N\": img.select(\"B5\"),\n",
        "        \"S1\": img.select(\"B6\"),\n",
        "        \"S2\": img.select(\"B7\"),\n",
        "        \"T1\": img.select(\"B10\"),\n",
        "        \"T2\": img.select(\"B11\"),\n",
        "        \"L\" : 1, \n",
        "        \"g\" : 2.5, \"C1\" : 6, \"C2\" : 7.5\n",
        "    }\n",
        "\n",
        "\n",
        "    indices = ['AFRI1600','AFRI2100','ANDWI','AVI','AWEInsh','AWEIsh','BAI','BAIM','BCC','BI','BLFEI','BNDVI','BRBA','BaI','CIG','CSI','CSIT','CVI','DBI','DBSI','DSI','DSWI1','DSWI2','DSWI3','DSWI4','DSWI5','DVI','EBBI','EMBI','EVI','EVI2','ExG','ExGR','ExR','FCVI','GARI','GBNDVI','GCC','GEMI','GLI','GNDVI','GOSAVI','GRNDVI','GRVI','GSAVI','GVMI','IBI','IKAW','IPVI','LSWI','MBI','MCARI1','MCARI2','MGRVI','MIRBI','MLSWI26','MLSWI27','MNDVI','MNDWI','MNLI','MRBVI','MSAVI','MSI','MSR','MTVI1','MTVI2','MuWIR','NBAI','NBLI','NBR','NBR2','NBRSWIR','NBRT1','NBRT2','NBRT3','NBSIMS','NBUI','NDBI','NDBaI','NDDI','NDGlaI','NDII','NDISIb','NDISIg','NDISImndwi','NDISIndwi','NDISIr','NDMI','NDPonI','NDSI','NDSII','NDSWIR','NDSaII','NDTI','NDVI','NDVIMNDWI','NDVIT','NDWI','NDYI','NGRDI','NIRv','NLI','NMDI','NRFIg','NRFIr','NSDS','NSDSI1','NSDSI2','NSDSI3','NSTv1','NSTv2','NWI','NormG','NormNIR','NormR','OSAVI','PISI','RCC','RDVI','RGBVI','RGRI','RI','RI4XS','S3','SARVI','SAVI','SAVIT','SI','SIPI','SR','SR2','SWI','SWM','TDVI','TGI','TVI','TriVI','UI','VARI','VI6T','VIBI','VIG','VgNIRBI','VrNIRBI','WI1','WI2','WI2015','WRI']\n",
        "    \n",
        "\n",
        "    for x in range(0, len(indices), 2):\n",
        "        try:\n",
        "            img = img.addBands(spyndex.computeIndex([indices[x], indices[x + 1]], parameters))\n",
        "        except Exception as e:\n",
        "            pass\n",
        "\n",
        "    meanDict = img.reduceRegion(\n",
        "        reducer= ee.Reducer.mean(),\n",
        "        geometry= img.geometry(),\n",
        "        scale= 90,\n",
        "        maxPixels= 40e9\n",
        "    )\n",
        "\n",
        "    # mappedDictionary = meanDict.map(lambda key, val:  val if val is not None else 0)\n",
        "\n",
        "    return meanDict\n"
      ]
    },
    {
      "cell_type": "code",
      "execution_count": null,
      "metadata": {
        "id": "e2RKRXZArm8r"
      },
      "outputs": [],
      "source": [
        "import numpy as np\n",
        "sample = latdata[np.random.randint(latdata.shape[0], size=10000), :]"
      ]
    },
    {
      "cell_type": "code",
      "execution_count": null,
      "metadata": {
        "colab": {
          "base_uri": "https://localhost:8080/"
        },
        "id": "TI2FCGu4gfKQ",
        "outputId": "cd26ddb0-0ec5-409a-a0e2-dc396e84c5fd"
      },
      "outputs": [],
      "source": [
        "def process_image(long1, lat1, long2, lat2, MU_GLOBAL):\n",
        "\t# Combine selecting area, pan-sharpening, illumination, topographic correction, and spectral indices\n",
        "\n",
        "    img = select(long1, lat1, long2, lat2)\n",
        "\n",
        "    img = img.scaleAndOffset()    \n",
        "    indices = compute_indices(img);\n",
        "\n",
        "    return indices.set('MU_GLOBAL', MU_GLOBAL).getInfo()\n",
        "\n",
        "features = [];\n",
        "\n",
        "for i in range(len(sample)):\n",
        "    processed = process_image(sample[i][1], sample[i][3], sample[i][2], sample[i][4], sample[i][0]);\n",
        "    features.append(processed);\n",
        "    print(i)\n",
        "    if i % 100 == 0:\n",
        "        df =  pd.DataFrame(features)\n",
        "        df.to_csv(\"/content/drive/MyDrive/SOC/Data/SRFastFeatures.csv\", index = False)"
      ]
    }
  ],
  "metadata": {
    "colab": {
      "authorship_tag": "ABX9TyMqQJOiuqRiSFsljnf8j7vf",
      "mount_file_id": "1TwZP4s_d8nB5dTq5mphG_c9y5RDAm2wT",
      "provenance": []
    },
    "kernelspec": {
      "display_name": "Python 3.9.2 64-bit",
      "language": "python",
      "name": "python3"
    },
    "language_info": {
      "name": "python",
      "version": "3.9.2"
    },
    "vscode": {
      "interpreter": {
        "hash": "31f2aee4e71d21fbe5cf8b01ff0e069b9275f58929596ceb00d14d90e3e16cd6"
      }
    }
  },
  "nbformat": 4,
  "nbformat_minor": 0
}
