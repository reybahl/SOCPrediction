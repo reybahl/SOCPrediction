{
  "cells": [
    {
      "cell_type": "code",
      "execution_count": 1,
      "metadata": {
        "id": "WD6_a-R3-nJX",
        "colab": {
          "base_uri": "https://localhost:8080/"
        },
        "outputId": "d38cb045-1100-4fd8-eedb-f5a2a626d5bd"
      },
      "outputs": [
        {
          "output_type": "stream",
          "name": "stdout",
          "text": [
            "To authorize access needed by Earth Engine, open the following URL in a web browser and follow the instructions. If the web browser does not start automatically, please manually browse the URL below.\n",
            "\n",
            "    https://code.earthengine.google.com/client-auth?scopes=https%3A//www.googleapis.com/auth/earthengine%20https%3A//www.googleapis.com/auth/devstorage.full_control&request_id=wO1-CHJkIyqBJF4je70llsqG27Xb1-mkHk5TmKE_f8c&tc=4Lm9SpU1aXvzvT8M38kQFXUJtd03_CnK_JF-uYag-EY&cc=8JWAjSwhZ1B6GBT-UQDUjgu1xZrOKJKbh_LFC9xL14g\n",
            "\n",
            "The authorization workflow will generate a code, which you should paste in the box below.\n",
            "Enter verification code: 4/1AWgavdeDF3cmuw3avTZkFfUmZddBuk06yPvEPVxasXghhZCfxsSnpsIw7RI\n",
            "\n",
            "Successfully saved authorization token.\n"
          ]
        }
      ],
      "source": [
        "import ee\n",
        "\n",
        "# Trigger the authentication flow.\n",
        "ee.Authenticate()\n",
        "\n",
        "# Initialize the library.\n",
        "ee.Initialize()"
      ]
    },
    {
      "cell_type": "code",
      "execution_count": 2,
      "metadata": {
        "id": "HDS6GZk0BIET"
      },
      "outputs": [],
      "source": [
        "def select(long1, lat1, long2, lat2):\n",
        "    rectangle = ee.Geometry.Rectangle([long1, lat1, long2, lat2])\n",
        "\n",
        "    dataset = \"LANDSAT/LC08/C01/T1_SR\"\n",
        "\n",
        "    l8 = ee.ImageCollection(dataset)\n",
        "\n",
        "    img = ee.Image(\n",
        "        l8.filterBounds(rectangle)\n",
        "            .filterDate('2015-01-01',\n",
        "                '2015-12-31')\n",
        "            .sort('CLOUD_COVER').first()\n",
        "    )\n",
        "    return img.clip(rectangle).select(list(range(11)))"
      ]
    },
    {
      "cell_type": "code",
      "source": [
        "!pip install spyndex"
      ],
      "metadata": {
        "id": "3Xt5TDC4WQnw"
      },
      "execution_count": null,
      "outputs": []
    },
    {
      "cell_type": "code",
      "source": [
        "import spyndex"
      ],
      "metadata": {
        "id": "EgA1OxVDXGD-"
      },
      "execution_count": 5,
      "outputs": []
    },
    {
      "cell_type": "code",
      "source": [
        "!pip install -q kaggle"
      ],
      "metadata": {
        "id": "yySehDV-iqGd"
      },
      "execution_count": 11,
      "outputs": []
    },
    {
      "cell_type": "code",
      "source": [
        "! mkdir ~/.kaggle\n",
        "\n",
        "! cp /content/drive/MyDrive/important/kaggle.json ~/.kaggle/"
      ],
      "metadata": {
        "id": "fgFiiPVri6kD"
      },
      "execution_count": 12,
      "outputs": []
    },
    {
      "cell_type": "code",
      "source": [
        "! chmod 600 ~/.kaggle/kaggle.json"
      ],
      "metadata": {
        "id": "tIzk7eyZjCZ6"
      },
      "execution_count": 13,
      "outputs": []
    },
    {
      "cell_type": "code",
      "source": [
        "!kaggle datasets download -d reymaster/hwsd-landsat-processed"
      ],
      "metadata": {
        "id": "11S9FYHRjPhv",
        "outputId": "0ec6d0ba-fa03-4ef6-eab2-f698be8ca1aa",
        "colab": {
          "base_uri": "https://localhost:8080/"
        }
      },
      "execution_count": 15,
      "outputs": [
        {
          "output_type": "stream",
          "name": "stdout",
          "text": [
            "Downloading hwsd-landsat-processed.zip to /content\n",
            "100% 661M/662M [00:31<00:00, 20.2MB/s]\n",
            "100% 662M/662M [00:31<00:00, 21.8MB/s]\n"
          ]
        }
      ]
    },
    {
      "cell_type": "code",
      "source": [
        "! unzip \"hwsd-landsat-processed.zip\" -d latdata"
      ],
      "metadata": {
        "id": "ByyFx-QbjsNu",
        "outputId": "586c0d52-0325-4bd4-ec6c-6959af044a28",
        "colab": {
          "base_uri": "https://localhost:8080/"
        }
      },
      "execution_count": 18,
      "outputs": [
        {
          "output_type": "stream",
          "name": "stdout",
          "text": [
            "Archive:  hwsd-landsat-processed.zip\n",
            "  inflating: latdata/latdata/latdata.csv  \n",
            "  inflating: latdata/latdata2/latdata2.csv  \n"
          ]
        }
      ]
    },
    {
      "cell_type": "code",
      "source": [
        "!ls"
      ],
      "metadata": {
        "id": "Xa-cJMDmjkN_",
        "outputId": "93d126f6-7f4d-4b93-a5ef-0d87fdce5c99",
        "colab": {
          "base_uri": "https://localhost:8080/"
        }
      },
      "execution_count": 19,
      "outputs": [
        {
          "output_type": "stream",
          "name": "stdout",
          "text": [
            "drive  hwsd-landsat-processed.zip  latdata  sample_data\n"
          ]
        }
      ]
    },
    {
      "cell_type": "code",
      "execution_count": 20,
      "metadata": {
        "id": "zz8aioQjgQ6P",
        "colab": {
          "base_uri": "https://localhost:8080/"
        },
        "outputId": "27139cd8-75f2-4955-92bf-e1b166ccb0c7"
      },
      "outputs": [
        {
          "output_type": "execute_result",
          "data": {
            "text/plain": [
              "(57384075, 5)"
            ]
          },
          "metadata": {},
          "execution_count": 20
        }
      ],
      "source": [
        "import pandas as pd\n",
        "latdata = pd.read_csv('latdata/latdata/latdata.csv').to_numpy()\n",
        "latdata.shape"
      ]
    },
    {
      "cell_type": "code",
      "source": [
        "def compute_indices (img):\n",
        "    dataset = \"LANDSAT/LC08/C01/T1_SR\"\n",
        "\n",
        "    parameters = {\n",
        "        \"A\": img.select(\"B1\"),\n",
        "        \"B\": img.select(\"B2\"),\n",
        "        \"G\": img.select(\"B3\"),\n",
        "        \"R\": img.select(\"B4\"),\n",
        "        \"N\": img.select(\"B5\"),\n",
        "        \"S1\": img.select(\"B6\"),\n",
        "        \"S2\": img.select(\"B7\"),\n",
        "        \"T1\": img.select(\"B10\"),\n",
        "        \"T2\": img.select(\"B11\"),\n",
        "        \"L\" : 1, \n",
        "        \"g\" : 2.5, \"C1\" : 6, \"C2\" : 7.5\n",
        "    }\n",
        "\n",
        "\n",
        "    indices = ['AFRI1600','AFRI2100','ANDWI','AVI','AWEInsh','AWEIsh','BAI','BAIM','BCC','BI','BLFEI','BNDVI','BRBA','BaI','CIG','CSI','CSIT','CVI','DBI','DBSI','DSI','DSWI1','DSWI2','DSWI3','DSWI4','DSWI5','DVI','EBBI','EMBI','EVI','EVI2','ExG','ExGR','ExR','FCVI','GARI','GBNDVI','GCC','GEMI','GLI','GNDVI','GOSAVI','GRNDVI','GRVI','GSAVI','GVMI','IBI','IKAW','IPVI','LSWI','MBI','MCARI1','MCARI2','MGRVI','MIRBI','MLSWI26','MLSWI27','MNDVI','MNDWI','MNLI','MRBVI','MSAVI','MSI','MSR','MTVI1','MTVI2','MuWIR','NBAI','NBLI','NBR','NBR2','NBRSWIR','NBRT1','NBRT2','NBRT3','NBSIMS','NBUI','NDBI','NDBaI','NDDI','NDGlaI','NDII','NDISIb','NDISIg','NDISImndwi','NDISIndwi','NDISIr','NDMI','NDPonI','NDSI','NDSII','NDSWIR','NDSaII','NDTI','NDVI','NDVIMNDWI','NDVIT','NDWI','NDYI','NGRDI','NIRv','NLI','NMDI','NRFIg','NRFIr','NSDS','NSDSI1','NSDSI2','NSDSI3','NSTv1','NSTv2','NWI','NormG','NormNIR','NormR','OSAVI','PISI','RCC','RDVI','RGBVI','RGRI','RI','RI4XS','S3','SARVI','SAVI','SAVIT','SI','SIPI','SR','SR2','SWI','SWM','TDVI','TGI','TVI','TriVI','UI','VARI','VI6T','VIBI','VIG','VgNIRBI','VrNIRBI','WI1','WI2','WI2015','WRI']\n",
        "    \n",
        "\n",
        "    for x in range(0, len(indices), 2):\n",
        "        try:\n",
        "            img = img.addBands(spyndex.computeIndex([indices[x], indices[x + 1]], parameters))\n",
        "        except Exception as e:\n",
        "            pass\n",
        "\n",
        "    meanDict = img.reduceRegion(\n",
        "        reducer= ee.Reducer.mean(),\n",
        "        geometry= img.geometry(),\n",
        "        scale= 90,\n",
        "        maxPixels= 40e9\n",
        "    )\n",
        "\n",
        "    # mappedDictionary = meanDict.map(lambda key, val:  val if val is not None else 0)\n",
        "\n",
        "    return meanDict\n"
      ],
      "metadata": {
        "id": "zo1rk7KvWhXj"
      },
      "execution_count": 21,
      "outputs": []
    },
    {
      "cell_type": "code",
      "source": [
        "import numpy as np\n",
        "sample = latdata[np.random.randint(latdata.shape[0], size=10000), :]"
      ],
      "metadata": {
        "id": "e2RKRXZArm8r"
      },
      "execution_count": 26,
      "outputs": []
    },
    {
      "cell_type": "code",
      "execution_count": null,
      "metadata": {
        "id": "TI2FCGu4gfKQ",
        "colab": {
          "base_uri": "https://localhost:8080/"
        },
        "outputId": "cd26ddb0-0ec5-409a-a0e2-dc396e84c5fd"
      },
      "outputs": [
        {
          "output_type": "stream",
          "name": "stdout",
          "text": [
            "0\n",
            "1\n",
            "2\n",
            "3\n",
            "4\n",
            "5\n",
            "6\n",
            "7\n",
            "8\n",
            "9\n",
            "10\n",
            "11\n"
          ]
        }
      ],
      "source": [
        "def process_image(long1, lat1, long2, lat2, MU_GLOBAL):\n",
        "\t# Combine selecting area, pan-sharpening, illumination, topographic correction, and spectral indices\n",
        "\n",
        "    img = select(long1, lat1, long2, lat2)\n",
        "\n",
        "    img = img.scaleAndOffset()    \n",
        "    indices = compute_indices(img);\n",
        "\n",
        "    return indices.set('MU_GLOBAL', MU_GLOBAL).getInfo()\n",
        "\n",
        "features = [];\n",
        "\n",
        "for i in range(len(sample)):\n",
        "    processed = process_image(sample[i][1], sample[i][3], sample[i][2], sample[i][4], sample[i][0]);\n",
        "    features.append(processed);\n",
        "    print(i)\n",
        "    if i % 100 == 0:\n",
        "        df =  pd.DataFrame(features)\n",
        "        df.to_csv(\"/content/drive/MyDrive/SOC/Data/SRFastFeatures.csv\", index = False)"
      ]
    }
  ],
  "metadata": {
    "colab": {
      "provenance": [],
      "mount_file_id": "1TwZP4s_d8nB5dTq5mphG_c9y5RDAm2wT",
      "authorship_tag": "ABX9TyMqQJOiuqRiSFsljnf8j7vf"
    },
    "kernelspec": {
      "display_name": "Python 3",
      "name": "python3"
    },
    "language_info": {
      "name": "python"
    }
  },
  "nbformat": 4,
  "nbformat_minor": 0
}