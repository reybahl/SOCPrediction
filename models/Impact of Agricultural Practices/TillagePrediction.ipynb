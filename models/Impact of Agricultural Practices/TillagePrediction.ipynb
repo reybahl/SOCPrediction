{
  "cells": [
    {
      "cell_type": "code",
      "execution_count": null,
      "metadata": {
        "id": "hzNm74xUKidg"
      },
      "outputs": [],
      "source": [
        "import pandas as pd\n",
        "df_list = [pd.read_csv('/content/drive/MyDrive/SOC/Data/AgEvidence/tillage/tillage0.csv'),\n",
        "           pd.read_csv('/content/drive/MyDrive/SOC/Data/AgEvidence/tillage/tillage1.csv'),\n",
        "           pd.read_csv('/content/drive/MyDrive/SOC/Data/AgEvidence/tillage/tillage2.csv')]\n",
        "df = pd.concat(df_list, axis = 0)\n",
        "df"
      ]
    },
    {
      "cell_type": "code",
      "execution_count": null,
      "metadata": {
        "id": "PQ3Hur8aLSj1"
      },
      "outputs": [],
      "source": [
        "df.rv = df.rv.str.lower()"
      ]
    },
    {
      "cell_type": "code",
      "execution_count": null,
      "metadata": {
        "id": "cvnGM4WTKlVJ"
      },
      "outputs": [],
      "source": [
        "df = df.query('rv.str.contains(\"soil\") and rv.str.contains(\"organic\") and rv.str.contains(\"carbon\") and not rv.str.contains(\"poc\") and not rv.str.contains(\"particulate\")', engine='python')"
      ]
    },
    {
      "cell_type": "code",
      "execution_count": null,
      "metadata": {
        "id": "gzwZYkJfLEry"
      },
      "outputs": [],
      "source": [
        "df.rv.value_counts()"
      ]
    },
    {
      "cell_type": "code",
      "execution_count": null,
      "metadata": {
        "id": "Fw-19DlSLek2"
      },
      "outputs": [],
      "source": [
        "df.rvUnits.value_counts()"
      ]
    },
    {
      "cell_type": "markdown",
      "metadata": {
        "id": "KMCBf-kjItYB"
      },
      "source": [
        "Convert Units"
      ]
    },
    {
      "cell_type": "code",
      "execution_count": null,
      "metadata": {
        "id": "DIf7aCz5IwAF"
      },
      "outputs": [],
      "source": [
        "# change all g/kg variants to g/kg\n",
        "units = list(df.rvUnits)\n",
        "for i in range(len(units)):\n",
        "    if \"/kg\" in units[i]:\n",
        "        units[i] = \"g/kg\""
      ]
    },
    {
      "cell_type": "code",
      "execution_count": null,
      "metadata": {
        "id": "LWB9zhZeJP0d"
      },
      "outputs": [],
      "source": [
        "# change to percent\n",
        "control_values = list(df.controlValue)\n",
        "for i in range(len(units)):\n",
        "    # g/100 g and % are already in percent\n",
        "    if units[i] == \"g/kg\":\n",
        "        control_values[i] *= 0.1\n",
        "\n",
        "# df.controlValue = control_values"
      ]
    },
    {
      "cell_type": "code",
      "execution_count": null,
      "metadata": {
        "id": "EwusL4x-KMZW"
      },
      "outputs": [],
      "source": [
        "df"
      ]
    },
    {
      "cell_type": "code",
      "execution_count": null,
      "metadata": {
        "id": "6Lcrxr0tzGkT"
      },
      "outputs": [],
      "source": [
        "df.columns"
      ]
    },
    {
      "cell_type": "code",
      "execution_count": null,
      "metadata": {
        "id": "jxdd6Zn1Lql4"
      },
      "outputs": [],
      "source": [
        "feature_cols = [\n",
        "    \"control\",\n",
        "    \"rvUnits\",\n",
        "    \"controlValue\",\n",
        "    \"treatment\",\n",
        "    \"sampleDepth\",\n",
        "    \"studyLength\",\n",
        "    \"startYear\",\n",
        "    \"norm\"\n",
        "]"
      ]
    },
    {
      "cell_type": "code",
      "execution_count": null,
      "metadata": {
        "id": "y5pwUBE9MvnG"
      },
      "outputs": [],
      "source": [
        "X = df[feature_cols]\n",
        "y = df['percentChange']"
      ]
    },
    {
      "cell_type": "code",
      "execution_count": null,
      "metadata": {
        "id": "J0InKx4ANiUD"
      },
      "outputs": [],
      "source": [
        "X.isnull().sum()"
      ]
    },
    {
      "cell_type": "code",
      "execution_count": null,
      "metadata": {
        "id": "0oIq8viqKY8r"
      },
      "outputs": [],
      "source": [
        "X"
      ]
    },
    {
      "cell_type": "code",
      "execution_count": null,
      "metadata": {
        "id": "rrtu8FRSMwfx"
      },
      "outputs": [],
      "source": [
        "from sklearn.preprocessing import OrdinalEncoder\n",
        "\n",
        "encoder = OrdinalEncoder()\n",
        "to_encode = [\"control\", \"treatment\", \"sampleDepth\", \"rvUnits\"]\n",
        "\n",
        "X[to_encode] = encoder.fit_transform(X[to_encode])"
      ]
    },
    {
      "cell_type": "code",
      "execution_count": null,
      "metadata": {
        "id": "4y1IkSTsOWAC"
      },
      "outputs": [],
      "source": [
        "X"
      ]
    },
    {
      "cell_type": "code",
      "execution_count": null,
      "metadata": {
        "id": "JnN7EzsPObUB"
      },
      "outputs": [],
      "source": [
        "X.fillna(0, inplace = True)\n",
        "X.isnull().sum()"
      ]
    },
    {
      "cell_type": "code",
      "execution_count": null,
      "metadata": {
        "id": "beEtV7JoQiob"
      },
      "outputs": [],
      "source": [
        "from sklearn.model_selection import train_test_split\n",
        "\n",
        "X_train, X_test, y_train, y_test = train_test_split(X, y, random_state=42)"
      ]
    },
    {
      "cell_type": "code",
      "execution_count": null,
      "metadata": {
        "id": "qYJpRHVdQzWl"
      },
      "outputs": [],
      "source": [
        "assert len(X_train) == len(y_train)\n",
        "assert len(X_test) == len(y_test)"
      ]
    },
    {
      "cell_type": "markdown",
      "metadata": {
        "id": "Qp_PqmAa_caS"
      },
      "source": [
        "# Decision Tree Regressor"
      ]
    },
    {
      "cell_type": "code",
      "execution_count": null,
      "metadata": {
        "id": "c9PcQHDx_e7a"
      },
      "outputs": [],
      "source": [
        "from sklearn.tree import DecisionTreeRegressor\n",
        "\n",
        "dt = DecisionTreeRegressor()\n",
        "dt.fit(X_train, y_train)"
      ]
    },
    {
      "cell_type": "markdown",
      "metadata": {
        "id": "OYEHfetasAo6"
      },
      "source": [
        "# Random Forest Regressor"
      ]
    },
    {
      "cell_type": "code",
      "execution_count": null,
      "metadata": {
        "id": "qbe1nzH_r_6e"
      },
      "outputs": [],
      "source": [
        "from sklearn.ensemble import RandomForestRegressor\n",
        "\n",
        "rf = RandomForestRegressor()\n",
        "rf.fit(X_train, y_train)"
      ]
    },
    {
      "cell_type": "markdown",
      "metadata": {
        "id": "ePUxhOzV_v1N"
      },
      "source": [
        "# XGBoost"
      ]
    },
    {
      "cell_type": "code",
      "execution_count": null,
      "metadata": {
        "id": "doV2skXS_zHz"
      },
      "outputs": [],
      "source": [
        "from xgboost import XGBRegressor\n",
        "\n",
        "X_train_xgb, X_val, y_train_xgb, y_val = train_test_split(X_train, y_train)\n",
        "\n",
        "xgb = XGBRegressor(n_estimators=1500, learning_rate=0.01, eval_metric=\"rmse\", early_stopping_rounds=10)\n",
        "xgb.fit(X_train, y_train, verbose =100)"
      ]
    },
    {
      "cell_type": "markdown",
      "metadata": {
        "id": "e4jWU28RA4w6"
      },
      "source": [
        "# SVM"
      ]
    },
    {
      "cell_type": "code",
      "execution_count": null,
      "metadata": {
        "id": "5vV0w6TpA5tm"
      },
      "outputs": [],
      "source": [
        "from sklearn.svm import SVR\n",
        "\n",
        "svr = SVR(C=1.0, epsilon=0.2)\n",
        "svr.fit(X_train, y_train)"
      ]
    },
    {
      "cell_type": "markdown",
      "metadata": {
        "id": "7dFVF4TmBjQ6"
      },
      "source": [
        "# LGBM"
      ]
    },
    {
      "cell_type": "code",
      "execution_count": null,
      "metadata": {
        "id": "NFgyAsBdBilr"
      },
      "outputs": [],
      "source": [
        "import lightgbm\n",
        "\n",
        "hyper_params = {\n",
        "    'objective': 'regression',\n",
        "    'metric': 'rmse',\n",
        "    'learning_rate': 0.005,\n",
        "    'verbose': -1,\n",
        "    'n_estimators': 1000,\n",
        "    'random_state' : 0\n",
        "}\n",
        "\n",
        "lgbm = lightgbm.LGBMRegressor(**hyper_params)\n",
        "\n",
        "lgbm.fit(X_train_xgb,\n",
        "         y_train_xgb,\n",
        "         eval_set = [(X_val, y_val)],\n",
        "         callbacks = [lightgbm.early_stopping(stopping_rounds = 20)],\n",
        "         verbose = 100\n",
        ")"
      ]
    },
    {
      "cell_type": "markdown",
      "metadata": {
        "id": "uilHrP8osRWb"
      },
      "source": [
        "# RMSE"
      ]
    },
    {
      "cell_type": "code",
      "execution_count": null,
      "metadata": {
        "id": "z5Bc4MuJsNEE"
      },
      "outputs": [],
      "source": [
        "from sklearn.metrics import mean_squared_error\n",
        "\n",
        "models_list = {\n",
        "    \"Decision Tree\" : dt,\n",
        "    \"Random Forest\" : rf,\n",
        "    \"XGBoost\" : xgb,\n",
        "    \"SVR\" : svr,\n",
        "    \"LGBM\" : lgbm,\n",
        "}\n",
        "\n",
        "for name, model in models_list.items():\n",
        "    print(name + \": \" + str(round(mean_squared_error(model.predict(X_test), y_test, squared = False), 5)))"
      ]
    },
    {
      "cell_type": "markdown",
      "metadata": {
        "id": "j58fhS6A4VRj"
      },
      "source": [
        "# Download Objects for API"
      ]
    },
    {
      "cell_type": "code",
      "execution_count": null,
      "metadata": {
        "id": "U7Zy-Vss4R8e"
      },
      "outputs": [],
      "source": [
        "import pickle\n",
        "\n",
        "pickle.dump(encoder, open(\"tillage_encoder.pickle\", \"wb\"))\n",
        "pickle.dump(rf, open(\"tillage_random_forest.pickle\", \"wb\"))"
      ]
    }
  ],
  "metadata": {
    "colab": {
      "authorship_tag": "ABX9TyP+jIJOoPg6cVakL1RuTHG4",
      "mount_file_id": "161nayf6wIRaOK-AHYa8yQJ4IcLNTJZs_",
      "provenance": []
    },
    "kernelspec": {
      "display_name": "Python 3.9.2 64-bit",
      "language": "python",
      "name": "python3"
    },
    "language_info": {
      "name": "python",
      "version": "3.9.2"
    },
    "vscode": {
      "interpreter": {
        "hash": "31f2aee4e71d21fbe5cf8b01ff0e069b9275f58929596ceb00d14d90e3e16cd6"
      }
    }
  },
  "nbformat": 4,
  "nbformat_minor": 0
}
