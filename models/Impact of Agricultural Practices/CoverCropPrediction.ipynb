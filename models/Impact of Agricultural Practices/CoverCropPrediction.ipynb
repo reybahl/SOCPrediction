{
  "nbformat": 4,
  "nbformat_minor": 0,
  "metadata": {
    "colab": {
      "provenance": [],
      "mount_file_id": "1dbsu7e4ReSrgixDKjzEwV2JLV3AcjWEC",
      "authorship_tag": "ABX9TyPDPf/WhmoE435O5FFp1VGb"
    },
    "kernelspec": {
      "name": "python3",
      "display_name": "Python 3"
    },
    "language_info": {
      "name": "python"
    }
  },
  "cells": [
    {
      "cell_type": "code",
      "source": [
        "!pip install scikit-learn==1.2.0"
      ],
      "metadata": {
        "id": "uabdpEYQWZkt"
      },
      "execution_count": null,
      "outputs": []
    },
    {
      "cell_type": "code",
      "execution_count": null,
      "metadata": {
        "id": "hzNm74xUKidg"
      },
      "outputs": [],
      "source": [
        "import pandas as pd\n",
        "df_list = [pd.read_csv('/content/drive/MyDrive/SOC/Data/AgEvidence/cover crops/cover_crops0.csv')]\n",
        "df = pd.concat(df_list, axis = 0)\n",
        "df"
      ]
    },
    {
      "cell_type": "code",
      "source": [
        "df.rv = df.rv.str.lower()"
      ],
      "metadata": {
        "id": "PQ3Hur8aLSj1"
      },
      "execution_count": null,
      "outputs": []
    },
    {
      "cell_type": "code",
      "source": [
        "df = df.query('rv.str.contains(\"soil\") and rv.str.contains(\"organic\") and rv.str.contains(\"carbon\") and not rv.str.contains(\"poc\") and not rv.str.contains(\"particulate\")', engine='python')"
      ],
      "metadata": {
        "id": "cvnGM4WTKlVJ"
      },
      "execution_count": null,
      "outputs": []
    },
    {
      "cell_type": "code",
      "source": [
        "df.rv.value_counts()"
      ],
      "metadata": {
        "id": "gzwZYkJfLEry"
      },
      "execution_count": null,
      "outputs": []
    },
    {
      "cell_type": "code",
      "source": [
        "df.rvUnits.value_counts()"
      ],
      "metadata": {
        "id": "Fw-19DlSLek2"
      },
      "execution_count": null,
      "outputs": []
    },
    {
      "cell_type": "code",
      "source": [
        "# change all g/kg variants to g/kg\n",
        "units = list(df.rvUnits)\n",
        "for i in range(len(units)):\n",
        "    if \"/kg\" in units[i]:\n",
        "        units[i] = \"g/kg\"\n",
        "\n",
        "# df.rvUnits = units\n",
        "# df.rvUnits.value_counts()"
      ],
      "metadata": {
        "id": "DIf7aCz5IwAF"
      },
      "execution_count": null,
      "outputs": []
    },
    {
      "cell_type": "code",
      "source": [
        "# change to percent\n",
        "control_values = list(df.controlValue)\n",
        "for i in range(len(units)):\n",
        "    # g/100 g and % are already in percent\n",
        "    if units[i] == \"g/kg\":\n",
        "        control_values[i] *= 0.1\n",
        "\n",
        "# df.controlValue = control_values"
      ],
      "metadata": {
        "id": "LWB9zhZeJP0d"
      },
      "execution_count": null,
      "outputs": []
    },
    {
      "cell_type": "code",
      "source": [
        "df.columns"
      ],
      "metadata": {
        "id": "EwusL4x-KMZW"
      },
      "execution_count": null,
      "outputs": []
    },
    {
      "cell_type": "code",
      "source": [
        "df[\"Number of Species\"].value_counts()"
      ],
      "metadata": {
        "id": "u1yAyatOpj4D"
      },
      "execution_count": null,
      "outputs": []
    },
    {
      "cell_type": "code",
      "source": [
        "feature_cols = [\n",
        "    \"rvUnits\",\n",
        "    \"controlValue\",\n",
        "    \"Type of Species\",\n",
        "    \"Number of Species\",\n",
        "    \"sampleDepth\",\n",
        "    \"studyLength\",\n",
        "    \"startYear\",\n",
        "    \"norm\"\n",
        "]"
      ],
      "metadata": {
        "id": "jxdd6Zn1Lql4"
      },
      "execution_count": null,
      "outputs": []
    },
    {
      "cell_type": "code",
      "source": [
        "X = df[feature_cols]\n",
        "y = df['percentChange']"
      ],
      "metadata": {
        "id": "y5pwUBE9MvnG"
      },
      "execution_count": null,
      "outputs": []
    },
    {
      "cell_type": "code",
      "source": [
        "X.isnull().sum()"
      ],
      "metadata": {
        "id": "J0InKx4ANiUD"
      },
      "execution_count": null,
      "outputs": []
    },
    {
      "cell_type": "code",
      "source": [
        "X.sampleDepth.value_counts()"
      ],
      "metadata": {
        "id": "RjQeGkXuN2U3"
      },
      "execution_count": null,
      "outputs": []
    },
    {
      "cell_type": "code",
      "source": [
        "X"
      ],
      "metadata": {
        "id": "0oIq8viqKY8r"
      },
      "execution_count": null,
      "outputs": []
    },
    {
      "cell_type": "code",
      "source": [
        "from sklearn.preprocessing import OrdinalEncoder\n",
        "\n",
        "encoder = OrdinalEncoder()\n",
        "to_encode = [\"Type of Species\", \"Number of Species\", \"sampleDepth\", \"rvUnits\"]\n",
        "\n",
        "X[to_encode] = encoder.fit_transform(X[to_encode])"
      ],
      "metadata": {
        "id": "rrtu8FRSMwfx"
      },
      "execution_count": null,
      "outputs": []
    },
    {
      "cell_type": "code",
      "source": [
        "X"
      ],
      "metadata": {
        "id": "4y1IkSTsOWAC"
      },
      "execution_count": null,
      "outputs": []
    },
    {
      "cell_type": "code",
      "source": [
        "X.fillna(0, inplace = True)\n",
        "X.isnull().sum()"
      ],
      "metadata": {
        "id": "JnN7EzsPObUB"
      },
      "execution_count": null,
      "outputs": []
    },
    {
      "cell_type": "code",
      "source": [
        "from sklearn.model_selection import train_test_split\n",
        "\n",
        "X_train, X_test, y_train, y_test = train_test_split(X, y, random_state=42)"
      ],
      "metadata": {
        "id": "beEtV7JoQiob"
      },
      "execution_count": null,
      "outputs": []
    },
    {
      "cell_type": "code",
      "source": [
        "assert len(X_train) == len(y_train)\n",
        "assert len(X_test) == len(y_test)"
      ],
      "metadata": {
        "id": "qYJpRHVdQzWl"
      },
      "execution_count": null,
      "outputs": []
    },
    {
      "cell_type": "markdown",
      "source": [
        "# Decision Tree Regressor"
      ],
      "metadata": {
        "id": "Qp_PqmAa_caS"
      }
    },
    {
      "cell_type": "code",
      "source": [
        "from sklearn.tree import DecisionTreeRegressor\n",
        "\n",
        "dt = DecisionTreeRegressor()\n",
        "dt.fit(X_train, y_train)"
      ],
      "metadata": {
        "id": "c9PcQHDx_e7a"
      },
      "execution_count": null,
      "outputs": []
    },
    {
      "cell_type": "markdown",
      "source": [
        "# Random Forest Regressor"
      ],
      "metadata": {
        "id": "OYEHfetasAo6"
      }
    },
    {
      "cell_type": "code",
      "source": [
        "from sklearn.ensemble import RandomForestRegressor\n",
        "\n",
        "rf = RandomForestRegressor()\n",
        "rf.fit(X_train, y_train)"
      ],
      "metadata": {
        "id": "qbe1nzH_r_6e"
      },
      "execution_count": null,
      "outputs": []
    },
    {
      "cell_type": "markdown",
      "source": [
        "# XGBoost"
      ],
      "metadata": {
        "id": "ePUxhOzV_v1N"
      }
    },
    {
      "cell_type": "code",
      "source": [
        "from xgboost import XGBRegressor\n",
        "\n",
        "X_train_xgb, X_val, y_train_xgb, y_val = train_test_split(X_train, y_train)\n",
        "\n",
        "xgb = XGBRegressor(n_estimators=1500, learning_rate=0.01, eval_metric=\"rmse\", early_stopping_rounds=10)\n",
        "xgb.fit(X_train, y_train, verbose =100)"
      ],
      "metadata": {
        "id": "doV2skXS_zHz"
      },
      "execution_count": null,
      "outputs": []
    },
    {
      "cell_type": "markdown",
      "source": [
        "# SVM"
      ],
      "metadata": {
        "id": "e4jWU28RA4w6"
      }
    },
    {
      "cell_type": "code",
      "source": [
        "from sklearn.svm import SVR\n",
        "\n",
        "svr = SVR(C=1.0, epsilon=0.2)\n",
        "svr.fit(X_train, y_train)"
      ],
      "metadata": {
        "id": "5vV0w6TpA5tm"
      },
      "execution_count": null,
      "outputs": []
    },
    {
      "cell_type": "markdown",
      "source": [
        "# LGBM"
      ],
      "metadata": {
        "id": "7dFVF4TmBjQ6"
      }
    },
    {
      "cell_type": "code",
      "source": [
        "import lightgbm\n",
        "\n",
        "hyper_params = {\n",
        "    'objective': 'regression',\n",
        "    'metric': 'rmse',\n",
        "    'learning_rate': 0.005,\n",
        "    'verbose': -1,\n",
        "    'n_estimators': 1000,\n",
        "    'random_state' : 0\n",
        "}\n",
        "\n",
        "lgbm = lightgbm.LGBMRegressor(**hyper_params)\n",
        "\n",
        "lgbm.fit(X_train_xgb,\n",
        "         y_train_xgb,\n",
        "         eval_set = [(X_val, y_val)],\n",
        "         callbacks = [lightgbm.early_stopping(stopping_rounds = 20)],\n",
        "         verbose = 100\n",
        ")"
      ],
      "metadata": {
        "id": "NFgyAsBdBilr"
      },
      "execution_count": null,
      "outputs": []
    },
    {
      "cell_type": "markdown",
      "source": [
        "# RMSE"
      ],
      "metadata": {
        "id": "uilHrP8osRWb"
      }
    },
    {
      "cell_type": "code",
      "source": [
        "from sklearn.metrics import mean_squared_error\n",
        "\n",
        "models_list = {\n",
        "    \"Decision Tree\" : dt,\n",
        "    \"Random Forest\" : rf,\n",
        "    \"XGBoost\" : xgb,\n",
        "    \"SVR\" : svr,\n",
        "    \"LGBM\" : lgbm,\n",
        "}\n",
        "\n",
        "for name, model in models_list.items():\n",
        "    print(name + \": \" + str(round(mean_squared_error(model.predict(X_test), y_test, squared = False), 5)))"
      ],
      "metadata": {
        "id": "z5Bc4MuJsNEE"
      },
      "execution_count": null,
      "outputs": []
    },
    {
      "cell_type": "markdown",
      "source": [
        "# Download Objects for API"
      ],
      "metadata": {
        "id": "aX-DuOHvV-gZ"
      }
    },
    {
      "cell_type": "code",
      "source": [
        "import pickle\n",
        "\n",
        "pickle.dump(encoder, open(\"cover_crop_encoder.pickle\", \"wb\"))\n",
        "pickle.dump(rf, open(\"cover_crop_random_forest.pickle\", \"wb\"))"
      ],
      "metadata": {
        "id": "1xo8G3UkWAZ4"
      },
      "execution_count": null,
      "outputs": []
    }
  ]
}