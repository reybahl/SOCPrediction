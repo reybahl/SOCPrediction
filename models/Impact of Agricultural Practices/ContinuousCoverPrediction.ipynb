{
  "nbformat": 4,
  "nbformat_minor": 0,
  "metadata": {
    "colab": {
      "provenance": [],
      "mount_file_id": "1Uz7y-9TP1AJCr2-NljOrvJtiv5auuOP4",
      "authorship_tag": "ABX9TyMdM2/njVBWbvTDnkpq1lBa"
    },
    "kernelspec": {
      "name": "python3",
      "display_name": "Python 3"
    },
    "language_info": {
      "name": "python"
    }
  },
  "cells": [
    {
      "cell_type": "code",
      "execution_count": null,
      "metadata": {
        "id": "hzNm74xUKidg"
      },
      "outputs": [],
      "source": [
        "import pandas as pd\n",
        "df_list = [pd.read_csv('/content/drive/MyDrive/SOC/Data/AgEvidence/continuous cover/continuous cover0.csv')]\n",
        "df = pd.concat(df_list, axis = 0)\n",
        "df"
      ]
    },
    {
      "cell_type": "code",
      "source": [
        "df.rv = df.rv.str.lower()"
      ],
      "metadata": {
        "id": "PQ3Hur8aLSj1"
      },
      "execution_count": null,
      "outputs": []
    },
    {
      "cell_type": "code",
      "source": [
        "df = df.query('rv.str.contains(\"carbon\") or rv.str.contains(\"organic matter fraction\")', engine='python')"
      ],
      "metadata": {
        "id": "cvnGM4WTKlVJ"
      },
      "execution_count": null,
      "outputs": []
    },
    {
      "cell_type": "code",
      "source": [
        "df"
      ],
      "metadata": {
        "id": "fnSW230EuMJ2"
      },
      "execution_count": null,
      "outputs": []
    },
    {
      "cell_type": "code",
      "source": [
        "df.rvUnits.value_counts()"
      ],
      "metadata": {
        "id": "Fw-19DlSLek2"
      },
      "execution_count": null,
      "outputs": []
    },
    {
      "cell_type": "code",
      "source": [
        "df.columns"
      ],
      "metadata": {
        "id": "2LP-ErzkukRh"
      },
      "execution_count": null,
      "outputs": []
    },
    {
      "cell_type": "markdown",
      "source": [
        "One-hot encoding"
      ],
      "metadata": {
        "id": "KMCBf-kjItYB"
      }
    },
    {
      "cell_type": "code",
      "source": [
        "df[\"control\"].value_counts()"
      ],
      "metadata": {
        "id": "gzwZYkJfLEry"
      },
      "execution_count": null,
      "outputs": []
    },
    {
      "cell_type": "code",
      "source": [
        "def encode(data, variable):\n",
        "    return int(variable in data)"
      ],
      "metadata": {
        "id": "j7vaO8Ibbrnx"
      },
      "execution_count": null,
      "outputs": []
    },
    {
      "cell_type": "code",
      "source": [
        "import ast"
      ],
      "metadata": {
        "id": "zBwk73pLdRLQ"
      },
      "execution_count": null,
      "outputs": []
    },
    {
      "cell_type": "code",
      "source": [
        "controls = set()\n",
        "for val, count in df[\"control\"].value_counts().iteritems():    \n",
        "    for control in ast.literal_eval(val):\n",
        "        controls.add(control)\n",
        "controls"
      ],
      "metadata": {
        "id": "zetwZGPcaP48"
      },
      "execution_count": null,
      "outputs": []
    },
    {
      "cell_type": "code",
      "source": [
        "treatments = set()\n",
        "for val, count in df[\"treatment\"].value_counts().iteritems():    \n",
        "    for treatment in ast.literal_eval(val):\n",
        "        treatments.add(treatment)\n",
        "treatments"
      ],
      "metadata": {
        "id": "v65JGb0adHoh"
      },
      "execution_count": null,
      "outputs": []
    },
    {
      "cell_type": "code",
      "source": [
        "croptype = set()\n",
        "for val, count in df[\"croptype\"].value_counts().iteritems():    \n",
        "    for _croptype in ast.literal_eval(val):\n",
        "        croptype.add(_croptype)\n",
        "croptype"
      ],
      "metadata": {
        "id": "_v3JdbrsvUwR"
      },
      "execution_count": null,
      "outputs": []
    },
    {
      "cell_type": "code",
      "source": [
        "for x in controls:\n",
        "    df[x + \"_control\"] = df['control'].apply(encode, args = [x])\n",
        "    \n",
        "for x in treatments:\n",
        "    df[x + \"_treatment\"] = df['treatment'].apply(encode, args = [x])\n",
        "\n",
        "for x in croptype:\n",
        "    df[x + \"_croptype\"] = df['croptype'].apply(encode, args = [x])"
      ],
      "metadata": {
        "id": "kjCwIN0_dXDB"
      },
      "execution_count": null,
      "outputs": []
    },
    {
      "cell_type": "code",
      "source": [
        "df.columns"
      ],
      "metadata": {
        "id": "EwusL4x-KMZW"
      },
      "execution_count": null,
      "outputs": []
    },
    {
      "cell_type": "code",
      "source": [
        "feature_cols = [\n",
        "    \"rvUnits\",\n",
        "    \"startYear\",\n",
        "    \"studyLength\",\n",
        "    \"sampleDepth\",\n",
        "    \"controlValue\",\n",
        "    \"norm\",\n",
        "    \"numspecies\",\n",
        "    \"speciestype\",\n",
        "    \"fertilization\",\n",
        "    'bare soil_control', 'monocrop_control', 'intercrop_treatment',\n",
        "       'monocrop_treatment', 'alley crop_treatment', 'Tree_croptype',\n",
        "       'Bean_croptype', 'Bare Soil_croptype', 'Vegetable_croptype',\n",
        "       'Cereal_croptype'\n",
        "]"
      ],
      "metadata": {
        "id": "jxdd6Zn1Lql4"
      },
      "execution_count": null,
      "outputs": []
    },
    {
      "cell_type": "code",
      "source": [
        "X = df[feature_cols]\n",
        "y = df['percentChange']"
      ],
      "metadata": {
        "id": "y5pwUBE9MvnG"
      },
      "execution_count": null,
      "outputs": []
    },
    {
      "cell_type": "code",
      "source": [
        "X.isnull().sum()"
      ],
      "metadata": {
        "id": "J0InKx4ANiUD"
      },
      "execution_count": null,
      "outputs": []
    },
    {
      "cell_type": "code",
      "source": [
        "X.dtypes"
      ],
      "metadata": {
        "id": "0oIq8viqKY8r"
      },
      "execution_count": null,
      "outputs": []
    },
    {
      "cell_type": "code",
      "source": [
        "from sklearn.preprocessing import OrdinalEncoder\n",
        "\n",
        "encoder = OrdinalEncoder()\n",
        "to_encode = [\"rvUnits\", \"sampleDepth\", \"speciestype\", \"fertilization\"]\n",
        "\n",
        "X[to_encode] = encoder.fit_transform(X[to_encode])"
      ],
      "metadata": {
        "id": "rrtu8FRSMwfx"
      },
      "execution_count": null,
      "outputs": []
    },
    {
      "cell_type": "code",
      "source": [
        "X.dtypes"
      ],
      "metadata": {
        "id": "4y1IkSTsOWAC"
      },
      "execution_count": null,
      "outputs": []
    },
    {
      "cell_type": "code",
      "source": [
        "X.fillna(0, inplace = True)"
      ],
      "metadata": {
        "id": "nlY_DHJdxZ2c"
      },
      "execution_count": null,
      "outputs": []
    },
    {
      "cell_type": "code",
      "source": [
        "from sklearn.model_selection import train_test_split\n",
        "\n",
        "X_train, X_test, y_train, y_test = train_test_split(X, y, random_state=42)"
      ],
      "metadata": {
        "id": "beEtV7JoQiob"
      },
      "execution_count": null,
      "outputs": []
    },
    {
      "cell_type": "code",
      "source": [
        "assert len(X_train) == len(y_train)\n",
        "assert len(X_test) == len(y_test)"
      ],
      "metadata": {
        "id": "qYJpRHVdQzWl"
      },
      "execution_count": null,
      "outputs": []
    },
    {
      "cell_type": "markdown",
      "source": [
        "# Decision Tree Regressor"
      ],
      "metadata": {
        "id": "Qp_PqmAa_caS"
      }
    },
    {
      "cell_type": "code",
      "source": [
        "from sklearn.tree import DecisionTreeRegressor\n",
        "\n",
        "dt = DecisionTreeRegressor()\n",
        "dt.fit(X_train, y_train)"
      ],
      "metadata": {
        "id": "c9PcQHDx_e7a"
      },
      "execution_count": null,
      "outputs": []
    },
    {
      "cell_type": "markdown",
      "source": [
        "# Random Forest Regressor"
      ],
      "metadata": {
        "id": "OYEHfetasAo6"
      }
    },
    {
      "cell_type": "code",
      "source": [
        "from sklearn.ensemble import RandomForestRegressor\n",
        "\n",
        "rf = RandomForestRegressor()\n",
        "rf.fit(X_train, y_train)"
      ],
      "metadata": {
        "id": "qbe1nzH_r_6e"
      },
      "execution_count": null,
      "outputs": []
    },
    {
      "cell_type": "markdown",
      "source": [
        "# XGBoost"
      ],
      "metadata": {
        "id": "ePUxhOzV_v1N"
      }
    },
    {
      "cell_type": "code",
      "source": [
        "from xgboost import XGBRegressor\n",
        "\n",
        "X_train_xgb, X_val, y_train_xgb, y_val = train_test_split(X_train, y_train)\n",
        "\n",
        "xgb = XGBRegressor(n_estimators=1500, learning_rate=0.01, eval_metric=\"rmse\", early_stopping_rounds=10)\n",
        "xgb.fit(X_train, y_train, verbose =100)"
      ],
      "metadata": {
        "id": "doV2skXS_zHz"
      },
      "execution_count": null,
      "outputs": []
    },
    {
      "cell_type": "markdown",
      "source": [
        "# SVM"
      ],
      "metadata": {
        "id": "e4jWU28RA4w6"
      }
    },
    {
      "cell_type": "code",
      "source": [
        "from sklearn.svm import SVR\n",
        "\n",
        "svr = SVR(C=1.0, epsilon=0.2)\n",
        "svr.fit(X_train, y_train)"
      ],
      "metadata": {
        "id": "5vV0w6TpA5tm"
      },
      "execution_count": null,
      "outputs": []
    },
    {
      "cell_type": "markdown",
      "source": [
        "# LGBM"
      ],
      "metadata": {
        "id": "7dFVF4TmBjQ6"
      }
    },
    {
      "cell_type": "code",
      "source": [
        "import lightgbm\n",
        "\n",
        "hyper_params = {\n",
        "    'objective': 'regression',\n",
        "    'metric': 'rmse',\n",
        "    'learning_rate': 0.005,\n",
        "    'verbose': -1,\n",
        "    'n_estimators': 1000,\n",
        "    'random_state' : 0\n",
        "}\n",
        "\n",
        "lgbm = lightgbm.LGBMRegressor(**hyper_params)\n",
        "\n",
        "lgbm.fit(X_train_xgb,\n",
        "         y_train_xgb,\n",
        "         eval_set = [(X_val, y_val)],\n",
        "         callbacks = [lightgbm.early_stopping(stopping_rounds = 20)],\n",
        "         verbose = 100\n",
        ")"
      ],
      "metadata": {
        "id": "NFgyAsBdBilr"
      },
      "execution_count": null,
      "outputs": []
    },
    {
      "cell_type": "markdown",
      "source": [
        "# RMSE"
      ],
      "metadata": {
        "id": "uilHrP8osRWb"
      }
    },
    {
      "cell_type": "code",
      "source": [
        "from sklearn.metrics import mean_squared_error\n",
        "\n",
        "models_list = {\n",
        "    \"Decision Tree\" : dt,\n",
        "    \"Random Forest\" : rf,\n",
        "    \"XGBoost\" : xgb,\n",
        "    \"SVR\" : svr,\n",
        "    \"LGBM\" : lgbm,\n",
        "}\n",
        "\n",
        "for name, model in models_list.items():\n",
        "    print(name + \": \" + str(round(mean_squared_error(model.predict(X_test), y_test, squared = False), 5)))"
      ],
      "metadata": {
        "id": "z5Bc4MuJsNEE"
      },
      "execution_count": null,
      "outputs": []
    }
  ]
}