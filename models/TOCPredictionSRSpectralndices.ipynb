{
  "nbformat": 4,
  "nbformat_minor": 0,
  "metadata": {
    "colab": {
      "provenance": [],
      "mount_file_id": "194nXSWG2fpLT6xclEy10qcyod1Y93UuK",
      "authorship_tag": "ABX9TyMwe1SrNJUhEW3DDIFws+BB"
    },
    "kernelspec": {
      "name": "python3",
      "display_name": "Python 3"
    },
    "language_info": {
      "name": "python"
    }
  },
  "cells": [
    {
      "cell_type": "markdown",
      "source": [
        "\n",
        "# Load Data, Drop Unecessary Information"
      ],
      "metadata": {
        "id": "uREH7voho1G_"
      }
    },
    {
      "cell_type": "code",
      "execution_count": null,
      "metadata": {
        "id": "dmHGo8qznMNQ"
      },
      "outputs": [],
      "source": [
        "import pandas as pd\n",
        "import os"
      ]
    },
    {
      "cell_type": "code",
      "source": [
        "def create_complete_df(num_files):\n",
        "    path_to_features  = '/content/drive/MyDrive/SOC/Data/'\n",
        "\n",
        "    list_of_dfs = []\n",
        "    for i in range(num_files):\n",
        "        csv_file = f'SRFastFeatures.csv'\n",
        "        print(csv_file)\n",
        "        df = pd.read_csv(os.path.join(path_to_features, csv_file))\n",
        "        list_of_dfs.append(df)\n",
        "\n",
        "    df = pd.concat(list_of_dfs, axis=0)\n",
        "    return df"
      ],
      "metadata": {
        "id": "cwG-O2f3nWyQ"
      },
      "execution_count": null,
      "outputs": []
    },
    {
      "cell_type": "code",
      "source": [
        "df = create_complete_df(1)"
      ],
      "metadata": {
        "id": "aUFOpcRtngFy"
      },
      "execution_count": null,
      "outputs": []
    },
    {
      "cell_type": "code",
      "source": [
        "df.reset_index(inplace = True)"
      ],
      "metadata": {
        "id": "tsl4tfx1oYo5"
      },
      "execution_count": null,
      "outputs": []
    },
    {
      "cell_type": "code",
      "source": [
        "df.drop(['index'], axis = 1, inplace = True)"
      ],
      "metadata": {
        "id": "29YK2p8yn3KT"
      },
      "execution_count": null,
      "outputs": []
    },
    {
      "cell_type": "markdown",
      "source": [
        "# Standardization"
      ],
      "metadata": {
        "id": "W1Lh0yGjpwaf"
      }
    },
    {
      "cell_type": "code",
      "source": [
        "from sklearn.preprocessing import StandardScaler\n",
        "\n",
        "scaler = StandardScaler()\n",
        "columns_except_mu_global = list(filter(lambda x: x != \"MU_GLOBAL\", df.columns))\n",
        "\n",
        "df[columns_except_mu_global] = scaler.fit_transform(df[columns_except_mu_global])"
      ],
      "metadata": {
        "id": "W4btsTmopzjA"
      },
      "execution_count": null,
      "outputs": []
    },
    {
      "cell_type": "markdown",
      "source": [
        "# Missing Values"
      ],
      "metadata": {
        "id": "2LKJa30LqKH-"
      }
    },
    {
      "cell_type": "code",
      "source": [
        "imputed_df = df.fillna(0)"
      ],
      "metadata": {
        "id": "l5CXG_TZe7CA"
      },
      "execution_count": null,
      "outputs": []
    },
    {
      "cell_type": "markdown",
      "source": [
        "# Merge HWSD Data"
      ],
      "metadata": {
        "id": "pfOJvWYLo8wz"
      }
    },
    {
      "cell_type": "code",
      "source": [
        "HWSD = pd.read_csv('/content/drive/MyDrive/SOCData/HWSD_DATA.csv')\n",
        "HWSD = HWSD[['MU_GLOBAL', 'T_OC']]\n",
        "HWSD"
      ],
      "metadata": {
        "id": "fnsXonYMo8NM"
      },
      "execution_count": null,
      "outputs": []
    },
    {
      "cell_type": "code",
      "source": [
        "HWSD = HWSD.groupby('MU_GLOBAL').mean()"
      ],
      "metadata": {
        "id": "wXlPJMr4-Cl0"
      },
      "execution_count": null,
      "outputs": []
    },
    {
      "cell_type": "code",
      "source": [
        "new = pd.merge(imputed_df, HWSD, on=\"MU_GLOBAL\")\n",
        "new = new.dropna()"
      ],
      "metadata": {
        "id": "onmsoI4qp8LT"
      },
      "execution_count": null,
      "outputs": []
    },
    {
      "cell_type": "markdown",
      "source": [
        "# Split Data"
      ],
      "metadata": {
        "id": "_cnxFqoOrQSB"
      }
    },
    {
      "cell_type": "code",
      "source": [
        "y = new.pop('T_OC')\n",
        "X = new"
      ],
      "metadata": {
        "id": "6VELKxebrUn9"
      },
      "execution_count": null,
      "outputs": []
    },
    {
      "cell_type": "code",
      "source": [
        "assert 'T_OC' not in X.columns"
      ],
      "metadata": {
        "id": "SsR-6VS-rf3T"
      },
      "execution_count": null,
      "outputs": []
    },
    {
      "cell_type": "code",
      "source": [
        "from sklearn.model_selection import train_test_split\n",
        "\n",
        "X_train, X_test, y_train, y_test = train_test_split(\n",
        "        X, y, test_size=0.2, random_state=42)"
      ],
      "metadata": {
        "id": "3GQBO0rwrPj4"
      },
      "execution_count": null,
      "outputs": []
    },
    {
      "cell_type": "code",
      "source": [
        "assert len(X_train) == len(y_train)"
      ],
      "metadata": {
        "id": "OUhwe7Y8r2U1"
      },
      "execution_count": null,
      "outputs": []
    },
    {
      "cell_type": "code",
      "source": [
        "assert len(X_test) == len(y_test)"
      ],
      "metadata": {
        "id": "HABQVKJIr6_C"
      },
      "execution_count": null,
      "outputs": []
    },
    {
      "cell_type": "markdown",
      "source": [
        "# Decision Tree Regressor"
      ],
      "metadata": {
        "id": "Qp_PqmAa_caS"
      }
    },
    {
      "cell_type": "code",
      "source": [
        "from sklearn.tree import DecisionTreeRegressor\n",
        "\n",
        "dt = DecisionTreeRegressor()\n",
        "dt.fit(X_train, y_train)"
      ],
      "metadata": {
        "id": "c9PcQHDx_e7a"
      },
      "execution_count": null,
      "outputs": []
    },
    {
      "cell_type": "markdown",
      "source": [
        "# Random Forest Regressor"
      ],
      "metadata": {
        "id": "OYEHfetasAo6"
      }
    },
    {
      "cell_type": "code",
      "source": [
        "from sklearn.ensemble import RandomForestRegressor\n",
        "\n",
        "rf = RandomForestRegressor()\n",
        "rf.fit(X_train, y_train)"
      ],
      "metadata": {
        "id": "qbe1nzH_r_6e"
      },
      "execution_count": null,
      "outputs": []
    },
    {
      "cell_type": "markdown",
      "source": [
        "# XGBoost"
      ],
      "metadata": {
        "id": "ePUxhOzV_v1N"
      }
    },
    {
      "cell_type": "code",
      "source": [
        "from xgboost import XGBRegressor\n",
        "\n",
        "X_train_xgb, X_val, y_train_xgb, y_val = train_test_split(X_train, y_train)\n",
        "\n",
        "xgb = XGBRegressor(n_estimators=1500, learning_rate=0.01, eval_metric=\"rmse\", early_stopping_rounds=10)\n",
        "xgb.fit(X_train, y_train, verbose =100)"
      ],
      "metadata": {
        "id": "doV2skXS_zHz"
      },
      "execution_count": null,
      "outputs": []
    },
    {
      "cell_type": "markdown",
      "source": [
        "# SVM"
      ],
      "metadata": {
        "id": "e4jWU28RA4w6"
      }
    },
    {
      "cell_type": "code",
      "source": [
        "from sklearn.svm import SVR\n",
        "\n",
        "svr = SVR(C=1.0, epsilon=0.2)\n",
        "svr.fit(X_train, y_train)"
      ],
      "metadata": {
        "id": "5vV0w6TpA5tm"
      },
      "execution_count": null,
      "outputs": []
    },
    {
      "cell_type": "markdown",
      "source": [
        "# LGBM"
      ],
      "metadata": {
        "id": "7dFVF4TmBjQ6"
      }
    },
    {
      "cell_type": "code",
      "source": [
        "import lightgbm\n",
        "\n",
        "hyper_params = {\n",
        "    'objective': 'regression',\n",
        "    'metric': 'rmse',\n",
        "    'learning_rate': 0.005,\n",
        "    'verbose': -1,\n",
        "    'n_estimators': 1000,\n",
        "    'random_state' : 0\n",
        "}\n",
        "\n",
        "lgbm = lightgbm.LGBMRegressor(**hyper_params)\n",
        "\n",
        "lgbm.fit(X_train_xgb,\n",
        "         y_train_xgb,\n",
        "         eval_set = [(X_val, y_val)],\n",
        "         callbacks = [lightgbm.early_stopping(stopping_rounds = 20)],\n",
        "         verbose = 100\n",
        ")"
      ],
      "metadata": {
        "id": "NFgyAsBdBilr"
      },
      "execution_count": null,
      "outputs": []
    },
    {
      "cell_type": "markdown",
      "source": [
        "# RMSE"
      ],
      "metadata": {
        "id": "uilHrP8osRWb"
      }
    },
    {
      "cell_type": "code",
      "source": [
        "from sklearn.metrics import mean_squared_error\n",
        "\n",
        "models_list = {\n",
        "    \"Decision Tree\" : dt,\n",
        "    \"Random Forest\" : rf,\n",
        "    \"XGBoost\" : xgb,\n",
        "    \"SVR\" : svr,\n",
        "    \"LGBM\" : lgbm,\n",
        "}\n",
        "\n",
        "for name, model in models_list.items():\n",
        "    print(name + \": \" + str(round(mean_squared_error(model.predict(X_test), y_test, squared = False), 5)))"
      ],
      "metadata": {
        "id": "z5Bc4MuJsNEE"
      },
      "execution_count": null,
      "outputs": []
    }
  ]
}