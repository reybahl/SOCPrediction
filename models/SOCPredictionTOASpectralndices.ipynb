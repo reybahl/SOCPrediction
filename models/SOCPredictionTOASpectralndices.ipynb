{
  "nbformat": 4,
  "nbformat_minor": 0,
  "metadata": {
    "colab": {
      "provenance": [],
      "mount_file_id": "1x3-WMGDHNpEbLuT85zKba1MEM5eHUhgP",
      "authorship_tag": "ABX9TyNYvBDvkku68ygqYpcqUIz4"
    },
    "kernelspec": {
      "name": "python3",
      "display_name": "Python 3"
    },
    "language_info": {
      "name": "python"
    }
  },
  "cells": [
    {
      "cell_type": "markdown",
      "source": [
        "\n",
        "# Load Data, Drop Unecessary Information"
      ],
      "metadata": {
        "id": "uREH7voho1G_"
      }
    },
    {
      "cell_type": "code",
      "execution_count": 1,
      "metadata": {
        "id": "dmHGo8qznMNQ"
      },
      "outputs": [],
      "source": [
        "import pandas as pd\n",
        "import os"
      ]
    },
    {
      "cell_type": "code",
      "source": [
        "def create_complete_df(num_files):\n",
        "    path_to_features  = '/content/drive/MyDrive/SOC/Data/'\n",
        "\n",
        "    list_of_dfs = []\n",
        "    for i in range(num_files):\n",
        "        csv_file = f'TOAFastFeatures{i + 1}.csv'\n",
        "        print(csv_file)\n",
        "        df = pd.read_csv(os.path.join(path_to_features, csv_file))\n",
        "        list_of_dfs.append(df)\n",
        "\n",
        "    df = pd.concat(list_of_dfs, axis=0)\n",
        "    return df"
      ],
      "metadata": {
        "id": "cwG-O2f3nWyQ"
      },
      "execution_count": 2,
      "outputs": []
    },
    {
      "cell_type": "code",
      "source": [
        "df = create_complete_df(1)"
      ],
      "metadata": {
        "id": "aUFOpcRtngFy",
        "colab": {
          "base_uri": "https://localhost:8080/"
        },
        "outputId": "d5128714-628b-4334-e9a7-d6c28916667e"
      },
      "execution_count": 3,
      "outputs": [
        {
          "output_type": "stream",
          "name": "stdout",
          "text": [
            "TOAFastFeatures1.csv\n"
          ]
        }
      ]
    },
    {
      "cell_type": "code",
      "source": [
        "df.reset_index(inplace = True)"
      ],
      "metadata": {
        "id": "tsl4tfx1oYo5"
      },
      "execution_count": 5,
      "outputs": []
    },
    {
      "cell_type": "code",
      "source": [
        "df.drop(['index'], axis = 1, inplace = True)"
      ],
      "metadata": {
        "id": "29YK2p8yn3KT"
      },
      "execution_count": 15,
      "outputs": []
    },
    {
      "cell_type": "markdown",
      "source": [
        "# Iterative Imputer"
      ],
      "metadata": {
        "id": "2LKJa30LqKH-"
      }
    },
    {
      "cell_type": "code",
      "source": [
        "from sklearn.experimental import enable_iterative_imputer\n",
        "from sklearn.impute import IterativeImputer\n",
        "\n",
        "imputer = IterativeImputer(verbose=2, max_iter=20)\n",
        "\n",
        "imputed_df = pd.DataFrame(imputer.fit_transform(df), columns = df.columns)\n",
        "imputed_df"
      ],
      "metadata": {
        "id": "NKWc_TECogpl"
      },
      "execution_count": null,
      "outputs": []
    },
    {
      "cell_type": "markdown",
      "source": [
        "# Merge HWSD Data"
      ],
      "metadata": {
        "id": "pfOJvWYLo8wz"
      }
    },
    {
      "cell_type": "code",
      "source": [
        "HWSD = pd.read_csv('/content/drive/MyDrive/SOCData/HWSD_DATA.csv')\n",
        "HWSD = HWSD[['MU_GLOBAL', 'S_OC']]\n",
        "HWSD"
      ],
      "metadata": {
        "id": "fnsXonYMo8NM"
      },
      "execution_count": null,
      "outputs": []
    },
    {
      "cell_type": "code",
      "source": [
        "new = pd.merge(imputed_df, HWSD, on=\"MU_GLOBAL\")\n",
        "new = new.dropna()"
      ],
      "metadata": {
        "id": "onmsoI4qp8LT"
      },
      "execution_count": 19,
      "outputs": []
    },
    {
      "cell_type": "markdown",
      "source": [
        "# Split Data"
      ],
      "metadata": {
        "id": "_cnxFqoOrQSB"
      }
    },
    {
      "cell_type": "code",
      "source": [
        "y = new.pop('S_OC')\n",
        "X = new"
      ],
      "metadata": {
        "id": "6VELKxebrUn9"
      },
      "execution_count": 21,
      "outputs": []
    },
    {
      "cell_type": "code",
      "source": [
        "assert 'S_OC' not in X.columns"
      ],
      "metadata": {
        "id": "SsR-6VS-rf3T"
      },
      "execution_count": 22,
      "outputs": []
    },
    {
      "cell_type": "code",
      "source": [
        "from sklearn.model_selection import train_test_split\n",
        "\n",
        "X_train, X_test, y_train, y_test = train_test_split(\n",
        "        X, y, test_size=0.2, random_state=42)"
      ],
      "metadata": {
        "id": "3GQBO0rwrPj4"
      },
      "execution_count": 23,
      "outputs": []
    },
    {
      "cell_type": "code",
      "source": [
        "assert len(X_train) == len(y_train)"
      ],
      "metadata": {
        "id": "OUhwe7Y8r2U1"
      },
      "execution_count": 24,
      "outputs": []
    },
    {
      "cell_type": "code",
      "source": [
        "assert len(X_test) == len(y_test)"
      ],
      "metadata": {
        "id": "HABQVKJIr6_C"
      },
      "execution_count": 25,
      "outputs": []
    },
    {
      "cell_type": "markdown",
      "source": [
        "# Feature Standardization"
      ],
      "metadata": {
        "id": "W1Lh0yGjpwaf"
      }
    },
    {
      "cell_type": "code",
      "source": [
        "from sklearn.preprocessing import StandardScaler\n",
        "\n",
        "scaler = StandardScaler()\n",
        "X_train = scaler.fit_transform(X_train)\n",
        "\n",
        "X_test = scaler.transform(X_test)"
      ],
      "metadata": {
        "id": "W4btsTmopzjA"
      },
      "execution_count": 26,
      "outputs": []
    },
    {
      "cell_type": "markdown",
      "source": [
        "# Random Forest Regressor"
      ],
      "metadata": {
        "id": "OYEHfetasAo6"
      }
    },
    {
      "cell_type": "code",
      "source": [
        "from sklearn.ensemble import RandomForestRegressor\n",
        "\n",
        "rf = RandomForestRegressor()\n",
        "rf.fit(X_train, y_train)"
      ],
      "metadata": {
        "id": "qbe1nzH_r_6e",
        "colab": {
          "base_uri": "https://localhost:8080/"
        },
        "outputId": "a634e251-8241-4c39-b212-dad6641c4f5c"
      },
      "execution_count": 27,
      "outputs": [
        {
          "output_type": "execute_result",
          "data": {
            "text/plain": [
              "RandomForestRegressor()"
            ]
          },
          "metadata": {},
          "execution_count": 27
        }
      ]
    },
    {
      "cell_type": "markdown",
      "source": [
        "# RMSE"
      ],
      "metadata": {
        "id": "uilHrP8osRWb"
      }
    },
    {
      "cell_type": "code",
      "source": [
        "from sklearn.metrics import mean_squared_error\n",
        "\n",
        "round(mean_squared_error(rf.predict(X_test), y_test), 3)"
      ],
      "metadata": {
        "id": "z5Bc4MuJsNEE",
        "colab": {
          "base_uri": "https://localhost:8080/"
        },
        "outputId": "0510b740-18a3-4525-97f8-668bcefd04e2"
      },
      "execution_count": 29,
      "outputs": [
        {
          "output_type": "execute_result",
          "data": {
            "text/plain": [
              "6.494"
            ]
          },
          "metadata": {},
          "execution_count": 29
        }
      ]
    }
  ]
}