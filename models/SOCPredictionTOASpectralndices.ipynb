{
  "nbformat": 4,
  "nbformat_minor": 0,
  "metadata": {
    "colab": {
      "provenance": [],
      "mount_file_id": "1x3-WMGDHNpEbLuT85zKba1MEM5eHUhgP",
      "authorship_tag": "ABX9TyNWsyO5TP3s8YsZ0vQ2cmVW"
    },
    "kernelspec": {
      "name": "python3",
      "display_name": "Python 3"
    },
    "language_info": {
      "name": "python"
    }
  },
  "cells": [
    {
      "cell_type": "markdown",
      "source": [
        "\n",
        "# Load Data, Drop Unecessary Information"
      ],
      "metadata": {
        "id": "uREH7voho1G_"
      }
    },
    {
      "cell_type": "code",
      "execution_count": 65,
      "metadata": {
        "id": "dmHGo8qznMNQ"
      },
      "outputs": [],
      "source": [
        "import pandas as pd\n",
        "import os"
      ]
    },
    {
      "cell_type": "code",
      "source": [
        "def create_complete_df(num_files):\n",
        "    path_to_features  = '/content/drive/MyDrive/SOC/Data/'\n",
        "\n",
        "    list_of_dfs = []\n",
        "    for i in range(num_files):\n",
        "        csv_file = f'TOAFastFeatures{i + 1}.csv'\n",
        "        print(csv_file)\n",
        "        df = pd.read_csv(os.path.join(path_to_features, csv_file))\n",
        "        list_of_dfs.append(df)\n",
        "\n",
        "    df = pd.concat(list_of_dfs, axis=0)\n",
        "    return df"
      ],
      "metadata": {
        "id": "cwG-O2f3nWyQ"
      },
      "execution_count": 66,
      "outputs": []
    },
    {
      "cell_type": "code",
      "source": [
        "df = create_complete_df(1)"
      ],
      "metadata": {
        "id": "aUFOpcRtngFy",
        "colab": {
          "base_uri": "https://localhost:8080/"
        },
        "outputId": "062e593f-06b5-46d0-8789-9370686c510d"
      },
      "execution_count": 67,
      "outputs": [
        {
          "output_type": "stream",
          "name": "stdout",
          "text": [
            "TOAFastFeatures1.csv\n"
          ]
        }
      ]
    },
    {
      "cell_type": "code",
      "source": [
        "df.reset_index(inplace = True)"
      ],
      "metadata": {
        "id": "tsl4tfx1oYo5"
      },
      "execution_count": 68,
      "outputs": []
    },
    {
      "cell_type": "code",
      "source": [
        "df.drop(['index'], axis = 1, inplace = True)"
      ],
      "metadata": {
        "id": "29YK2p8yn3KT"
      },
      "execution_count": 69,
      "outputs": []
    },
    {
      "cell_type": "markdown",
      "source": [
        "# Iterative Imputer"
      ],
      "metadata": {
        "id": "2LKJa30LqKH-"
      }
    },
    {
      "cell_type": "code",
      "source": [
        "from sklearn.experimental import enable_iterative_imputer\n",
        "from sklearn.impute import IterativeImputer\n",
        "\n",
        "imputer = IterativeImputer(verbose=2, max_iter=20)\n",
        "\n",
        "imputed_df = pd.DataFrame(imputer.fit_transform(df), columns = df.columns)\n",
        "imputed_df"
      ],
      "metadata": {
        "id": "NKWc_TECogpl",
        "colab": {
          "base_uri": "https://localhost:8080/",
          "height": 561
        },
        "outputId": "49ce9946-668d-4e59-d09b-8ff59b5afa17"
      },
      "execution_count": 70,
      "outputs": [
        {
          "output_type": "stream",
          "name": "stdout",
          "text": [
            "[IterativeImputer] Completing matrix with shape (1726, 150)\n",
            "[IterativeImputer] Ending imputation round 1/20, elapsed time 11.73\n",
            "[IterativeImputer] Change: 939.7315853459478, scaled tolerance: 3545.9554688690087 \n",
            "[IterativeImputer] Early stopping criterion reached.\n"
          ]
        },
        {
          "output_type": "execute_result",
          "data": {
            "text/plain": [
              "      AFRI1600  AFRI2100     ANDWI       AVI   AWEInsh    AWEIsh        B1  \\\n",
              "0    -0.042037  0.188964 -0.302613  0.178517 -0.062937 -0.289623  0.127853   \n",
              "1     0.040983  0.240694 -0.376670  0.318068 -0.187675 -0.947703  0.172250   \n",
              "2     0.256086  0.483660 -0.004223  0.201418  0.292538  0.001921  0.221778   \n",
              "3     0.116418  0.277009 -0.215824  0.240299  0.353594 -0.547265  0.239610   \n",
              "4     0.094604  0.338201 -0.242855  0.232782 -0.023527 -0.290984  0.158154   \n",
              "...        ...       ...       ...       ...       ...       ...       ...   \n",
              "1721  0.231414  0.590910 -0.380825  0.319432 -0.280356 -0.404473  0.116841   \n",
              "1722  0.139767  0.315097 -0.265381  0.323284  0.242044 -0.882226  0.242697   \n",
              "1723  0.144147  0.389114 -0.140860  0.266714  0.287478 -0.379172  0.279064   \n",
              "1724  0.649607  0.878403  0.017765  0.264676  0.104943 -0.046594  0.123984   \n",
              "1725  0.505783  0.763419  0.130532  0.192096  0.174580  0.047017  0.156188   \n",
              "\n",
              "             B10         B11        B2  ...     TriVI        UI      VARI  \\\n",
              "0     292.999382  292.361504  0.111648  ...  2.313388  0.153771 -0.058710   \n",
              "1     313.899918  312.935503  0.166961  ...  2.706954  0.100678 -0.273590   \n",
              "2     291.975769  290.951062  0.201033  ...  3.362856 -0.184076  0.096392   \n",
              "3     313.394856  313.239800  0.248634  ... -0.124035  0.062049 -0.191491   \n",
              "4     305.049629  302.127800  0.142029  ...  4.205121 -0.008196 -0.046426   \n",
              "...          ...         ...       ...  ...       ...       ...       ...   \n",
              "1721  298.614562  296.120704  0.096284  ...  9.552927 -0.323608  0.169112   \n",
              "1722  288.616457  288.614634  0.254960  ...  1.740761  0.020362 -0.221458   \n",
              "1723  310.193457  308.096285  0.295164  ...  2.552596 -0.064120 -0.096375   \n",
              "1724  295.756511  293.847276  0.098381  ...  7.686679 -0.771560  0.847155   \n",
              "1725  293.642667  291.796983  0.129491  ...  4.558043 -0.580250  0.486251   \n",
              "\n",
              "          VI6T      VIBI       VIG   VgNIRBI   VrNIRBI       WI1       WI2  \n",
              "0     0.662873  0.402603 -0.029935 -0.193855 -0.165107 -0.337681 -0.287793  \n",
              "1     0.861794  0.476970 -0.186807 -0.328115 -0.150532 -0.415051 -0.512212  \n",
              "2     0.753567  1.639177  0.038192 -0.090044 -0.127691  0.096108  0.166270  \n",
              "3     0.863645  0.416230 -0.120620 -0.183741 -0.064552 -0.243018 -0.322212  \n",
              "4     0.736685  0.662532 -0.021764 -0.230045 -0.209671 -0.222506 -0.170213  \n",
              "...        ...       ...       ...       ...       ...       ...       ...  \n",
              "1721  0.767804  1.075321  0.053107 -0.471480 -0.509807 -0.170280 -0.094464  \n",
              "1722  0.903888  0.614974 -0.151163 -0.253370 -0.106281 -0.272308 -0.400770  \n",
              "1723  0.868078  0.576498 -0.055979 -0.140060 -0.084755 -0.076610 -0.134603  \n",
              "1724  0.642376  6.547221  0.179263 -0.314948 -0.453854  0.581072  0.661976  \n",
              "1725  0.626698  1.193240  0.123371 -0.142137 -0.259154  0.462864  0.556521  \n",
              "\n",
              "[1726 rows x 150 columns]"
            ],
            "text/html": [
              "\n",
              "  <div id=\"df-65b6adfb-33c2-4ed4-a484-6b28c6bd09dd\">\n",
              "    <div class=\"colab-df-container\">\n",
              "      <div>\n",
              "<style scoped>\n",
              "    .dataframe tbody tr th:only-of-type {\n",
              "        vertical-align: middle;\n",
              "    }\n",
              "\n",
              "    .dataframe tbody tr th {\n",
              "        vertical-align: top;\n",
              "    }\n",
              "\n",
              "    .dataframe thead th {\n",
              "        text-align: right;\n",
              "    }\n",
              "</style>\n",
              "<table border=\"1\" class=\"dataframe\">\n",
              "  <thead>\n",
              "    <tr style=\"text-align: right;\">\n",
              "      <th></th>\n",
              "      <th>AFRI1600</th>\n",
              "      <th>AFRI2100</th>\n",
              "      <th>ANDWI</th>\n",
              "      <th>AVI</th>\n",
              "      <th>AWEInsh</th>\n",
              "      <th>AWEIsh</th>\n",
              "      <th>B1</th>\n",
              "      <th>B10</th>\n",
              "      <th>B11</th>\n",
              "      <th>B2</th>\n",
              "      <th>...</th>\n",
              "      <th>TriVI</th>\n",
              "      <th>UI</th>\n",
              "      <th>VARI</th>\n",
              "      <th>VI6T</th>\n",
              "      <th>VIBI</th>\n",
              "      <th>VIG</th>\n",
              "      <th>VgNIRBI</th>\n",
              "      <th>VrNIRBI</th>\n",
              "      <th>WI1</th>\n",
              "      <th>WI2</th>\n",
              "    </tr>\n",
              "  </thead>\n",
              "  <tbody>\n",
              "    <tr>\n",
              "      <th>0</th>\n",
              "      <td>-0.042037</td>\n",
              "      <td>0.188964</td>\n",
              "      <td>-0.302613</td>\n",
              "      <td>0.178517</td>\n",
              "      <td>-0.062937</td>\n",
              "      <td>-0.289623</td>\n",
              "      <td>0.127853</td>\n",
              "      <td>292.999382</td>\n",
              "      <td>292.361504</td>\n",
              "      <td>0.111648</td>\n",
              "      <td>...</td>\n",
              "      <td>2.313388</td>\n",
              "      <td>0.153771</td>\n",
              "      <td>-0.058710</td>\n",
              "      <td>0.662873</td>\n",
              "      <td>0.402603</td>\n",
              "      <td>-0.029935</td>\n",
              "      <td>-0.193855</td>\n",
              "      <td>-0.165107</td>\n",
              "      <td>-0.337681</td>\n",
              "      <td>-0.287793</td>\n",
              "    </tr>\n",
              "    <tr>\n",
              "      <th>1</th>\n",
              "      <td>0.040983</td>\n",
              "      <td>0.240694</td>\n",
              "      <td>-0.376670</td>\n",
              "      <td>0.318068</td>\n",
              "      <td>-0.187675</td>\n",
              "      <td>-0.947703</td>\n",
              "      <td>0.172250</td>\n",
              "      <td>313.899918</td>\n",
              "      <td>312.935503</td>\n",
              "      <td>0.166961</td>\n",
              "      <td>...</td>\n",
              "      <td>2.706954</td>\n",
              "      <td>0.100678</td>\n",
              "      <td>-0.273590</td>\n",
              "      <td>0.861794</td>\n",
              "      <td>0.476970</td>\n",
              "      <td>-0.186807</td>\n",
              "      <td>-0.328115</td>\n",
              "      <td>-0.150532</td>\n",
              "      <td>-0.415051</td>\n",
              "      <td>-0.512212</td>\n",
              "    </tr>\n",
              "    <tr>\n",
              "      <th>2</th>\n",
              "      <td>0.256086</td>\n",
              "      <td>0.483660</td>\n",
              "      <td>-0.004223</td>\n",
              "      <td>0.201418</td>\n",
              "      <td>0.292538</td>\n",
              "      <td>0.001921</td>\n",
              "      <td>0.221778</td>\n",
              "      <td>291.975769</td>\n",
              "      <td>290.951062</td>\n",
              "      <td>0.201033</td>\n",
              "      <td>...</td>\n",
              "      <td>3.362856</td>\n",
              "      <td>-0.184076</td>\n",
              "      <td>0.096392</td>\n",
              "      <td>0.753567</td>\n",
              "      <td>1.639177</td>\n",
              "      <td>0.038192</td>\n",
              "      <td>-0.090044</td>\n",
              "      <td>-0.127691</td>\n",
              "      <td>0.096108</td>\n",
              "      <td>0.166270</td>\n",
              "    </tr>\n",
              "    <tr>\n",
              "      <th>3</th>\n",
              "      <td>0.116418</td>\n",
              "      <td>0.277009</td>\n",
              "      <td>-0.215824</td>\n",
              "      <td>0.240299</td>\n",
              "      <td>0.353594</td>\n",
              "      <td>-0.547265</td>\n",
              "      <td>0.239610</td>\n",
              "      <td>313.394856</td>\n",
              "      <td>313.239800</td>\n",
              "      <td>0.248634</td>\n",
              "      <td>...</td>\n",
              "      <td>-0.124035</td>\n",
              "      <td>0.062049</td>\n",
              "      <td>-0.191491</td>\n",
              "      <td>0.863645</td>\n",
              "      <td>0.416230</td>\n",
              "      <td>-0.120620</td>\n",
              "      <td>-0.183741</td>\n",
              "      <td>-0.064552</td>\n",
              "      <td>-0.243018</td>\n",
              "      <td>-0.322212</td>\n",
              "    </tr>\n",
              "    <tr>\n",
              "      <th>4</th>\n",
              "      <td>0.094604</td>\n",
              "      <td>0.338201</td>\n",
              "      <td>-0.242855</td>\n",
              "      <td>0.232782</td>\n",
              "      <td>-0.023527</td>\n",
              "      <td>-0.290984</td>\n",
              "      <td>0.158154</td>\n",
              "      <td>305.049629</td>\n",
              "      <td>302.127800</td>\n",
              "      <td>0.142029</td>\n",
              "      <td>...</td>\n",
              "      <td>4.205121</td>\n",
              "      <td>-0.008196</td>\n",
              "      <td>-0.046426</td>\n",
              "      <td>0.736685</td>\n",
              "      <td>0.662532</td>\n",
              "      <td>-0.021764</td>\n",
              "      <td>-0.230045</td>\n",
              "      <td>-0.209671</td>\n",
              "      <td>-0.222506</td>\n",
              "      <td>-0.170213</td>\n",
              "    </tr>\n",
              "    <tr>\n",
              "      <th>...</th>\n",
              "      <td>...</td>\n",
              "      <td>...</td>\n",
              "      <td>...</td>\n",
              "      <td>...</td>\n",
              "      <td>...</td>\n",
              "      <td>...</td>\n",
              "      <td>...</td>\n",
              "      <td>...</td>\n",
              "      <td>...</td>\n",
              "      <td>...</td>\n",
              "      <td>...</td>\n",
              "      <td>...</td>\n",
              "      <td>...</td>\n",
              "      <td>...</td>\n",
              "      <td>...</td>\n",
              "      <td>...</td>\n",
              "      <td>...</td>\n",
              "      <td>...</td>\n",
              "      <td>...</td>\n",
              "      <td>...</td>\n",
              "      <td>...</td>\n",
              "    </tr>\n",
              "    <tr>\n",
              "      <th>1721</th>\n",
              "      <td>0.231414</td>\n",
              "      <td>0.590910</td>\n",
              "      <td>-0.380825</td>\n",
              "      <td>0.319432</td>\n",
              "      <td>-0.280356</td>\n",
              "      <td>-0.404473</td>\n",
              "      <td>0.116841</td>\n",
              "      <td>298.614562</td>\n",
              "      <td>296.120704</td>\n",
              "      <td>0.096284</td>\n",
              "      <td>...</td>\n",
              "      <td>9.552927</td>\n",
              "      <td>-0.323608</td>\n",
              "      <td>0.169112</td>\n",
              "      <td>0.767804</td>\n",
              "      <td>1.075321</td>\n",
              "      <td>0.053107</td>\n",
              "      <td>-0.471480</td>\n",
              "      <td>-0.509807</td>\n",
              "      <td>-0.170280</td>\n",
              "      <td>-0.094464</td>\n",
              "    </tr>\n",
              "    <tr>\n",
              "      <th>1722</th>\n",
              "      <td>0.139767</td>\n",
              "      <td>0.315097</td>\n",
              "      <td>-0.265381</td>\n",
              "      <td>0.323284</td>\n",
              "      <td>0.242044</td>\n",
              "      <td>-0.882226</td>\n",
              "      <td>0.242697</td>\n",
              "      <td>288.616457</td>\n",
              "      <td>288.614634</td>\n",
              "      <td>0.254960</td>\n",
              "      <td>...</td>\n",
              "      <td>1.740761</td>\n",
              "      <td>0.020362</td>\n",
              "      <td>-0.221458</td>\n",
              "      <td>0.903888</td>\n",
              "      <td>0.614974</td>\n",
              "      <td>-0.151163</td>\n",
              "      <td>-0.253370</td>\n",
              "      <td>-0.106281</td>\n",
              "      <td>-0.272308</td>\n",
              "      <td>-0.400770</td>\n",
              "    </tr>\n",
              "    <tr>\n",
              "      <th>1723</th>\n",
              "      <td>0.144147</td>\n",
              "      <td>0.389114</td>\n",
              "      <td>-0.140860</td>\n",
              "      <td>0.266714</td>\n",
              "      <td>0.287478</td>\n",
              "      <td>-0.379172</td>\n",
              "      <td>0.279064</td>\n",
              "      <td>310.193457</td>\n",
              "      <td>308.096285</td>\n",
              "      <td>0.295164</td>\n",
              "      <td>...</td>\n",
              "      <td>2.552596</td>\n",
              "      <td>-0.064120</td>\n",
              "      <td>-0.096375</td>\n",
              "      <td>0.868078</td>\n",
              "      <td>0.576498</td>\n",
              "      <td>-0.055979</td>\n",
              "      <td>-0.140060</td>\n",
              "      <td>-0.084755</td>\n",
              "      <td>-0.076610</td>\n",
              "      <td>-0.134603</td>\n",
              "    </tr>\n",
              "    <tr>\n",
              "      <th>1724</th>\n",
              "      <td>0.649607</td>\n",
              "      <td>0.878403</td>\n",
              "      <td>0.017765</td>\n",
              "      <td>0.264676</td>\n",
              "      <td>0.104943</td>\n",
              "      <td>-0.046594</td>\n",
              "      <td>0.123984</td>\n",
              "      <td>295.756511</td>\n",
              "      <td>293.847276</td>\n",
              "      <td>0.098381</td>\n",
              "      <td>...</td>\n",
              "      <td>7.686679</td>\n",
              "      <td>-0.771560</td>\n",
              "      <td>0.847155</td>\n",
              "      <td>0.642376</td>\n",
              "      <td>6.547221</td>\n",
              "      <td>0.179263</td>\n",
              "      <td>-0.314948</td>\n",
              "      <td>-0.453854</td>\n",
              "      <td>0.581072</td>\n",
              "      <td>0.661976</td>\n",
              "    </tr>\n",
              "    <tr>\n",
              "      <th>1725</th>\n",
              "      <td>0.505783</td>\n",
              "      <td>0.763419</td>\n",
              "      <td>0.130532</td>\n",
              "      <td>0.192096</td>\n",
              "      <td>0.174580</td>\n",
              "      <td>0.047017</td>\n",
              "      <td>0.156188</td>\n",
              "      <td>293.642667</td>\n",
              "      <td>291.796983</td>\n",
              "      <td>0.129491</td>\n",
              "      <td>...</td>\n",
              "      <td>4.558043</td>\n",
              "      <td>-0.580250</td>\n",
              "      <td>0.486251</td>\n",
              "      <td>0.626698</td>\n",
              "      <td>1.193240</td>\n",
              "      <td>0.123371</td>\n",
              "      <td>-0.142137</td>\n",
              "      <td>-0.259154</td>\n",
              "      <td>0.462864</td>\n",
              "      <td>0.556521</td>\n",
              "    </tr>\n",
              "  </tbody>\n",
              "</table>\n",
              "<p>1726 rows × 150 columns</p>\n",
              "</div>\n",
              "      <button class=\"colab-df-convert\" onclick=\"convertToInteractive('df-65b6adfb-33c2-4ed4-a484-6b28c6bd09dd')\"\n",
              "              title=\"Convert this dataframe to an interactive table.\"\n",
              "              style=\"display:none;\">\n",
              "        \n",
              "  <svg xmlns=\"http://www.w3.org/2000/svg\" height=\"24px\"viewBox=\"0 0 24 24\"\n",
              "       width=\"24px\">\n",
              "    <path d=\"M0 0h24v24H0V0z\" fill=\"none\"/>\n",
              "    <path d=\"M18.56 5.44l.94 2.06.94-2.06 2.06-.94-2.06-.94-.94-2.06-.94 2.06-2.06.94zm-11 1L8.5 8.5l.94-2.06 2.06-.94-2.06-.94L8.5 2.5l-.94 2.06-2.06.94zm10 10l.94 2.06.94-2.06 2.06-.94-2.06-.94-.94-2.06-.94 2.06-2.06.94z\"/><path d=\"M17.41 7.96l-1.37-1.37c-.4-.4-.92-.59-1.43-.59-.52 0-1.04.2-1.43.59L10.3 9.45l-7.72 7.72c-.78.78-.78 2.05 0 2.83L4 21.41c.39.39.9.59 1.41.59.51 0 1.02-.2 1.41-.59l7.78-7.78 2.81-2.81c.8-.78.8-2.07 0-2.86zM5.41 20L4 18.59l7.72-7.72 1.47 1.35L5.41 20z\"/>\n",
              "  </svg>\n",
              "      </button>\n",
              "      \n",
              "  <style>\n",
              "    .colab-df-container {\n",
              "      display:flex;\n",
              "      flex-wrap:wrap;\n",
              "      gap: 12px;\n",
              "    }\n",
              "\n",
              "    .colab-df-convert {\n",
              "      background-color: #E8F0FE;\n",
              "      border: none;\n",
              "      border-radius: 50%;\n",
              "      cursor: pointer;\n",
              "      display: none;\n",
              "      fill: #1967D2;\n",
              "      height: 32px;\n",
              "      padding: 0 0 0 0;\n",
              "      width: 32px;\n",
              "    }\n",
              "\n",
              "    .colab-df-convert:hover {\n",
              "      background-color: #E2EBFA;\n",
              "      box-shadow: 0px 1px 2px rgba(60, 64, 67, 0.3), 0px 1px 3px 1px rgba(60, 64, 67, 0.15);\n",
              "      fill: #174EA6;\n",
              "    }\n",
              "\n",
              "    [theme=dark] .colab-df-convert {\n",
              "      background-color: #3B4455;\n",
              "      fill: #D2E3FC;\n",
              "    }\n",
              "\n",
              "    [theme=dark] .colab-df-convert:hover {\n",
              "      background-color: #434B5C;\n",
              "      box-shadow: 0px 1px 3px 1px rgba(0, 0, 0, 0.15);\n",
              "      filter: drop-shadow(0px 1px 2px rgba(0, 0, 0, 0.3));\n",
              "      fill: #FFFFFF;\n",
              "    }\n",
              "  </style>\n",
              "\n",
              "      <script>\n",
              "        const buttonEl =\n",
              "          document.querySelector('#df-65b6adfb-33c2-4ed4-a484-6b28c6bd09dd button.colab-df-convert');\n",
              "        buttonEl.style.display =\n",
              "          google.colab.kernel.accessAllowed ? 'block' : 'none';\n",
              "\n",
              "        async function convertToInteractive(key) {\n",
              "          const element = document.querySelector('#df-65b6adfb-33c2-4ed4-a484-6b28c6bd09dd');\n",
              "          const dataTable =\n",
              "            await google.colab.kernel.invokeFunction('convertToInteractive',\n",
              "                                                     [key], {});\n",
              "          if (!dataTable) return;\n",
              "\n",
              "          const docLinkHtml = 'Like what you see? Visit the ' +\n",
              "            '<a target=\"_blank\" href=https://colab.research.google.com/notebooks/data_table.ipynb>data table notebook</a>'\n",
              "            + ' to learn more about interactive tables.';\n",
              "          element.innerHTML = '';\n",
              "          dataTable['output_type'] = 'display_data';\n",
              "          await google.colab.output.renderOutput(dataTable, element);\n",
              "          const docLink = document.createElement('div');\n",
              "          docLink.innerHTML = docLinkHtml;\n",
              "          element.appendChild(docLink);\n",
              "        }\n",
              "      </script>\n",
              "    </div>\n",
              "  </div>\n",
              "  "
            ]
          },
          "metadata": {},
          "execution_count": 70
        }
      ]
    },
    {
      "cell_type": "markdown",
      "source": [
        "# Merge HWSD Data"
      ],
      "metadata": {
        "id": "pfOJvWYLo8wz"
      }
    },
    {
      "cell_type": "code",
      "source": [
        "HWSD = pd.read_csv('/content/drive/MyDrive/SOCData/HWSD_DATA.csv')\n",
        "HWSD = HWSD[['MU_GLOBAL', 'S_OC']]\n",
        "HWSD"
      ],
      "metadata": {
        "id": "fnsXonYMo8NM",
        "colab": {
          "base_uri": "https://localhost:8080/",
          "height": 460
        },
        "outputId": "5cb66a38-b528-40ec-9add-b2e996284525"
      },
      "execution_count": 71,
      "outputs": [
        {
          "output_type": "stream",
          "name": "stderr",
          "text": [
            "/usr/local/lib/python3.8/dist-packages/IPython/core/interactiveshell.py:3326: DtypeWarning: Columns (7,9) have mixed types.Specify dtype option on import or set low_memory=False.\n",
            "  exec(code_obj, self.user_global_ns, self.user_ns)\n"
          ]
        },
        {
          "output_type": "execute_result",
          "data": {
            "text/plain": [
              "       MU_GLOBAL   S_OC\n",
              "0           7001    NaN\n",
              "1           7002    NaN\n",
              "2           7003    NaN\n",
              "3           7004  32.89\n",
              "4           7005    NaN\n",
              "...          ...    ...\n",
              "48143      32049   0.13\n",
              "48144      32049    NaN\n",
              "48145      32050    NaN\n",
              "48146      32050   0.13\n",
              "48147      32050   0.18\n",
              "\n",
              "[48148 rows x 2 columns]"
            ],
            "text/html": [
              "\n",
              "  <div id=\"df-802580bd-2878-4d06-8365-458ed5e7432f\">\n",
              "    <div class=\"colab-df-container\">\n",
              "      <div>\n",
              "<style scoped>\n",
              "    .dataframe tbody tr th:only-of-type {\n",
              "        vertical-align: middle;\n",
              "    }\n",
              "\n",
              "    .dataframe tbody tr th {\n",
              "        vertical-align: top;\n",
              "    }\n",
              "\n",
              "    .dataframe thead th {\n",
              "        text-align: right;\n",
              "    }\n",
              "</style>\n",
              "<table border=\"1\" class=\"dataframe\">\n",
              "  <thead>\n",
              "    <tr style=\"text-align: right;\">\n",
              "      <th></th>\n",
              "      <th>MU_GLOBAL</th>\n",
              "      <th>S_OC</th>\n",
              "    </tr>\n",
              "  </thead>\n",
              "  <tbody>\n",
              "    <tr>\n",
              "      <th>0</th>\n",
              "      <td>7001</td>\n",
              "      <td>NaN</td>\n",
              "    </tr>\n",
              "    <tr>\n",
              "      <th>1</th>\n",
              "      <td>7002</td>\n",
              "      <td>NaN</td>\n",
              "    </tr>\n",
              "    <tr>\n",
              "      <th>2</th>\n",
              "      <td>7003</td>\n",
              "      <td>NaN</td>\n",
              "    </tr>\n",
              "    <tr>\n",
              "      <th>3</th>\n",
              "      <td>7004</td>\n",
              "      <td>32.89</td>\n",
              "    </tr>\n",
              "    <tr>\n",
              "      <th>4</th>\n",
              "      <td>7005</td>\n",
              "      <td>NaN</td>\n",
              "    </tr>\n",
              "    <tr>\n",
              "      <th>...</th>\n",
              "      <td>...</td>\n",
              "      <td>...</td>\n",
              "    </tr>\n",
              "    <tr>\n",
              "      <th>48143</th>\n",
              "      <td>32049</td>\n",
              "      <td>0.13</td>\n",
              "    </tr>\n",
              "    <tr>\n",
              "      <th>48144</th>\n",
              "      <td>32049</td>\n",
              "      <td>NaN</td>\n",
              "    </tr>\n",
              "    <tr>\n",
              "      <th>48145</th>\n",
              "      <td>32050</td>\n",
              "      <td>NaN</td>\n",
              "    </tr>\n",
              "    <tr>\n",
              "      <th>48146</th>\n",
              "      <td>32050</td>\n",
              "      <td>0.13</td>\n",
              "    </tr>\n",
              "    <tr>\n",
              "      <th>48147</th>\n",
              "      <td>32050</td>\n",
              "      <td>0.18</td>\n",
              "    </tr>\n",
              "  </tbody>\n",
              "</table>\n",
              "<p>48148 rows × 2 columns</p>\n",
              "</div>\n",
              "      <button class=\"colab-df-convert\" onclick=\"convertToInteractive('df-802580bd-2878-4d06-8365-458ed5e7432f')\"\n",
              "              title=\"Convert this dataframe to an interactive table.\"\n",
              "              style=\"display:none;\">\n",
              "        \n",
              "  <svg xmlns=\"http://www.w3.org/2000/svg\" height=\"24px\"viewBox=\"0 0 24 24\"\n",
              "       width=\"24px\">\n",
              "    <path d=\"M0 0h24v24H0V0z\" fill=\"none\"/>\n",
              "    <path d=\"M18.56 5.44l.94 2.06.94-2.06 2.06-.94-2.06-.94-.94-2.06-.94 2.06-2.06.94zm-11 1L8.5 8.5l.94-2.06 2.06-.94-2.06-.94L8.5 2.5l-.94 2.06-2.06.94zm10 10l.94 2.06.94-2.06 2.06-.94-2.06-.94-.94-2.06-.94 2.06-2.06.94z\"/><path d=\"M17.41 7.96l-1.37-1.37c-.4-.4-.92-.59-1.43-.59-.52 0-1.04.2-1.43.59L10.3 9.45l-7.72 7.72c-.78.78-.78 2.05 0 2.83L4 21.41c.39.39.9.59 1.41.59.51 0 1.02-.2 1.41-.59l7.78-7.78 2.81-2.81c.8-.78.8-2.07 0-2.86zM5.41 20L4 18.59l7.72-7.72 1.47 1.35L5.41 20z\"/>\n",
              "  </svg>\n",
              "      </button>\n",
              "      \n",
              "  <style>\n",
              "    .colab-df-container {\n",
              "      display:flex;\n",
              "      flex-wrap:wrap;\n",
              "      gap: 12px;\n",
              "    }\n",
              "\n",
              "    .colab-df-convert {\n",
              "      background-color: #E8F0FE;\n",
              "      border: none;\n",
              "      border-radius: 50%;\n",
              "      cursor: pointer;\n",
              "      display: none;\n",
              "      fill: #1967D2;\n",
              "      height: 32px;\n",
              "      padding: 0 0 0 0;\n",
              "      width: 32px;\n",
              "    }\n",
              "\n",
              "    .colab-df-convert:hover {\n",
              "      background-color: #E2EBFA;\n",
              "      box-shadow: 0px 1px 2px rgba(60, 64, 67, 0.3), 0px 1px 3px 1px rgba(60, 64, 67, 0.15);\n",
              "      fill: #174EA6;\n",
              "    }\n",
              "\n",
              "    [theme=dark] .colab-df-convert {\n",
              "      background-color: #3B4455;\n",
              "      fill: #D2E3FC;\n",
              "    }\n",
              "\n",
              "    [theme=dark] .colab-df-convert:hover {\n",
              "      background-color: #434B5C;\n",
              "      box-shadow: 0px 1px 3px 1px rgba(0, 0, 0, 0.15);\n",
              "      filter: drop-shadow(0px 1px 2px rgba(0, 0, 0, 0.3));\n",
              "      fill: #FFFFFF;\n",
              "    }\n",
              "  </style>\n",
              "\n",
              "      <script>\n",
              "        const buttonEl =\n",
              "          document.querySelector('#df-802580bd-2878-4d06-8365-458ed5e7432f button.colab-df-convert');\n",
              "        buttonEl.style.display =\n",
              "          google.colab.kernel.accessAllowed ? 'block' : 'none';\n",
              "\n",
              "        async function convertToInteractive(key) {\n",
              "          const element = document.querySelector('#df-802580bd-2878-4d06-8365-458ed5e7432f');\n",
              "          const dataTable =\n",
              "            await google.colab.kernel.invokeFunction('convertToInteractive',\n",
              "                                                     [key], {});\n",
              "          if (!dataTable) return;\n",
              "\n",
              "          const docLinkHtml = 'Like what you see? Visit the ' +\n",
              "            '<a target=\"_blank\" href=https://colab.research.google.com/notebooks/data_table.ipynb>data table notebook</a>'\n",
              "            + ' to learn more about interactive tables.';\n",
              "          element.innerHTML = '';\n",
              "          dataTable['output_type'] = 'display_data';\n",
              "          await google.colab.output.renderOutput(dataTable, element);\n",
              "          const docLink = document.createElement('div');\n",
              "          docLink.innerHTML = docLinkHtml;\n",
              "          element.appendChild(docLink);\n",
              "        }\n",
              "      </script>\n",
              "    </div>\n",
              "  </div>\n",
              "  "
            ]
          },
          "metadata": {},
          "execution_count": 71
        }
      ]
    },
    {
      "cell_type": "code",
      "source": [
        "HWSD = HWSD.groupby('MU_GLOBAL').mean()"
      ],
      "metadata": {
        "id": "wXlPJMr4-Cl0"
      },
      "execution_count": 72,
      "outputs": []
    },
    {
      "cell_type": "code",
      "source": [
        "new = pd.merge(imputed_df, HWSD, on=\"MU_GLOBAL\")\n",
        "new = new.dropna()"
      ],
      "metadata": {
        "id": "onmsoI4qp8LT"
      },
      "execution_count": 73,
      "outputs": []
    },
    {
      "cell_type": "markdown",
      "source": [
        "# Split Data"
      ],
      "metadata": {
        "id": "_cnxFqoOrQSB"
      }
    },
    {
      "cell_type": "code",
      "source": [
        "y = new.pop('S_OC')\n",
        "X = new"
      ],
      "metadata": {
        "id": "6VELKxebrUn9"
      },
      "execution_count": 74,
      "outputs": []
    },
    {
      "cell_type": "code",
      "source": [
        "assert 'S_OC' not in X.columns"
      ],
      "metadata": {
        "id": "SsR-6VS-rf3T"
      },
      "execution_count": 75,
      "outputs": []
    },
    {
      "cell_type": "code",
      "source": [
        "from sklearn.model_selection import train_test_split\n",
        "\n",
        "X_train, X_test, y_train, y_test = train_test_split(\n",
        "        X, y, test_size=0.2, random_state=42)"
      ],
      "metadata": {
        "id": "3GQBO0rwrPj4"
      },
      "execution_count": 76,
      "outputs": []
    },
    {
      "cell_type": "code",
      "source": [
        "assert len(X_train) == len(y_train)"
      ],
      "metadata": {
        "id": "OUhwe7Y8r2U1"
      },
      "execution_count": 77,
      "outputs": []
    },
    {
      "cell_type": "code",
      "source": [
        "assert len(X_test) == len(y_test)"
      ],
      "metadata": {
        "id": "HABQVKJIr6_C"
      },
      "execution_count": 78,
      "outputs": []
    },
    {
      "cell_type": "markdown",
      "source": [
        "# Feature Standardization"
      ],
      "metadata": {
        "id": "W1Lh0yGjpwaf"
      }
    },
    {
      "cell_type": "code",
      "source": [
        "from sklearn.preprocessing import StandardScaler\n",
        "\n",
        "scaler = StandardScaler()\n",
        "X_train = scaler.fit_transform(X_train)\n",
        "\n",
        "X_test = scaler.transform(X_test)"
      ],
      "metadata": {
        "id": "W4btsTmopzjA"
      },
      "execution_count": 79,
      "outputs": []
    },
    {
      "cell_type": "markdown",
      "source": [
        "# Decision Tree Regressor"
      ],
      "metadata": {
        "id": "Qp_PqmAa_caS"
      }
    },
    {
      "cell_type": "code",
      "source": [
        "from sklearn.tree import DecisionTreeRegressor\n",
        "\n",
        "dt = DecisionTreeRegressor()\n",
        "dt.fit(X_train, y_train)"
      ],
      "metadata": {
        "colab": {
          "base_uri": "https://localhost:8080/"
        },
        "id": "c9PcQHDx_e7a",
        "outputId": "390169d4-1d1a-41f8-f52d-f9d495550c7e"
      },
      "execution_count": 115,
      "outputs": [
        {
          "output_type": "execute_result",
          "data": {
            "text/plain": [
              "DecisionTreeRegressor()"
            ]
          },
          "metadata": {},
          "execution_count": 115
        }
      ]
    },
    {
      "cell_type": "markdown",
      "source": [
        "# Random Forest Regressor"
      ],
      "metadata": {
        "id": "OYEHfetasAo6"
      }
    },
    {
      "cell_type": "code",
      "source": [
        "from sklearn.ensemble import RandomForestRegressor\n",
        "\n",
        "rf = RandomForestRegressor()\n",
        "rf.fit(X_train, y_train)"
      ],
      "metadata": {
        "id": "qbe1nzH_r_6e",
        "colab": {
          "base_uri": "https://localhost:8080/"
        },
        "outputId": "f4e6af30-263e-4ec9-8ace-2460aa77c077"
      },
      "execution_count": 116,
      "outputs": [
        {
          "output_type": "execute_result",
          "data": {
            "text/plain": [
              "RandomForestRegressor()"
            ]
          },
          "metadata": {},
          "execution_count": 116
        }
      ]
    },
    {
      "cell_type": "markdown",
      "source": [
        "# XGBoost"
      ],
      "metadata": {
        "id": "ePUxhOzV_v1N"
      }
    },
    {
      "cell_type": "code",
      "source": [
        "from xgboost import XGBRegressor\n",
        "\n",
        "X_train_xgb, X_val, y_train_xgb, y_val = train_test_split(X_train, y_train)\n",
        "\n",
        "xgb = XGBRegressor(n_estimators=1500, learning_rate=0.01, eval_metric=\"rmse\", early_stopping_rounds=10)\n",
        "xgb.fit(X_train, y_train, verbose =100)"
      ],
      "metadata": {
        "colab": {
          "base_uri": "https://localhost:8080/"
        },
        "id": "doV2skXS_zHz",
        "outputId": "769350b6-9c24-4916-9c44-037a929e2562"
      },
      "execution_count": 128,
      "outputs": [
        {
          "output_type": "stream",
          "name": "stdout",
          "text": [
            "[00:26:37] WARNING: /workspace/src/objective/regression_obj.cu:152: reg:linear is now deprecated in favor of reg:squarederror.\n"
          ]
        },
        {
          "output_type": "execute_result",
          "data": {
            "text/plain": [
              "XGBRegressor(early_stopping_rounds=10, eval_metric='rmse', learning_rate=0.01,\n",
              "             n_estimators=1500)"
            ]
          },
          "metadata": {},
          "execution_count": 128
        }
      ]
    },
    {
      "cell_type": "markdown",
      "source": [
        "# SVM"
      ],
      "metadata": {
        "id": "e4jWU28RA4w6"
      }
    },
    {
      "cell_type": "code",
      "source": [
        "from sklearn.svm import SVR\n",
        "\n",
        "svr = SVR(C=1.0, epsilon=0.2)\n",
        "svr.fit(X_train, y_train)"
      ],
      "metadata": {
        "colab": {
          "base_uri": "https://localhost:8080/"
        },
        "id": "5vV0w6TpA5tm",
        "outputId": "3b0fa83d-5f8b-429e-e156-ba7879dbed4b"
      },
      "execution_count": 118,
      "outputs": [
        {
          "output_type": "execute_result",
          "data": {
            "text/plain": [
              "SVR(epsilon=0.2)"
            ]
          },
          "metadata": {},
          "execution_count": 118
        }
      ]
    },
    {
      "cell_type": "markdown",
      "source": [
        "# LGBM"
      ],
      "metadata": {
        "id": "7dFVF4TmBjQ6"
      }
    },
    {
      "cell_type": "code",
      "source": [
        "import lightgbm\n",
        "\n",
        "hyper_params = {\n",
        "    'objective': 'regression',\n",
        "    'metric': 'rmse',\n",
        "    'learning_rate': 0.005,\n",
        "    'verbose': -1,\n",
        "    'n_estimators': 1000,\n",
        "    'random_state' : 0\n",
        "}\n",
        "\n",
        "lgbm = lightgbm.LGBMRegressor(**hyper_params)\n",
        "\n",
        "lgbm.fit(X_train_xgb,\n",
        "         y_train_xgb,\n",
        "         eval_set = [(X_val, y_val)],\n",
        "         callbacks = [lightgbm.early_stopping(stopping_rounds = 20)],\n",
        "         verbose = 100\n",
        ")"
      ],
      "metadata": {
        "colab": {
          "base_uri": "https://localhost:8080/"
        },
        "id": "NFgyAsBdBilr",
        "outputId": "65fd02bf-91a4-44fb-a09c-f01398a22665"
      },
      "execution_count": 119,
      "outputs": [
        {
          "output_type": "stream",
          "name": "stdout",
          "text": [
            "Training until validation scores don't improve for 20 rounds.\n",
            "Early stopping, best iteration is:\n",
            "[71]\tvalid_0's rmse: 0.276717\n"
          ]
        },
        {
          "output_type": "execute_result",
          "data": {
            "text/plain": [
              "LGBMRegressor(learning_rate=0.005, metric='rmse', n_estimators=1000,\n",
              "              objective='regression', random_state=0, verbose=-1)"
            ]
          },
          "metadata": {},
          "execution_count": 119
        }
      ]
    },
    {
      "cell_type": "markdown",
      "source": [
        "# RMSE"
      ],
      "metadata": {
        "id": "uilHrP8osRWb"
      }
    },
    {
      "cell_type": "code",
      "source": [
        "from sklearn.metrics import mean_squared_error\n",
        "\n",
        "models_list = {\n",
        "    \"Decision Tree\" : dt,\n",
        "    \"Random Forest\" : rf,\n",
        "    \"XGBoost\" : xgb,\n",
        "    \"SVR\" : svr,\n",
        "    \"LGBM\" : lgbm,\n",
        "}\n",
        "\n",
        "for name, model in models_list.items():\n",
        "    print(name + \": \" + str(round(mean_squared_error(model.predict(X_test), y_test), 5)))"
      ],
      "metadata": {
        "id": "z5Bc4MuJsNEE",
        "colab": {
          "base_uri": "https://localhost:8080/"
        },
        "outputId": "d7153d90-2914-4e9c-a9fd-dd32c8ff8814"
      },
      "execution_count": 129,
      "outputs": [
        {
          "output_type": "stream",
          "name": "stdout",
          "text": [
            "Decision Tree: 4.39103\n",
            "Random Forest: 3.18231\n",
            "XGBoost: 5.75293\n",
            "SVR: 2.92049\n",
            "LGBM: 2.87813\n"
          ]
        }
      ]
    }
  ]
}