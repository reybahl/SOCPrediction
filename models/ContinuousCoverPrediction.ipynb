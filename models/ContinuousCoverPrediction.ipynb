{
  "nbformat": 4,
  "nbformat_minor": 0,
  "metadata": {
    "colab": {
      "provenance": [],
      "mount_file_id": "1Uz7y-9TP1AJCr2-NljOrvJtiv5auuOP4",
      "authorship_tag": "ABX9TyP6WYaGEP1rvStXSjiiT3YA"
    },
    "kernelspec": {
      "name": "python3",
      "display_name": "Python 3"
    },
    "language_info": {
      "name": "python"
    }
  },
  "cells": [
    {
      "cell_type": "code",
      "execution_count": 134,
      "metadata": {
        "colab": {
          "base_uri": "https://localhost:8080/",
          "height": 1000
        },
        "id": "hzNm74xUKidg",
        "outputId": "f74cb29c-a01c-45f3-97be-b9b92ac84c2c"
      },
      "outputs": [
        {
          "output_type": "execute_result",
          "data": {
            "text/plain": [
              "               review                                         rv rvYear  \\\n",
              "0    Continuous Cover  volatilized ammonia during growing season    1;2   \n",
              "1    Continuous Cover  volatilized ammonia during growing season    1;2   \n",
              "2    Continuous Cover  volatilized ammonia during growing season    1;2   \n",
              "3    Continuous Cover  volatilized ammonia during growing season    1;2   \n",
              "4    Continuous Cover  volatilized ammonia during growing season    1;2   \n",
              "..                ...                                        ...    ...   \n",
              "503  Continuous Cover         metabolic quotient, 20-30 cm depth      3   \n",
              "504  Continuous Cover         metabolic quotient, 20-30 cm depth      3   \n",
              "505  Continuous Cover         metabolic quotient, 20-30 cm depth      3   \n",
              "506  Continuous Cover         metabolic quotient, 20-30 cm depth      3   \n",
              "507  Continuous Cover         metabolic quotient, 20-30 cm depth      3   \n",
              "\n",
              "         rvUnits  startYear  studyLength sampleDepth  controlValue  trtValue  \\\n",
              "0        kg N/ha       2017            2         NaN          34.4      28.8   \n",
              "1        kg N/ha       2017            2         NaN          34.4      21.7   \n",
              "2        kg N/ha       2017            2         NaN           0.9      28.8   \n",
              "3        kg N/ha       2017            2         NaN           0.7      21.7   \n",
              "4        kg N/ha       2017            2         NaN          20.6       7.7   \n",
              "..           ...        ...          ...         ...           ...       ...   \n",
              "503  RMS-mg/kg/d       2016            3     0-60 cm          39.5      37.7   \n",
              "504  RMS-mg/kg/d       2016            3     0-60 cm          34.1      37.6   \n",
              "505  RMS-mg/kg/d       2016            3     0-60 cm          34.1      37.7   \n",
              "506  RMS-mg/kg/d       2016            3     0-60 cm          38.2      37.6   \n",
              "507  RMS-mg/kg/d       2016            3     0-60 cm          38.2      37.7   \n",
              "\n",
              "     percentChange  ...  authors_abbrev pubyear  \\\n",
              "0           -16.28  ...  Nyawade et al.    2020   \n",
              "1           -36.92  ...  Nyawade et al.    2020   \n",
              "2          3100.00  ...  Nyawade et al.    2020   \n",
              "3          3000.00  ...  Nyawade et al.    2020   \n",
              "4           -62.62  ...  Nyawade et al.    2020   \n",
              "..             ...  ...             ...     ...   \n",
              "503          -4.56  ...  Nyawade et al.    2019   \n",
              "504          10.26  ...  Nyawade et al.    2019   \n",
              "505          10.56  ...  Nyawade et al.    2019   \n",
              "506          -1.57  ...  Nyawade et al.    2019   \n",
              "507          -1.31  ...  Nyawade et al.    2019   \n",
              "\n",
              "                                journal volume_issue    pages    city   lat  \\\n",
              "0    Nutrient Cycling in Agroecosystems          117    43-59  Kabete -1.25   \n",
              "1    Nutrient Cycling in Agroecosystems          117    43-59  Kabete -1.25   \n",
              "2    Nutrient Cycling in Agroecosystems          117    43-59  Kabete -1.25   \n",
              "3    Nutrient Cycling in Agroecosystems          117    43-59  Kabete -1.25   \n",
              "4    Nutrient Cycling in Agroecosystems          117    43-59     NaN   NaN   \n",
              "..                                  ...          ...      ...     ...   ...   \n",
              "503                Applied Soil Ecology          142  123-135     NaN   NaN   \n",
              "504                Applied Soil Ecology          142  123-135     NaN   NaN   \n",
              "505                Applied Soil Ecology          142  123-135     NaN   NaN   \n",
              "506                Applied Soil Ecology          142  123-135     NaN   NaN   \n",
              "507                Applied Soil Ecology          142  123-135     NaN   NaN   \n",
              "\n",
              "       lon duration order  \n",
              "0    36.74      2.0   3.0  \n",
              "1    36.74      2.0   3.0  \n",
              "2    36.74      2.0   3.0  \n",
              "3    36.74      2.0   3.0  \n",
              "4      NaN      NaN   NaN  \n",
              "..     ...      ...   ...  \n",
              "503    NaN      NaN   NaN  \n",
              "504    NaN      NaN   NaN  \n",
              "505    NaN      NaN   NaN  \n",
              "506    NaN      NaN   NaN  \n",
              "507    NaN      NaN   NaN  \n",
              "\n",
              "[508 rows x 34 columns]"
            ],
            "text/html": [
              "\n",
              "  <div id=\"df-86a86792-da14-4254-90aa-14c528ea325f\">\n",
              "    <div class=\"colab-df-container\">\n",
              "      <div>\n",
              "<style scoped>\n",
              "    .dataframe tbody tr th:only-of-type {\n",
              "        vertical-align: middle;\n",
              "    }\n",
              "\n",
              "    .dataframe tbody tr th {\n",
              "        vertical-align: top;\n",
              "    }\n",
              "\n",
              "    .dataframe thead th {\n",
              "        text-align: right;\n",
              "    }\n",
              "</style>\n",
              "<table border=\"1\" class=\"dataframe\">\n",
              "  <thead>\n",
              "    <tr style=\"text-align: right;\">\n",
              "      <th></th>\n",
              "      <th>review</th>\n",
              "      <th>rv</th>\n",
              "      <th>rvYear</th>\n",
              "      <th>rvUnits</th>\n",
              "      <th>startYear</th>\n",
              "      <th>studyLength</th>\n",
              "      <th>sampleDepth</th>\n",
              "      <th>controlValue</th>\n",
              "      <th>trtValue</th>\n",
              "      <th>percentChange</th>\n",
              "      <th>...</th>\n",
              "      <th>authors_abbrev</th>\n",
              "      <th>pubyear</th>\n",
              "      <th>journal</th>\n",
              "      <th>volume_issue</th>\n",
              "      <th>pages</th>\n",
              "      <th>city</th>\n",
              "      <th>lat</th>\n",
              "      <th>lon</th>\n",
              "      <th>duration</th>\n",
              "      <th>order</th>\n",
              "    </tr>\n",
              "  </thead>\n",
              "  <tbody>\n",
              "    <tr>\n",
              "      <th>0</th>\n",
              "      <td>Continuous Cover</td>\n",
              "      <td>volatilized ammonia during growing season</td>\n",
              "      <td>1;2</td>\n",
              "      <td>kg N/ha</td>\n",
              "      <td>2017</td>\n",
              "      <td>2</td>\n",
              "      <td>NaN</td>\n",
              "      <td>34.4</td>\n",
              "      <td>28.8</td>\n",
              "      <td>-16.28</td>\n",
              "      <td>...</td>\n",
              "      <td>Nyawade et al.</td>\n",
              "      <td>2020</td>\n",
              "      <td>Nutrient Cycling in Agroecosystems</td>\n",
              "      <td>117</td>\n",
              "      <td>43-59</td>\n",
              "      <td>Kabete</td>\n",
              "      <td>-1.25</td>\n",
              "      <td>36.74</td>\n",
              "      <td>2.0</td>\n",
              "      <td>3.0</td>\n",
              "    </tr>\n",
              "    <tr>\n",
              "      <th>1</th>\n",
              "      <td>Continuous Cover</td>\n",
              "      <td>volatilized ammonia during growing season</td>\n",
              "      <td>1;2</td>\n",
              "      <td>kg N/ha</td>\n",
              "      <td>2017</td>\n",
              "      <td>2</td>\n",
              "      <td>NaN</td>\n",
              "      <td>34.4</td>\n",
              "      <td>21.7</td>\n",
              "      <td>-36.92</td>\n",
              "      <td>...</td>\n",
              "      <td>Nyawade et al.</td>\n",
              "      <td>2020</td>\n",
              "      <td>Nutrient Cycling in Agroecosystems</td>\n",
              "      <td>117</td>\n",
              "      <td>43-59</td>\n",
              "      <td>Kabete</td>\n",
              "      <td>-1.25</td>\n",
              "      <td>36.74</td>\n",
              "      <td>2.0</td>\n",
              "      <td>3.0</td>\n",
              "    </tr>\n",
              "    <tr>\n",
              "      <th>2</th>\n",
              "      <td>Continuous Cover</td>\n",
              "      <td>volatilized ammonia during growing season</td>\n",
              "      <td>1;2</td>\n",
              "      <td>kg N/ha</td>\n",
              "      <td>2017</td>\n",
              "      <td>2</td>\n",
              "      <td>NaN</td>\n",
              "      <td>0.9</td>\n",
              "      <td>28.8</td>\n",
              "      <td>3100.00</td>\n",
              "      <td>...</td>\n",
              "      <td>Nyawade et al.</td>\n",
              "      <td>2020</td>\n",
              "      <td>Nutrient Cycling in Agroecosystems</td>\n",
              "      <td>117</td>\n",
              "      <td>43-59</td>\n",
              "      <td>Kabete</td>\n",
              "      <td>-1.25</td>\n",
              "      <td>36.74</td>\n",
              "      <td>2.0</td>\n",
              "      <td>3.0</td>\n",
              "    </tr>\n",
              "    <tr>\n",
              "      <th>3</th>\n",
              "      <td>Continuous Cover</td>\n",
              "      <td>volatilized ammonia during growing season</td>\n",
              "      <td>1;2</td>\n",
              "      <td>kg N/ha</td>\n",
              "      <td>2017</td>\n",
              "      <td>2</td>\n",
              "      <td>NaN</td>\n",
              "      <td>0.7</td>\n",
              "      <td>21.7</td>\n",
              "      <td>3000.00</td>\n",
              "      <td>...</td>\n",
              "      <td>Nyawade et al.</td>\n",
              "      <td>2020</td>\n",
              "      <td>Nutrient Cycling in Agroecosystems</td>\n",
              "      <td>117</td>\n",
              "      <td>43-59</td>\n",
              "      <td>Kabete</td>\n",
              "      <td>-1.25</td>\n",
              "      <td>36.74</td>\n",
              "      <td>2.0</td>\n",
              "      <td>3.0</td>\n",
              "    </tr>\n",
              "    <tr>\n",
              "      <th>4</th>\n",
              "      <td>Continuous Cover</td>\n",
              "      <td>volatilized ammonia during growing season</td>\n",
              "      <td>1;2</td>\n",
              "      <td>kg N/ha</td>\n",
              "      <td>2017</td>\n",
              "      <td>2</td>\n",
              "      <td>NaN</td>\n",
              "      <td>20.6</td>\n",
              "      <td>7.7</td>\n",
              "      <td>-62.62</td>\n",
              "      <td>...</td>\n",
              "      <td>Nyawade et al.</td>\n",
              "      <td>2020</td>\n",
              "      <td>Nutrient Cycling in Agroecosystems</td>\n",
              "      <td>117</td>\n",
              "      <td>43-59</td>\n",
              "      <td>NaN</td>\n",
              "      <td>NaN</td>\n",
              "      <td>NaN</td>\n",
              "      <td>NaN</td>\n",
              "      <td>NaN</td>\n",
              "    </tr>\n",
              "    <tr>\n",
              "      <th>...</th>\n",
              "      <td>...</td>\n",
              "      <td>...</td>\n",
              "      <td>...</td>\n",
              "      <td>...</td>\n",
              "      <td>...</td>\n",
              "      <td>...</td>\n",
              "      <td>...</td>\n",
              "      <td>...</td>\n",
              "      <td>...</td>\n",
              "      <td>...</td>\n",
              "      <td>...</td>\n",
              "      <td>...</td>\n",
              "      <td>...</td>\n",
              "      <td>...</td>\n",
              "      <td>...</td>\n",
              "      <td>...</td>\n",
              "      <td>...</td>\n",
              "      <td>...</td>\n",
              "      <td>...</td>\n",
              "      <td>...</td>\n",
              "      <td>...</td>\n",
              "    </tr>\n",
              "    <tr>\n",
              "      <th>503</th>\n",
              "      <td>Continuous Cover</td>\n",
              "      <td>metabolic quotient, 20-30 cm depth</td>\n",
              "      <td>3</td>\n",
              "      <td>RMS-mg/kg/d</td>\n",
              "      <td>2016</td>\n",
              "      <td>3</td>\n",
              "      <td>0-60 cm</td>\n",
              "      <td>39.5</td>\n",
              "      <td>37.7</td>\n",
              "      <td>-4.56</td>\n",
              "      <td>...</td>\n",
              "      <td>Nyawade et al.</td>\n",
              "      <td>2019</td>\n",
              "      <td>Applied Soil Ecology</td>\n",
              "      <td>142</td>\n",
              "      <td>123-135</td>\n",
              "      <td>NaN</td>\n",
              "      <td>NaN</td>\n",
              "      <td>NaN</td>\n",
              "      <td>NaN</td>\n",
              "      <td>NaN</td>\n",
              "    </tr>\n",
              "    <tr>\n",
              "      <th>504</th>\n",
              "      <td>Continuous Cover</td>\n",
              "      <td>metabolic quotient, 20-30 cm depth</td>\n",
              "      <td>3</td>\n",
              "      <td>RMS-mg/kg/d</td>\n",
              "      <td>2016</td>\n",
              "      <td>3</td>\n",
              "      <td>0-60 cm</td>\n",
              "      <td>34.1</td>\n",
              "      <td>37.6</td>\n",
              "      <td>10.26</td>\n",
              "      <td>...</td>\n",
              "      <td>Nyawade et al.</td>\n",
              "      <td>2019</td>\n",
              "      <td>Applied Soil Ecology</td>\n",
              "      <td>142</td>\n",
              "      <td>123-135</td>\n",
              "      <td>NaN</td>\n",
              "      <td>NaN</td>\n",
              "      <td>NaN</td>\n",
              "      <td>NaN</td>\n",
              "      <td>NaN</td>\n",
              "    </tr>\n",
              "    <tr>\n",
              "      <th>505</th>\n",
              "      <td>Continuous Cover</td>\n",
              "      <td>metabolic quotient, 20-30 cm depth</td>\n",
              "      <td>3</td>\n",
              "      <td>RMS-mg/kg/d</td>\n",
              "      <td>2016</td>\n",
              "      <td>3</td>\n",
              "      <td>0-60 cm</td>\n",
              "      <td>34.1</td>\n",
              "      <td>37.7</td>\n",
              "      <td>10.56</td>\n",
              "      <td>...</td>\n",
              "      <td>Nyawade et al.</td>\n",
              "      <td>2019</td>\n",
              "      <td>Applied Soil Ecology</td>\n",
              "      <td>142</td>\n",
              "      <td>123-135</td>\n",
              "      <td>NaN</td>\n",
              "      <td>NaN</td>\n",
              "      <td>NaN</td>\n",
              "      <td>NaN</td>\n",
              "      <td>NaN</td>\n",
              "    </tr>\n",
              "    <tr>\n",
              "      <th>506</th>\n",
              "      <td>Continuous Cover</td>\n",
              "      <td>metabolic quotient, 20-30 cm depth</td>\n",
              "      <td>3</td>\n",
              "      <td>RMS-mg/kg/d</td>\n",
              "      <td>2016</td>\n",
              "      <td>3</td>\n",
              "      <td>0-60 cm</td>\n",
              "      <td>38.2</td>\n",
              "      <td>37.6</td>\n",
              "      <td>-1.57</td>\n",
              "      <td>...</td>\n",
              "      <td>Nyawade et al.</td>\n",
              "      <td>2019</td>\n",
              "      <td>Applied Soil Ecology</td>\n",
              "      <td>142</td>\n",
              "      <td>123-135</td>\n",
              "      <td>NaN</td>\n",
              "      <td>NaN</td>\n",
              "      <td>NaN</td>\n",
              "      <td>NaN</td>\n",
              "      <td>NaN</td>\n",
              "    </tr>\n",
              "    <tr>\n",
              "      <th>507</th>\n",
              "      <td>Continuous Cover</td>\n",
              "      <td>metabolic quotient, 20-30 cm depth</td>\n",
              "      <td>3</td>\n",
              "      <td>RMS-mg/kg/d</td>\n",
              "      <td>2016</td>\n",
              "      <td>3</td>\n",
              "      <td>0-60 cm</td>\n",
              "      <td>38.2</td>\n",
              "      <td>37.7</td>\n",
              "      <td>-1.31</td>\n",
              "      <td>...</td>\n",
              "      <td>Nyawade et al.</td>\n",
              "      <td>2019</td>\n",
              "      <td>Applied Soil Ecology</td>\n",
              "      <td>142</td>\n",
              "      <td>123-135</td>\n",
              "      <td>NaN</td>\n",
              "      <td>NaN</td>\n",
              "      <td>NaN</td>\n",
              "      <td>NaN</td>\n",
              "      <td>NaN</td>\n",
              "    </tr>\n",
              "  </tbody>\n",
              "</table>\n",
              "<p>508 rows × 34 columns</p>\n",
              "</div>\n",
              "      <button class=\"colab-df-convert\" onclick=\"convertToInteractive('df-86a86792-da14-4254-90aa-14c528ea325f')\"\n",
              "              title=\"Convert this dataframe to an interactive table.\"\n",
              "              style=\"display:none;\">\n",
              "        \n",
              "  <svg xmlns=\"http://www.w3.org/2000/svg\" height=\"24px\"viewBox=\"0 0 24 24\"\n",
              "       width=\"24px\">\n",
              "    <path d=\"M0 0h24v24H0V0z\" fill=\"none\"/>\n",
              "    <path d=\"M18.56 5.44l.94 2.06.94-2.06 2.06-.94-2.06-.94-.94-2.06-.94 2.06-2.06.94zm-11 1L8.5 8.5l.94-2.06 2.06-.94-2.06-.94L8.5 2.5l-.94 2.06-2.06.94zm10 10l.94 2.06.94-2.06 2.06-.94-2.06-.94-.94-2.06-.94 2.06-2.06.94z\"/><path d=\"M17.41 7.96l-1.37-1.37c-.4-.4-.92-.59-1.43-.59-.52 0-1.04.2-1.43.59L10.3 9.45l-7.72 7.72c-.78.78-.78 2.05 0 2.83L4 21.41c.39.39.9.59 1.41.59.51 0 1.02-.2 1.41-.59l7.78-7.78 2.81-2.81c.8-.78.8-2.07 0-2.86zM5.41 20L4 18.59l7.72-7.72 1.47 1.35L5.41 20z\"/>\n",
              "  </svg>\n",
              "      </button>\n",
              "      \n",
              "  <style>\n",
              "    .colab-df-container {\n",
              "      display:flex;\n",
              "      flex-wrap:wrap;\n",
              "      gap: 12px;\n",
              "    }\n",
              "\n",
              "    .colab-df-convert {\n",
              "      background-color: #E8F0FE;\n",
              "      border: none;\n",
              "      border-radius: 50%;\n",
              "      cursor: pointer;\n",
              "      display: none;\n",
              "      fill: #1967D2;\n",
              "      height: 32px;\n",
              "      padding: 0 0 0 0;\n",
              "      width: 32px;\n",
              "    }\n",
              "\n",
              "    .colab-df-convert:hover {\n",
              "      background-color: #E2EBFA;\n",
              "      box-shadow: 0px 1px 2px rgba(60, 64, 67, 0.3), 0px 1px 3px 1px rgba(60, 64, 67, 0.15);\n",
              "      fill: #174EA6;\n",
              "    }\n",
              "\n",
              "    [theme=dark] .colab-df-convert {\n",
              "      background-color: #3B4455;\n",
              "      fill: #D2E3FC;\n",
              "    }\n",
              "\n",
              "    [theme=dark] .colab-df-convert:hover {\n",
              "      background-color: #434B5C;\n",
              "      box-shadow: 0px 1px 3px 1px rgba(0, 0, 0, 0.15);\n",
              "      filter: drop-shadow(0px 1px 2px rgba(0, 0, 0, 0.3));\n",
              "      fill: #FFFFFF;\n",
              "    }\n",
              "  </style>\n",
              "\n",
              "      <script>\n",
              "        const buttonEl =\n",
              "          document.querySelector('#df-86a86792-da14-4254-90aa-14c528ea325f button.colab-df-convert');\n",
              "        buttonEl.style.display =\n",
              "          google.colab.kernel.accessAllowed ? 'block' : 'none';\n",
              "\n",
              "        async function convertToInteractive(key) {\n",
              "          const element = document.querySelector('#df-86a86792-da14-4254-90aa-14c528ea325f');\n",
              "          const dataTable =\n",
              "            await google.colab.kernel.invokeFunction('convertToInteractive',\n",
              "                                                     [key], {});\n",
              "          if (!dataTable) return;\n",
              "\n",
              "          const docLinkHtml = 'Like what you see? Visit the ' +\n",
              "            '<a target=\"_blank\" href=https://colab.research.google.com/notebooks/data_table.ipynb>data table notebook</a>'\n",
              "            + ' to learn more about interactive tables.';\n",
              "          element.innerHTML = '';\n",
              "          dataTable['output_type'] = 'display_data';\n",
              "          await google.colab.output.renderOutput(dataTable, element);\n",
              "          const docLink = document.createElement('div');\n",
              "          docLink.innerHTML = docLinkHtml;\n",
              "          element.appendChild(docLink);\n",
              "        }\n",
              "      </script>\n",
              "    </div>\n",
              "  </div>\n",
              "  "
            ]
          },
          "metadata": {},
          "execution_count": 134
        }
      ],
      "source": [
        "import pandas as pd\n",
        "df_list = [pd.read_csv('/content/drive/MyDrive/SOC/Data/AgEvidence/continuous cover/continuous cover0.csv')]\n",
        "df = pd.concat(df_list, axis = 0)\n",
        "df"
      ]
    },
    {
      "cell_type": "code",
      "source": [
        "df.rv = df.rv.str.lower()"
      ],
      "metadata": {
        "id": "PQ3Hur8aLSj1"
      },
      "execution_count": 135,
      "outputs": []
    },
    {
      "cell_type": "code",
      "source": [
        "df = df.query('rv.str.contains(\"carbon\") or rv.str.contains(\"organic matter fraction\")', engine='python')"
      ],
      "metadata": {
        "id": "cvnGM4WTKlVJ"
      },
      "execution_count": 163,
      "outputs": []
    },
    {
      "cell_type": "code",
      "source": [
        "df"
      ],
      "metadata": {
        "colab": {
          "base_uri": "https://localhost:8080/",
          "height": 1000
        },
        "id": "fnSW230EuMJ2",
        "outputId": "6bf6fdd7-bcea-483f-b9b1-c1db20f93d58"
      },
      "execution_count": 164,
      "outputs": [
        {
          "output_type": "execute_result",
          "data": {
            "text/plain": [
              "               review                                    rv rvYear  \\\n",
              "37   Continuous Cover   loss of total carbon due to erosion      1   \n",
              "38   Continuous Cover   loss of total carbon due to erosion      1   \n",
              "39   Continuous Cover   loss of total carbon due to erosion      1   \n",
              "40   Continuous Cover   loss of total carbon due to erosion      1   \n",
              "41   Continuous Cover   loss of total carbon due to erosion      1   \n",
              "..                ...                                   ...    ...   \n",
              "359  Continuous Cover                  total organic carbon      6   \n",
              "360  Continuous Cover                  total organic carbon      6   \n",
              "361  Continuous Cover                  total organic carbon      6   \n",
              "362  Continuous Cover                  total organic carbon     15   \n",
              "363  Continuous Cover  percent total of soil organic carbon    1;2   \n",
              "\n",
              "          rvUnits  startYear  studyLength sampleDepth  controlValue  trtValue  \\\n",
              "37          kg/ha       1992            1         NaN        773.00    184.00   \n",
              "38          kg/ha       1992            1         NaN        773.00    101.00   \n",
              "39          kg/ha       1992            1         NaN        773.00     53.00   \n",
              "40          kg/ha       1992            1         NaN        184.00     53.00   \n",
              "41          kg/ha       1992            1         NaN        101.00     53.00   \n",
              "..            ...        ...          ...         ...           ...       ...   \n",
              "359  not provided       2010           15     0-30 cm          2.20      2.47   \n",
              "360  not provided       2010           15     0-30 cm          2.45      2.47   \n",
              "361  not provided       2003           15     0-30 cm          3.26      3.57   \n",
              "362  not provided       2003           15     0-30 cm          2.40      4.67   \n",
              "363             %       2012            2     0-30 cm          1.78      1.83   \n",
              "\n",
              "     percentChange  ...  bare soil_control monocrop_control  \\\n",
              "37          -76.20  ...                  1                0   \n",
              "38          -86.93  ...                  1                0   \n",
              "39          -93.14  ...                  1                0   \n",
              "40          -71.20  ...                  0                1   \n",
              "41          -47.52  ...                  0                1   \n",
              "..             ...  ...                ...              ...   \n",
              "359          12.27  ...                  0                1   \n",
              "360           0.82  ...                  0                1   \n",
              "361           9.51  ...                  0                1   \n",
              "362          94.58  ...                  0                1   \n",
              "363           0.05  ...                  0                1   \n",
              "\n",
              "    intercrop_treatment monocrop_treatment alley crop_treatment  \\\n",
              "37                    0                  1                    0   \n",
              "38                    0                  1                    0   \n",
              "39                    1                  0                    0   \n",
              "40                    1                  0                    0   \n",
              "41                    1                  0                    0   \n",
              "..                  ...                ...                  ...   \n",
              "359                   1                  0                    0   \n",
              "360                   1                  0                    0   \n",
              "361                   1                  0                    0   \n",
              "362                   1                  0                    0   \n",
              "363                   0                  0                    1   \n",
              "\n",
              "     Tree_croptype Bean_croptype Bare Soil_croptype Vegetable_croptype  \\\n",
              "37               0             0                  1                  0   \n",
              "38               0             0                  1                  0   \n",
              "39               0             0                  1                  0   \n",
              "40               0             0                  0                  0   \n",
              "41               0             1                  0                  0   \n",
              "..             ...           ...                ...                ...   \n",
              "359              0             1                  0                  0   \n",
              "360              0             1                  0                  0   \n",
              "361              0             1                  0                  0   \n",
              "362              0             1                  0                  0   \n",
              "363              1             0                  0                  0   \n",
              "\n",
              "    Cereal_croptype  \n",
              "37                0  \n",
              "38                0  \n",
              "39                0  \n",
              "40                1  \n",
              "41                0  \n",
              "..              ...  \n",
              "359               1  \n",
              "360               1  \n",
              "361               1  \n",
              "362               1  \n",
              "363               1  \n",
              "\n",
              "[291 rows x 44 columns]"
            ],
            "text/html": [
              "\n",
              "  <div id=\"df-28b59f78-c92d-4287-ab93-a0ec118fd30f\">\n",
              "    <div class=\"colab-df-container\">\n",
              "      <div>\n",
              "<style scoped>\n",
              "    .dataframe tbody tr th:only-of-type {\n",
              "        vertical-align: middle;\n",
              "    }\n",
              "\n",
              "    .dataframe tbody tr th {\n",
              "        vertical-align: top;\n",
              "    }\n",
              "\n",
              "    .dataframe thead th {\n",
              "        text-align: right;\n",
              "    }\n",
              "</style>\n",
              "<table border=\"1\" class=\"dataframe\">\n",
              "  <thead>\n",
              "    <tr style=\"text-align: right;\">\n",
              "      <th></th>\n",
              "      <th>review</th>\n",
              "      <th>rv</th>\n",
              "      <th>rvYear</th>\n",
              "      <th>rvUnits</th>\n",
              "      <th>startYear</th>\n",
              "      <th>studyLength</th>\n",
              "      <th>sampleDepth</th>\n",
              "      <th>controlValue</th>\n",
              "      <th>trtValue</th>\n",
              "      <th>percentChange</th>\n",
              "      <th>...</th>\n",
              "      <th>bare soil_control</th>\n",
              "      <th>monocrop_control</th>\n",
              "      <th>intercrop_treatment</th>\n",
              "      <th>monocrop_treatment</th>\n",
              "      <th>alley crop_treatment</th>\n",
              "      <th>Tree_croptype</th>\n",
              "      <th>Bean_croptype</th>\n",
              "      <th>Bare Soil_croptype</th>\n",
              "      <th>Vegetable_croptype</th>\n",
              "      <th>Cereal_croptype</th>\n",
              "    </tr>\n",
              "  </thead>\n",
              "  <tbody>\n",
              "    <tr>\n",
              "      <th>37</th>\n",
              "      <td>Continuous Cover</td>\n",
              "      <td>loss of total carbon due to erosion</td>\n",
              "      <td>1</td>\n",
              "      <td>kg/ha</td>\n",
              "      <td>1992</td>\n",
              "      <td>1</td>\n",
              "      <td>NaN</td>\n",
              "      <td>773.00</td>\n",
              "      <td>184.00</td>\n",
              "      <td>-76.20</td>\n",
              "      <td>...</td>\n",
              "      <td>1</td>\n",
              "      <td>0</td>\n",
              "      <td>0</td>\n",
              "      <td>1</td>\n",
              "      <td>0</td>\n",
              "      <td>0</td>\n",
              "      <td>0</td>\n",
              "      <td>1</td>\n",
              "      <td>0</td>\n",
              "      <td>0</td>\n",
              "    </tr>\n",
              "    <tr>\n",
              "      <th>38</th>\n",
              "      <td>Continuous Cover</td>\n",
              "      <td>loss of total carbon due to erosion</td>\n",
              "      <td>1</td>\n",
              "      <td>kg/ha</td>\n",
              "      <td>1992</td>\n",
              "      <td>1</td>\n",
              "      <td>NaN</td>\n",
              "      <td>773.00</td>\n",
              "      <td>101.00</td>\n",
              "      <td>-86.93</td>\n",
              "      <td>...</td>\n",
              "      <td>1</td>\n",
              "      <td>0</td>\n",
              "      <td>0</td>\n",
              "      <td>1</td>\n",
              "      <td>0</td>\n",
              "      <td>0</td>\n",
              "      <td>0</td>\n",
              "      <td>1</td>\n",
              "      <td>0</td>\n",
              "      <td>0</td>\n",
              "    </tr>\n",
              "    <tr>\n",
              "      <th>39</th>\n",
              "      <td>Continuous Cover</td>\n",
              "      <td>loss of total carbon due to erosion</td>\n",
              "      <td>1</td>\n",
              "      <td>kg/ha</td>\n",
              "      <td>1992</td>\n",
              "      <td>1</td>\n",
              "      <td>NaN</td>\n",
              "      <td>773.00</td>\n",
              "      <td>53.00</td>\n",
              "      <td>-93.14</td>\n",
              "      <td>...</td>\n",
              "      <td>1</td>\n",
              "      <td>0</td>\n",
              "      <td>1</td>\n",
              "      <td>0</td>\n",
              "      <td>0</td>\n",
              "      <td>0</td>\n",
              "      <td>0</td>\n",
              "      <td>1</td>\n",
              "      <td>0</td>\n",
              "      <td>0</td>\n",
              "    </tr>\n",
              "    <tr>\n",
              "      <th>40</th>\n",
              "      <td>Continuous Cover</td>\n",
              "      <td>loss of total carbon due to erosion</td>\n",
              "      <td>1</td>\n",
              "      <td>kg/ha</td>\n",
              "      <td>1992</td>\n",
              "      <td>1</td>\n",
              "      <td>NaN</td>\n",
              "      <td>184.00</td>\n",
              "      <td>53.00</td>\n",
              "      <td>-71.20</td>\n",
              "      <td>...</td>\n",
              "      <td>0</td>\n",
              "      <td>1</td>\n",
              "      <td>1</td>\n",
              "      <td>0</td>\n",
              "      <td>0</td>\n",
              "      <td>0</td>\n",
              "      <td>0</td>\n",
              "      <td>0</td>\n",
              "      <td>0</td>\n",
              "      <td>1</td>\n",
              "    </tr>\n",
              "    <tr>\n",
              "      <th>41</th>\n",
              "      <td>Continuous Cover</td>\n",
              "      <td>loss of total carbon due to erosion</td>\n",
              "      <td>1</td>\n",
              "      <td>kg/ha</td>\n",
              "      <td>1992</td>\n",
              "      <td>1</td>\n",
              "      <td>NaN</td>\n",
              "      <td>101.00</td>\n",
              "      <td>53.00</td>\n",
              "      <td>-47.52</td>\n",
              "      <td>...</td>\n",
              "      <td>0</td>\n",
              "      <td>1</td>\n",
              "      <td>1</td>\n",
              "      <td>0</td>\n",
              "      <td>0</td>\n",
              "      <td>0</td>\n",
              "      <td>1</td>\n",
              "      <td>0</td>\n",
              "      <td>0</td>\n",
              "      <td>0</td>\n",
              "    </tr>\n",
              "    <tr>\n",
              "      <th>...</th>\n",
              "      <td>...</td>\n",
              "      <td>...</td>\n",
              "      <td>...</td>\n",
              "      <td>...</td>\n",
              "      <td>...</td>\n",
              "      <td>...</td>\n",
              "      <td>...</td>\n",
              "      <td>...</td>\n",
              "      <td>...</td>\n",
              "      <td>...</td>\n",
              "      <td>...</td>\n",
              "      <td>...</td>\n",
              "      <td>...</td>\n",
              "      <td>...</td>\n",
              "      <td>...</td>\n",
              "      <td>...</td>\n",
              "      <td>...</td>\n",
              "      <td>...</td>\n",
              "      <td>...</td>\n",
              "      <td>...</td>\n",
              "      <td>...</td>\n",
              "    </tr>\n",
              "    <tr>\n",
              "      <th>359</th>\n",
              "      <td>Continuous Cover</td>\n",
              "      <td>total organic carbon</td>\n",
              "      <td>6</td>\n",
              "      <td>not provided</td>\n",
              "      <td>2010</td>\n",
              "      <td>15</td>\n",
              "      <td>0-30 cm</td>\n",
              "      <td>2.20</td>\n",
              "      <td>2.47</td>\n",
              "      <td>12.27</td>\n",
              "      <td>...</td>\n",
              "      <td>0</td>\n",
              "      <td>1</td>\n",
              "      <td>1</td>\n",
              "      <td>0</td>\n",
              "      <td>0</td>\n",
              "      <td>0</td>\n",
              "      <td>1</td>\n",
              "      <td>0</td>\n",
              "      <td>0</td>\n",
              "      <td>1</td>\n",
              "    </tr>\n",
              "    <tr>\n",
              "      <th>360</th>\n",
              "      <td>Continuous Cover</td>\n",
              "      <td>total organic carbon</td>\n",
              "      <td>6</td>\n",
              "      <td>not provided</td>\n",
              "      <td>2010</td>\n",
              "      <td>15</td>\n",
              "      <td>0-30 cm</td>\n",
              "      <td>2.45</td>\n",
              "      <td>2.47</td>\n",
              "      <td>0.82</td>\n",
              "      <td>...</td>\n",
              "      <td>0</td>\n",
              "      <td>1</td>\n",
              "      <td>1</td>\n",
              "      <td>0</td>\n",
              "      <td>0</td>\n",
              "      <td>0</td>\n",
              "      <td>1</td>\n",
              "      <td>0</td>\n",
              "      <td>0</td>\n",
              "      <td>1</td>\n",
              "    </tr>\n",
              "    <tr>\n",
              "      <th>361</th>\n",
              "      <td>Continuous Cover</td>\n",
              "      <td>total organic carbon</td>\n",
              "      <td>6</td>\n",
              "      <td>not provided</td>\n",
              "      <td>2003</td>\n",
              "      <td>15</td>\n",
              "      <td>0-30 cm</td>\n",
              "      <td>3.26</td>\n",
              "      <td>3.57</td>\n",
              "      <td>9.51</td>\n",
              "      <td>...</td>\n",
              "      <td>0</td>\n",
              "      <td>1</td>\n",
              "      <td>1</td>\n",
              "      <td>0</td>\n",
              "      <td>0</td>\n",
              "      <td>0</td>\n",
              "      <td>1</td>\n",
              "      <td>0</td>\n",
              "      <td>0</td>\n",
              "      <td>1</td>\n",
              "    </tr>\n",
              "    <tr>\n",
              "      <th>362</th>\n",
              "      <td>Continuous Cover</td>\n",
              "      <td>total organic carbon</td>\n",
              "      <td>15</td>\n",
              "      <td>not provided</td>\n",
              "      <td>2003</td>\n",
              "      <td>15</td>\n",
              "      <td>0-30 cm</td>\n",
              "      <td>2.40</td>\n",
              "      <td>4.67</td>\n",
              "      <td>94.58</td>\n",
              "      <td>...</td>\n",
              "      <td>0</td>\n",
              "      <td>1</td>\n",
              "      <td>1</td>\n",
              "      <td>0</td>\n",
              "      <td>0</td>\n",
              "      <td>0</td>\n",
              "      <td>1</td>\n",
              "      <td>0</td>\n",
              "      <td>0</td>\n",
              "      <td>1</td>\n",
              "    </tr>\n",
              "    <tr>\n",
              "      <th>363</th>\n",
              "      <td>Continuous Cover</td>\n",
              "      <td>percent total of soil organic carbon</td>\n",
              "      <td>1;2</td>\n",
              "      <td>%</td>\n",
              "      <td>2012</td>\n",
              "      <td>2</td>\n",
              "      <td>0-30 cm</td>\n",
              "      <td>1.78</td>\n",
              "      <td>1.83</td>\n",
              "      <td>0.05</td>\n",
              "      <td>...</td>\n",
              "      <td>0</td>\n",
              "      <td>1</td>\n",
              "      <td>0</td>\n",
              "      <td>0</td>\n",
              "      <td>1</td>\n",
              "      <td>1</td>\n",
              "      <td>0</td>\n",
              "      <td>0</td>\n",
              "      <td>0</td>\n",
              "      <td>1</td>\n",
              "    </tr>\n",
              "  </tbody>\n",
              "</table>\n",
              "<p>291 rows × 44 columns</p>\n",
              "</div>\n",
              "      <button class=\"colab-df-convert\" onclick=\"convertToInteractive('df-28b59f78-c92d-4287-ab93-a0ec118fd30f')\"\n",
              "              title=\"Convert this dataframe to an interactive table.\"\n",
              "              style=\"display:none;\">\n",
              "        \n",
              "  <svg xmlns=\"http://www.w3.org/2000/svg\" height=\"24px\"viewBox=\"0 0 24 24\"\n",
              "       width=\"24px\">\n",
              "    <path d=\"M0 0h24v24H0V0z\" fill=\"none\"/>\n",
              "    <path d=\"M18.56 5.44l.94 2.06.94-2.06 2.06-.94-2.06-.94-.94-2.06-.94 2.06-2.06.94zm-11 1L8.5 8.5l.94-2.06 2.06-.94-2.06-.94L8.5 2.5l-.94 2.06-2.06.94zm10 10l.94 2.06.94-2.06 2.06-.94-2.06-.94-.94-2.06-.94 2.06-2.06.94z\"/><path d=\"M17.41 7.96l-1.37-1.37c-.4-.4-.92-.59-1.43-.59-.52 0-1.04.2-1.43.59L10.3 9.45l-7.72 7.72c-.78.78-.78 2.05 0 2.83L4 21.41c.39.39.9.59 1.41.59.51 0 1.02-.2 1.41-.59l7.78-7.78 2.81-2.81c.8-.78.8-2.07 0-2.86zM5.41 20L4 18.59l7.72-7.72 1.47 1.35L5.41 20z\"/>\n",
              "  </svg>\n",
              "      </button>\n",
              "      \n",
              "  <style>\n",
              "    .colab-df-container {\n",
              "      display:flex;\n",
              "      flex-wrap:wrap;\n",
              "      gap: 12px;\n",
              "    }\n",
              "\n",
              "    .colab-df-convert {\n",
              "      background-color: #E8F0FE;\n",
              "      border: none;\n",
              "      border-radius: 50%;\n",
              "      cursor: pointer;\n",
              "      display: none;\n",
              "      fill: #1967D2;\n",
              "      height: 32px;\n",
              "      padding: 0 0 0 0;\n",
              "      width: 32px;\n",
              "    }\n",
              "\n",
              "    .colab-df-convert:hover {\n",
              "      background-color: #E2EBFA;\n",
              "      box-shadow: 0px 1px 2px rgba(60, 64, 67, 0.3), 0px 1px 3px 1px rgba(60, 64, 67, 0.15);\n",
              "      fill: #174EA6;\n",
              "    }\n",
              "\n",
              "    [theme=dark] .colab-df-convert {\n",
              "      background-color: #3B4455;\n",
              "      fill: #D2E3FC;\n",
              "    }\n",
              "\n",
              "    [theme=dark] .colab-df-convert:hover {\n",
              "      background-color: #434B5C;\n",
              "      box-shadow: 0px 1px 3px 1px rgba(0, 0, 0, 0.15);\n",
              "      filter: drop-shadow(0px 1px 2px rgba(0, 0, 0, 0.3));\n",
              "      fill: #FFFFFF;\n",
              "    }\n",
              "  </style>\n",
              "\n",
              "      <script>\n",
              "        const buttonEl =\n",
              "          document.querySelector('#df-28b59f78-c92d-4287-ab93-a0ec118fd30f button.colab-df-convert');\n",
              "        buttonEl.style.display =\n",
              "          google.colab.kernel.accessAllowed ? 'block' : 'none';\n",
              "\n",
              "        async function convertToInteractive(key) {\n",
              "          const element = document.querySelector('#df-28b59f78-c92d-4287-ab93-a0ec118fd30f');\n",
              "          const dataTable =\n",
              "            await google.colab.kernel.invokeFunction('convertToInteractive',\n",
              "                                                     [key], {});\n",
              "          if (!dataTable) return;\n",
              "\n",
              "          const docLinkHtml = 'Like what you see? Visit the ' +\n",
              "            '<a target=\"_blank\" href=https://colab.research.google.com/notebooks/data_table.ipynb>data table notebook</a>'\n",
              "            + ' to learn more about interactive tables.';\n",
              "          element.innerHTML = '';\n",
              "          dataTable['output_type'] = 'display_data';\n",
              "          await google.colab.output.renderOutput(dataTable, element);\n",
              "          const docLink = document.createElement('div');\n",
              "          docLink.innerHTML = docLinkHtml;\n",
              "          element.appendChild(docLink);\n",
              "        }\n",
              "      </script>\n",
              "    </div>\n",
              "  </div>\n",
              "  "
            ]
          },
          "metadata": {},
          "execution_count": 164
        }
      ]
    },
    {
      "cell_type": "code",
      "source": [
        "df.rvUnits.value_counts()"
      ],
      "metadata": {
        "colab": {
          "base_uri": "https://localhost:8080/"
        },
        "id": "Fw-19DlSLek2",
        "outputId": "654dce5e-9595-4932-b048-daacf8734f48"
      },
      "execution_count": 138,
      "outputs": [
        {
          "output_type": "execute_result",
          "data": {
            "text/plain": [
              "mg C/kg         234\n",
              "g/kg             47\n",
              "kg/ha             5\n",
              "not provided      4\n",
              "%                 1\n",
              "Name: rvUnits, dtype: int64"
            ]
          },
          "metadata": {},
          "execution_count": 138
        }
      ]
    },
    {
      "cell_type": "code",
      "source": [
        "df.columns"
      ],
      "metadata": {
        "colab": {
          "base_uri": "https://localhost:8080/"
        },
        "id": "2LP-ErzkukRh",
        "outputId": "a5b0bf51-e976-4202-b6b3-0b0f3948499c"
      },
      "execution_count": 139,
      "outputs": [
        {
          "output_type": "execute_result",
          "data": {
            "text/plain": [
              "Index(['review', 'rv', 'rvYear', 'rvUnits', 'startYear', 'studyLength',\n",
              "       'sampleDepth', 'controlValue', 'trtValue', 'percentChange', 'norm',\n",
              "       'studyduration', 'croptype', 'control', 'treatment', 'numspecies',\n",
              "       'speciestype', 'fertilization', 'intent', 'sampledepth', 'mapregion',\n",
              "       'doi', 'title', 'authors', 'authors_abbrev', 'pubyear', 'journal',\n",
              "       'volume_issue', 'pages', 'city', 'lat', 'lon', 'duration', 'order'],\n",
              "      dtype='object')"
            ]
          },
          "metadata": {},
          "execution_count": 139
        }
      ]
    },
    {
      "cell_type": "markdown",
      "source": [
        "One-hot encoding"
      ],
      "metadata": {
        "id": "KMCBf-kjItYB"
      }
    },
    {
      "cell_type": "code",
      "source": [
        "df[\"control\"].value_counts()"
      ],
      "metadata": {
        "colab": {
          "base_uri": "https://localhost:8080/"
        },
        "id": "gzwZYkJfLEry",
        "outputId": "97e113b9-6cae-42c6-b7e2-116ce4f61a57"
      },
      "execution_count": 140,
      "outputs": [
        {
          "output_type": "execute_result",
          "data": {
            "text/plain": [
              "[\"monocrop\"]     261\n",
              "[\"bare soil\"]     30\n",
              "Name: control, dtype: int64"
            ]
          },
          "metadata": {},
          "execution_count": 140
        }
      ]
    },
    {
      "cell_type": "code",
      "source": [
        "def encode(data, variable):\n",
        "    return int(variable in data)"
      ],
      "metadata": {
        "id": "j7vaO8Ibbrnx"
      },
      "execution_count": 141,
      "outputs": []
    },
    {
      "cell_type": "code",
      "source": [
        "import ast"
      ],
      "metadata": {
        "id": "zBwk73pLdRLQ"
      },
      "execution_count": 142,
      "outputs": []
    },
    {
      "cell_type": "code",
      "source": [
        "controls = set()\n",
        "for val, count in df[\"control\"].value_counts().iteritems():    \n",
        "    for control in ast.literal_eval(val):\n",
        "        controls.add(control)\n",
        "controls"
      ],
      "metadata": {
        "colab": {
          "base_uri": "https://localhost:8080/"
        },
        "id": "zetwZGPcaP48",
        "outputId": "698b8849-748a-460f-e945-413bf46cd20d"
      },
      "execution_count": 143,
      "outputs": [
        {
          "output_type": "execute_result",
          "data": {
            "text/plain": [
              "{'bare soil', 'monocrop'}"
            ]
          },
          "metadata": {},
          "execution_count": 143
        }
      ]
    },
    {
      "cell_type": "code",
      "source": [
        "treatments = set()\n",
        "for val, count in df[\"treatment\"].value_counts().iteritems():    \n",
        "    for treatment in ast.literal_eval(val):\n",
        "        treatments.add(treatment)\n",
        "treatments"
      ],
      "metadata": {
        "colab": {
          "base_uri": "https://localhost:8080/"
        },
        "id": "v65JGb0adHoh",
        "outputId": "b8caa815-4966-49c5-c7bf-2c8cfe227fe1"
      },
      "execution_count": 144,
      "outputs": [
        {
          "output_type": "execute_result",
          "data": {
            "text/plain": [
              "{'alley crop', 'intercrop', 'monocrop'}"
            ]
          },
          "metadata": {},
          "execution_count": 144
        }
      ]
    },
    {
      "cell_type": "code",
      "source": [
        "croptype = set()\n",
        "for val, count in df[\"croptype\"].value_counts().iteritems():    \n",
        "    for _croptype in ast.literal_eval(val):\n",
        "        croptype.add(_croptype)\n",
        "croptype"
      ],
      "metadata": {
        "colab": {
          "base_uri": "https://localhost:8080/"
        },
        "id": "_v3JdbrsvUwR",
        "outputId": "57971f1e-a7ce-4c68-93a2-937bc9fe35c7"
      },
      "execution_count": 145,
      "outputs": [
        {
          "output_type": "execute_result",
          "data": {
            "text/plain": [
              "{'Bare Soil', 'Bean', 'Cereal', 'Tree', 'Vegetable'}"
            ]
          },
          "metadata": {},
          "execution_count": 145
        }
      ]
    },
    {
      "cell_type": "code",
      "source": [
        "for x in controls:\n",
        "    df[x + \"_control\"] = df['control'].apply(encode, args = [x])\n",
        "    \n",
        "for x in treatments:\n",
        "    df[x + \"_treatment\"] = df['treatment'].apply(encode, args = [x])\n",
        "\n",
        "for x in croptype:\n",
        "    df[x + \"_croptype\"] = df['croptype'].apply(encode, args = [x])"
      ],
      "metadata": {
        "colab": {
          "base_uri": "https://localhost:8080/"
        },
        "id": "kjCwIN0_dXDB",
        "outputId": "dd3e451c-14f3-4080-c5d5-a65f59439648"
      },
      "execution_count": 146,
      "outputs": [
        {
          "output_type": "stream",
          "name": "stderr",
          "text": [
            "<ipython-input-146-e200f13d0d2d>:2: SettingWithCopyWarning: \n",
            "A value is trying to be set on a copy of a slice from a DataFrame.\n",
            "Try using .loc[row_indexer,col_indexer] = value instead\n",
            "\n",
            "See the caveats in the documentation: https://pandas.pydata.org/pandas-docs/stable/user_guide/indexing.html#returning-a-view-versus-a-copy\n",
            "  df[x + \"_control\"] = df['control'].apply(encode, args = [x])\n",
            "<ipython-input-146-e200f13d0d2d>:5: SettingWithCopyWarning: \n",
            "A value is trying to be set on a copy of a slice from a DataFrame.\n",
            "Try using .loc[row_indexer,col_indexer] = value instead\n",
            "\n",
            "See the caveats in the documentation: https://pandas.pydata.org/pandas-docs/stable/user_guide/indexing.html#returning-a-view-versus-a-copy\n",
            "  df[x + \"_treatment\"] = df['treatment'].apply(encode, args = [x])\n",
            "<ipython-input-146-e200f13d0d2d>:8: SettingWithCopyWarning: \n",
            "A value is trying to be set on a copy of a slice from a DataFrame.\n",
            "Try using .loc[row_indexer,col_indexer] = value instead\n",
            "\n",
            "See the caveats in the documentation: https://pandas.pydata.org/pandas-docs/stable/user_guide/indexing.html#returning-a-view-versus-a-copy\n",
            "  df[x + \"_croptype\"] = df['croptype'].apply(encode, args = [x])\n"
          ]
        }
      ]
    },
    {
      "cell_type": "code",
      "source": [
        "df.columns"
      ],
      "metadata": {
        "colab": {
          "base_uri": "https://localhost:8080/"
        },
        "id": "EwusL4x-KMZW",
        "outputId": "462e7724-ee2d-4a8e-b3ea-fe23b8143e6e"
      },
      "execution_count": 147,
      "outputs": [
        {
          "output_type": "execute_result",
          "data": {
            "text/plain": [
              "Index(['review', 'rv', 'rvYear', 'rvUnits', 'startYear', 'studyLength',\n",
              "       'sampleDepth', 'controlValue', 'trtValue', 'percentChange', 'norm',\n",
              "       'studyduration', 'croptype', 'control', 'treatment', 'numspecies',\n",
              "       'speciestype', 'fertilization', 'intent', 'sampledepth', 'mapregion',\n",
              "       'doi', 'title', 'authors', 'authors_abbrev', 'pubyear', 'journal',\n",
              "       'volume_issue', 'pages', 'city', 'lat', 'lon', 'duration', 'order',\n",
              "       'bare soil_control', 'monocrop_control', 'intercrop_treatment',\n",
              "       'monocrop_treatment', 'alley crop_treatment', 'Tree_croptype',\n",
              "       'Bean_croptype', 'Bare Soil_croptype', 'Vegetable_croptype',\n",
              "       'Cereal_croptype'],\n",
              "      dtype='object')"
            ]
          },
          "metadata": {},
          "execution_count": 147
        }
      ]
    },
    {
      "cell_type": "code",
      "source": [
        "feature_cols = [\n",
        "    \"rvUnits\",\n",
        "    \"startYear\",\n",
        "    \"studyLength\",\n",
        "    \"sampleDepth\",\n",
        "    \"controlValue\",\n",
        "    \"norm\",\n",
        "    \"numspecies\",\n",
        "    \"speciestype\",\n",
        "    \"fertilization\",\n",
        "    'bare soil_control', 'monocrop_control', 'intercrop_treatment',\n",
        "       'monocrop_treatment', 'alley crop_treatment', 'Tree_croptype',\n",
        "       'Bean_croptype', 'Bare Soil_croptype', 'Vegetable_croptype',\n",
        "       'Cereal_croptype'\n",
        "]"
      ],
      "metadata": {
        "id": "jxdd6Zn1Lql4"
      },
      "execution_count": 148,
      "outputs": []
    },
    {
      "cell_type": "code",
      "source": [
        "X = df[feature_cols]\n",
        "y = df['percentChange']"
      ],
      "metadata": {
        "id": "y5pwUBE9MvnG"
      },
      "execution_count": 149,
      "outputs": []
    },
    {
      "cell_type": "code",
      "source": [
        "X.isnull().sum()"
      ],
      "metadata": {
        "colab": {
          "base_uri": "https://localhost:8080/"
        },
        "id": "J0InKx4ANiUD",
        "outputId": "45b4adb4-7a4e-4dc8-af66-27a748a9e95a"
      },
      "execution_count": 150,
      "outputs": [
        {
          "output_type": "execute_result",
          "data": {
            "text/plain": [
              "rvUnits                  0\n",
              "startYear                0\n",
              "studyLength              0\n",
              "sampleDepth             47\n",
              "controlValue             0\n",
              "norm                     0\n",
              "numspecies               0\n",
              "speciestype              0\n",
              "fertilization            0\n",
              "bare soil_control        0\n",
              "monocrop_control         0\n",
              "intercrop_treatment      0\n",
              "monocrop_treatment       0\n",
              "alley crop_treatment     0\n",
              "Tree_croptype            0\n",
              "Bean_croptype            0\n",
              "Bare Soil_croptype       0\n",
              "Vegetable_croptype       0\n",
              "Cereal_croptype          0\n",
              "dtype: int64"
            ]
          },
          "metadata": {},
          "execution_count": 150
        }
      ]
    },
    {
      "cell_type": "code",
      "source": [
        "X.dtypes"
      ],
      "metadata": {
        "colab": {
          "base_uri": "https://localhost:8080/"
        },
        "id": "0oIq8viqKY8r",
        "outputId": "ca000e43-7aca-48a0-c1c4-ea56cdc1cb7d"
      },
      "execution_count": 151,
      "outputs": [
        {
          "output_type": "execute_result",
          "data": {
            "text/plain": [
              "rvUnits                  object\n",
              "startYear                 int64\n",
              "studyLength               int64\n",
              "sampleDepth              object\n",
              "controlValue            float64\n",
              "norm                      int64\n",
              "numspecies                int64\n",
              "speciestype              object\n",
              "fertilization            object\n",
              "bare soil_control         int64\n",
              "monocrop_control          int64\n",
              "intercrop_treatment       int64\n",
              "monocrop_treatment        int64\n",
              "alley crop_treatment      int64\n",
              "Tree_croptype             int64\n",
              "Bean_croptype             int64\n",
              "Bare Soil_croptype        int64\n",
              "Vegetable_croptype        int64\n",
              "Cereal_croptype           int64\n",
              "dtype: object"
            ]
          },
          "metadata": {},
          "execution_count": 151
        }
      ]
    },
    {
      "cell_type": "code",
      "source": [
        "from sklearn.preprocessing import OrdinalEncoder\n",
        "\n",
        "encoder = OrdinalEncoder()\n",
        "to_encode = [\"rvUnits\", \"sampleDepth\", \"speciestype\", \"fertilization\"]\n",
        "\n",
        "X[to_encode] = encoder.fit_transform(X[to_encode])"
      ],
      "metadata": {
        "colab": {
          "base_uri": "https://localhost:8080/"
        },
        "id": "rrtu8FRSMwfx",
        "outputId": "bb579221-30e0-4b91-ad8a-8382294a09e9"
      },
      "execution_count": 152,
      "outputs": [
        {
          "output_type": "stream",
          "name": "stderr",
          "text": [
            "/usr/local/lib/python3.8/dist-packages/pandas/core/frame.py:3678: SettingWithCopyWarning: \n",
            "A value is trying to be set on a copy of a slice from a DataFrame.\n",
            "Try using .loc[row_indexer,col_indexer] = value instead\n",
            "\n",
            "See the caveats in the documentation: https://pandas.pydata.org/pandas-docs/stable/user_guide/indexing.html#returning-a-view-versus-a-copy\n",
            "  self[col] = igetitem(value, i)\n"
          ]
        }
      ]
    },
    {
      "cell_type": "code",
      "source": [
        "X.dtypes"
      ],
      "metadata": {
        "colab": {
          "base_uri": "https://localhost:8080/"
        },
        "id": "4y1IkSTsOWAC",
        "outputId": "9a7e58cd-be0b-42d0-8b93-7763aa7ba4c6"
      },
      "execution_count": 153,
      "outputs": [
        {
          "output_type": "execute_result",
          "data": {
            "text/plain": [
              "rvUnits                 float64\n",
              "startYear                 int64\n",
              "studyLength               int64\n",
              "sampleDepth             float64\n",
              "controlValue            float64\n",
              "norm                      int64\n",
              "numspecies                int64\n",
              "speciestype             float64\n",
              "fertilization           float64\n",
              "bare soil_control         int64\n",
              "monocrop_control          int64\n",
              "intercrop_treatment       int64\n",
              "monocrop_treatment        int64\n",
              "alley crop_treatment      int64\n",
              "Tree_croptype             int64\n",
              "Bean_croptype             int64\n",
              "Bare Soil_croptype        int64\n",
              "Vegetable_croptype        int64\n",
              "Cereal_croptype           int64\n",
              "dtype: object"
            ]
          },
          "metadata": {},
          "execution_count": 153
        }
      ]
    },
    {
      "cell_type": "code",
      "source": [
        "X.fillna(0, inplace = True)"
      ],
      "metadata": {
        "colab": {
          "base_uri": "https://localhost:8080/"
        },
        "id": "nlY_DHJdxZ2c",
        "outputId": "c3ad1b91-0d4a-440a-eec3-50211f4ce3e7"
      },
      "execution_count": 154,
      "outputs": [
        {
          "output_type": "stream",
          "name": "stderr",
          "text": [
            "/usr/local/lib/python3.8/dist-packages/pandas/core/frame.py:5176: SettingWithCopyWarning: \n",
            "A value is trying to be set on a copy of a slice from a DataFrame\n",
            "\n",
            "See the caveats in the documentation: https://pandas.pydata.org/pandas-docs/stable/user_guide/indexing.html#returning-a-view-versus-a-copy\n",
            "  return super().fillna(\n"
          ]
        }
      ]
    },
    {
      "cell_type": "code",
      "source": [
        "from sklearn.model_selection import train_test_split\n",
        "\n",
        "X_train, X_test, y_train, y_test = train_test_split(X, y, random_state=42)"
      ],
      "metadata": {
        "id": "beEtV7JoQiob"
      },
      "execution_count": 155,
      "outputs": []
    },
    {
      "cell_type": "code",
      "source": [
        "assert len(X_train) == len(y_train)\n",
        "assert len(X_test) == len(y_test)"
      ],
      "metadata": {
        "id": "qYJpRHVdQzWl"
      },
      "execution_count": 156,
      "outputs": []
    },
    {
      "cell_type": "code",
      "source": [
        "from sklearn.tree import DecisionTreeRegressor\n",
        "\n",
        "dt = DecisionTreeRegressor()\n",
        "dt.fit(X_train, y_train)"
      ],
      "metadata": {
        "colab": {
          "base_uri": "https://localhost:8080/"
        },
        "id": "LorZpE_PQ8i7",
        "outputId": "3127efa9-0c31-447a-a1ca-cc1245a229f0"
      },
      "execution_count": 157,
      "outputs": [
        {
          "output_type": "execute_result",
          "data": {
            "text/plain": [
              "DecisionTreeRegressor()"
            ]
          },
          "metadata": {},
          "execution_count": 157
        }
      ]
    },
    {
      "cell_type": "code",
      "source": [
        "preds = dt.predict(X_test)"
      ],
      "metadata": {
        "id": "2Djr9RspRFds"
      },
      "execution_count": 158,
      "outputs": []
    },
    {
      "cell_type": "code",
      "source": [
        "from sklearn.metrics import mean_squared_error\n",
        "\n",
        "mean_squared_error(y_test, preds, squared = False)"
      ],
      "metadata": {
        "colab": {
          "base_uri": "https://localhost:8080/"
        },
        "id": "WQ9JIZ5RRKT4",
        "outputId": "d8ac6d7c-1022-4b0c-94ca-a96b54a16335"
      },
      "execution_count": 159,
      "outputs": [
        {
          "output_type": "execute_result",
          "data": {
            "text/plain": [
              "33.5175987854964"
            ]
          },
          "metadata": {},
          "execution_count": 159
        }
      ]
    },
    {
      "cell_type": "code",
      "source": [
        "from sklearn.ensemble import RandomForestRegressor\n",
        "\n",
        "rf = RandomForestRegressor(n_estimators = 500)\n",
        "rf.fit(X_train, y_train)"
      ],
      "metadata": {
        "colab": {
          "base_uri": "https://localhost:8080/"
        },
        "id": "qjLt4U7jE1Lg",
        "outputId": "535093e4-dad1-413a-ae02-47e57108d9cd"
      },
      "execution_count": 160,
      "outputs": [
        {
          "output_type": "execute_result",
          "data": {
            "text/plain": [
              "RandomForestRegressor(n_estimators=500)"
            ]
          },
          "metadata": {},
          "execution_count": 160
        }
      ]
    },
    {
      "cell_type": "code",
      "source": [
        "preds = rf.predict(X_test)\n",
        "mean_squared_error(y_test, preds, squared = False)"
      ],
      "metadata": {
        "colab": {
          "base_uri": "https://localhost:8080/"
        },
        "id": "Gbzv-gcIE9Jz",
        "outputId": "6c07b2aa-9436-4668-d0f6-57092a861688"
      },
      "execution_count": 161,
      "outputs": [
        {
          "output_type": "execute_result",
          "data": {
            "text/plain": [
              "31.01375210495418"
            ]
          },
          "metadata": {},
          "execution_count": 161
        }
      ]
    },
    {
      "cell_type": "code",
      "source": [
        "df.groupby(['control', 'treatment']).agg({'percentChange': ['mean']})"
      ],
      "metadata": {
        "colab": {
          "base_uri": "https://localhost:8080/",
          "height": 238
        },
        "id": "bZJWp5UsSa2_",
        "outputId": "a02c1bf3-1efa-4dc8-e502-678ff64fd59d"
      },
      "execution_count": 162,
      "outputs": [
        {
          "output_type": "execute_result",
          "data": {
            "text/plain": [
              "                             percentChange\n",
              "                                      mean\n",
              "control       treatment                   \n",
              "[\"bare soil\"] [\"intercrop\"]      -9.519500\n",
              "              [\"monocrop\"]       -1.861000\n",
              "[\"monocrop\"]  [\"alley crop\"]      0.050000\n",
              "              [\"intercrop\"]      13.823308"
            ],
            "text/html": [
              "\n",
              "  <div id=\"df-c2c1cfc9-60d1-41f3-88c1-0b63abb4eb7f\">\n",
              "    <div class=\"colab-df-container\">\n",
              "      <div>\n",
              "<style scoped>\n",
              "    .dataframe tbody tr th:only-of-type {\n",
              "        vertical-align: middle;\n",
              "    }\n",
              "\n",
              "    .dataframe tbody tr th {\n",
              "        vertical-align: top;\n",
              "    }\n",
              "\n",
              "    .dataframe thead tr th {\n",
              "        text-align: left;\n",
              "    }\n",
              "\n",
              "    .dataframe thead tr:last-of-type th {\n",
              "        text-align: right;\n",
              "    }\n",
              "</style>\n",
              "<table border=\"1\" class=\"dataframe\">\n",
              "  <thead>\n",
              "    <tr>\n",
              "      <th></th>\n",
              "      <th></th>\n",
              "      <th>percentChange</th>\n",
              "    </tr>\n",
              "    <tr>\n",
              "      <th></th>\n",
              "      <th></th>\n",
              "      <th>mean</th>\n",
              "    </tr>\n",
              "    <tr>\n",
              "      <th>control</th>\n",
              "      <th>treatment</th>\n",
              "      <th></th>\n",
              "    </tr>\n",
              "  </thead>\n",
              "  <tbody>\n",
              "    <tr>\n",
              "      <th rowspan=\"2\" valign=\"top\">[\"bare soil\"]</th>\n",
              "      <th>[\"intercrop\"]</th>\n",
              "      <td>-9.519500</td>\n",
              "    </tr>\n",
              "    <tr>\n",
              "      <th>[\"monocrop\"]</th>\n",
              "      <td>-1.861000</td>\n",
              "    </tr>\n",
              "    <tr>\n",
              "      <th rowspan=\"2\" valign=\"top\">[\"monocrop\"]</th>\n",
              "      <th>[\"alley crop\"]</th>\n",
              "      <td>0.050000</td>\n",
              "    </tr>\n",
              "    <tr>\n",
              "      <th>[\"intercrop\"]</th>\n",
              "      <td>13.823308</td>\n",
              "    </tr>\n",
              "  </tbody>\n",
              "</table>\n",
              "</div>\n",
              "      <button class=\"colab-df-convert\" onclick=\"convertToInteractive('df-c2c1cfc9-60d1-41f3-88c1-0b63abb4eb7f')\"\n",
              "              title=\"Convert this dataframe to an interactive table.\"\n",
              "              style=\"display:none;\">\n",
              "        \n",
              "  <svg xmlns=\"http://www.w3.org/2000/svg\" height=\"24px\"viewBox=\"0 0 24 24\"\n",
              "       width=\"24px\">\n",
              "    <path d=\"M0 0h24v24H0V0z\" fill=\"none\"/>\n",
              "    <path d=\"M18.56 5.44l.94 2.06.94-2.06 2.06-.94-2.06-.94-.94-2.06-.94 2.06-2.06.94zm-11 1L8.5 8.5l.94-2.06 2.06-.94-2.06-.94L8.5 2.5l-.94 2.06-2.06.94zm10 10l.94 2.06.94-2.06 2.06-.94-2.06-.94-.94-2.06-.94 2.06-2.06.94z\"/><path d=\"M17.41 7.96l-1.37-1.37c-.4-.4-.92-.59-1.43-.59-.52 0-1.04.2-1.43.59L10.3 9.45l-7.72 7.72c-.78.78-.78 2.05 0 2.83L4 21.41c.39.39.9.59 1.41.59.51 0 1.02-.2 1.41-.59l7.78-7.78 2.81-2.81c.8-.78.8-2.07 0-2.86zM5.41 20L4 18.59l7.72-7.72 1.47 1.35L5.41 20z\"/>\n",
              "  </svg>\n",
              "      </button>\n",
              "      \n",
              "  <style>\n",
              "    .colab-df-container {\n",
              "      display:flex;\n",
              "      flex-wrap:wrap;\n",
              "      gap: 12px;\n",
              "    }\n",
              "\n",
              "    .colab-df-convert {\n",
              "      background-color: #E8F0FE;\n",
              "      border: none;\n",
              "      border-radius: 50%;\n",
              "      cursor: pointer;\n",
              "      display: none;\n",
              "      fill: #1967D2;\n",
              "      height: 32px;\n",
              "      padding: 0 0 0 0;\n",
              "      width: 32px;\n",
              "    }\n",
              "\n",
              "    .colab-df-convert:hover {\n",
              "      background-color: #E2EBFA;\n",
              "      box-shadow: 0px 1px 2px rgba(60, 64, 67, 0.3), 0px 1px 3px 1px rgba(60, 64, 67, 0.15);\n",
              "      fill: #174EA6;\n",
              "    }\n",
              "\n",
              "    [theme=dark] .colab-df-convert {\n",
              "      background-color: #3B4455;\n",
              "      fill: #D2E3FC;\n",
              "    }\n",
              "\n",
              "    [theme=dark] .colab-df-convert:hover {\n",
              "      background-color: #434B5C;\n",
              "      box-shadow: 0px 1px 3px 1px rgba(0, 0, 0, 0.15);\n",
              "      filter: drop-shadow(0px 1px 2px rgba(0, 0, 0, 0.3));\n",
              "      fill: #FFFFFF;\n",
              "    }\n",
              "  </style>\n",
              "\n",
              "      <script>\n",
              "        const buttonEl =\n",
              "          document.querySelector('#df-c2c1cfc9-60d1-41f3-88c1-0b63abb4eb7f button.colab-df-convert');\n",
              "        buttonEl.style.display =\n",
              "          google.colab.kernel.accessAllowed ? 'block' : 'none';\n",
              "\n",
              "        async function convertToInteractive(key) {\n",
              "          const element = document.querySelector('#df-c2c1cfc9-60d1-41f3-88c1-0b63abb4eb7f');\n",
              "          const dataTable =\n",
              "            await google.colab.kernel.invokeFunction('convertToInteractive',\n",
              "                                                     [key], {});\n",
              "          if (!dataTable) return;\n",
              "\n",
              "          const docLinkHtml = 'Like what you see? Visit the ' +\n",
              "            '<a target=\"_blank\" href=https://colab.research.google.com/notebooks/data_table.ipynb>data table notebook</a>'\n",
              "            + ' to learn more about interactive tables.';\n",
              "          element.innerHTML = '';\n",
              "          dataTable['output_type'] = 'display_data';\n",
              "          await google.colab.output.renderOutput(dataTable, element);\n",
              "          const docLink = document.createElement('div');\n",
              "          docLink.innerHTML = docLinkHtml;\n",
              "          element.appendChild(docLink);\n",
              "        }\n",
              "      </script>\n",
              "    </div>\n",
              "  </div>\n",
              "  "
            ]
          },
          "metadata": {},
          "execution_count": 162
        }
      ]
    }
  ]
}