{
  "cells": [
    {
      "cell_type": "code",
      "execution_count": 1,
      "metadata": {
        "colab": {
          "base_uri": "https://localhost:8080/"
        },
        "id": "WD6_a-R3-nJX",
        "outputId": "5b03077f-12a6-47ca-eefe-bc2a366633e9"
      },
      "outputs": [
        {
          "name": "stdout",
          "output_type": "stream",
          "text": [
            "To authorize access needed by Earth Engine, open the following URL in a web browser and follow the instructions. If the web browser does not start automatically, please manually browse the URL below.\n",
            "\n",
            "    https://code.earthengine.google.com/client-auth?scopes=https%3A//www.googleapis.com/auth/earthengine%20https%3A//www.googleapis.com/auth/devstorage.full_control&request_id=9NIAETM-DJcSDrfw4Po4YRH1Cx_u5iEocPMIwpRVU1M&tc=u95MJ1IiinOCBqK0lSslvcd23TAcGlp73c0qV3IyKgw&cc=BO3Gedm8W4i3Bv63OMZBMltkLU6Ys5xqANnLwygERiI\n",
            "\n",
            "The authorization workflow will generate a code, which you should paste in the box below.\n",
            "Enter verification code: 4/1AWgavdfVZD6kJAMqLw5nB4uCvfdpdQbvPjfl7YGdEBA-fdv2e7rJpFgnDfM\n",
            "\n",
            "Successfully saved authorization token.\n"
          ]
        }
      ],
      "source": [
        "import ee\n",
        "\n",
        "# Trigger the authentication flow.\n",
        "ee.Authenticate()\n",
        "\n",
        "# Initialize the library.\n",
        "ee.Initialize()"
      ]
    },
    {
      "cell_type": "code",
      "execution_count": 2,
      "metadata": {
        "id": "HDS6GZk0BIET"
      },
      "outputs": [],
      "source": [
        "def select(long1, lat1, long2, lat2):\n",
        "    rectangle = ee.Geometry.Rectangle([long1, lat1, long2, lat2])\n",
        "\n",
        "    dataset = 'LANDSAT/LC08/C01/T1_TOA'\n",
        "\n",
        "    l8 = ee.ImageCollection(dataset)\n",
        "\n",
        "    img = ee.Image(\n",
        "        l8.filterBounds(rectangle)\n",
        "            .filterDate('2015-01-01',\n",
        "                '2015-12-31')\n",
        "            .sort('CLOUD_COVER').first()\n",
        "    )\n",
        "    return img.clip(rectangle).select(list(range(11)))"
      ]
    },
    {
      "cell_type": "code",
      "execution_count": 3,
      "metadata": {
        "colab": {
          "base_uri": "https://localhost:8080/"
        },
        "id": "zz8aioQjgQ6P",
        "outputId": "153113a5-2526-4984-b90e-609228abcf64"
      },
      "outputs": [
        {
          "data": {
            "text/plain": [
              "(22351710, 5)"
            ]
          },
          "execution_count": 3,
          "metadata": {},
          "output_type": "execute_result"
        }
      ],
      "source": [
        "import pandas as pd\n",
        "latdata = pd.read_csv('/content/drive/MyDrive/SOCData/latdata.csv').to_numpy()\n",
        "latdata.shape"
      ]
    },
    {
      "cell_type": "code",
      "execution_count": 4,
      "metadata": {
        "id": "-fWsXvMxUb48"
      },
      "outputs": [],
      "source": [
        "def SFIM(img, pan):\n",
        "    imgScale = img.projection().nominalScale()\n",
        "    panScale = pan.projection().nominalScale()\n",
        "\n",
        "    kernelWidth = imgScale.divide(panScale)\n",
        "    kernel = ee.Kernel.square(radius = kernelWidth.divide(2))\n",
        "\n",
        "    panSmooth = pan.reduceNeighborhood(\n",
        "    reducer = ee.Reducer.mean(),\n",
        "    kernel = kernel\n",
        "    )\n",
        "\n",
        "    img = img.resample(\"bicubic\")\n",
        "    sharp = img.multiply(pan).divide(panSmooth).reproject(pan.projection())\n",
        "    return sharp"
      ]
    },
    {
      "cell_type": "code",
      "execution_count": 101,
      "metadata": {
        "id": "g8XLNbyIVJrX"
      },
      "outputs": [],
      "source": [
        "def pan_sharpen (img, bands):\n",
        "    # print(type(img))\n",
        "    to_sharpen = img.select(bands);\n",
        "    # Select the 15 m panchromatic band\n",
        "    pan = img.select([\"B8\"]);\n",
        "\n",
        "    return SFIM(to_sharpen, pan).addBands(pan)"
      ]
    },
    {
      "cell_type": "code",
      "execution_count": 6,
      "metadata": {
        "colab": {
          "base_uri": "https://localhost:8080/"
        },
        "id": "3Xt5TDC4WQnw",
        "outputId": "bb90c8b6-a219-4fa9-f476-cb26fbf64728"
      },
      "outputs": [
        {
          "name": "stdout",
          "output_type": "stream",
          "text": [
            "Looking in indexes: https://pypi.org/simple, https://us-python.pkg.dev/colab-wheels/public/simple/\n",
            "Collecting spyndex\n",
            "  Downloading spyndex-0.2.0.tar.gz (725 kB)\n",
            "\u001b[2K     \u001b[90m━━━━━━━━━━━━━━━━━━━━━━━━━━━━━━━━━━━━━━\u001b[0m \u001b[32m725.6/725.6 KB\u001b[0m \u001b[31m19.3 MB/s\u001b[0m eta \u001b[36m0:00:00\u001b[0m\n",
            "\u001b[?25h  Preparing metadata (setup.py) ... \u001b[?25l\u001b[?25hdone\n",
            "Requirement already satisfied: dask>=2021.9.1 in /usr/local/lib/python3.8/dist-packages (from spyndex) (2022.2.1)\n",
            "Requirement already satisfied: earthengine-api in /usr/local/lib/python3.8/dist-packages (from spyndex) (0.1.335)\n",
            "Collecting eemont>=0.3.5\n",
            "  Downloading eemont-0.3.5.tar.gz (123 kB)\n",
            "\u001b[2K     \u001b[90m━━━━━━━━━━━━━━━━━━━━━━━━━━━━━━━━━━━━━━\u001b[0m \u001b[32m123.6/123.6 KB\u001b[0m \u001b[31m16.8 MB/s\u001b[0m eta \u001b[36m0:00:00\u001b[0m\n",
            "\u001b[?25h  Preparing metadata (setup.py) ... \u001b[?25l\u001b[?25hdone\n",
            "Requirement already satisfied: matplotlib in /usr/local/lib/python3.8/dist-packages (from spyndex) (3.2.2)\n",
            "Requirement already satisfied: numpy in /usr/local/lib/python3.8/dist-packages (from spyndex) (1.21.6)\n",
            "Requirement already satisfied: pandas in /usr/local/lib/python3.8/dist-packages (from spyndex) (1.3.5)\n",
            "Collecting python-box>=6.0\n",
            "  Downloading python_box-6.1.0-cp38-cp38-manylinux_2_17_x86_64.manylinux2014_x86_64.whl (3.5 MB)\n",
            "\u001b[2K     \u001b[90m━━━━━━━━━━━━━━━━━━━━━━━━━━━━━━━━━━━━━━━━\u001b[0m \u001b[32m3.5/3.5 MB\u001b[0m \u001b[31m81.5 MB/s\u001b[0m eta \u001b[36m0:00:00\u001b[0m\n",
            "\u001b[?25hRequirement already satisfied: requests in /usr/local/lib/python3.8/dist-packages (from spyndex) (2.25.1)\n",
            "Requirement already satisfied: seaborn in /usr/local/lib/python3.8/dist-packages (from spyndex) (0.11.2)\n",
            "Requirement already satisfied: xarray in /usr/local/lib/python3.8/dist-packages (from spyndex) (2022.12.0)\n",
            "Requirement already satisfied: partd>=0.3.10 in /usr/local/lib/python3.8/dist-packages (from dask>=2021.9.1->spyndex) (1.3.0)\n",
            "Requirement already satisfied: packaging>=20.0 in /usr/local/lib/python3.8/dist-packages (from dask>=2021.9.1->spyndex) (21.3)\n",
            "Requirement already satisfied: toolz>=0.8.2 in /usr/local/lib/python3.8/dist-packages (from dask>=2021.9.1->spyndex) (0.12.0)\n",
            "Requirement already satisfied: cloudpickle>=1.1.1 in /usr/local/lib/python3.8/dist-packages (from dask>=2021.9.1->spyndex) (1.5.0)\n",
            "Requirement already satisfied: pyyaml>=5.3.1 in /usr/local/lib/python3.8/dist-packages (from dask>=2021.9.1->spyndex) (6.0)\n",
            "Requirement already satisfied: fsspec>=0.6.0 in /usr/local/lib/python3.8/dist-packages (from dask>=2021.9.1->spyndex) (2022.11.0)\n",
            "Requirement already satisfied: beautifulsoup4 in /usr/local/lib/python3.8/dist-packages (from eemont>=0.3.5->spyndex) (4.6.3)\n",
            "Collecting ee_extra>=0.0.14\n",
            "  Downloading ee_extra-0.0.14.tar.gz (198 kB)\n",
            "\u001b[2K     \u001b[90m━━━━━━━━━━━━━━━━━━━━━━━━━━━━━━━━━━━━━━\u001b[0m \u001b[32m198.1/198.1 KB\u001b[0m \u001b[31m23.7 MB/s\u001b[0m eta \u001b[36m0:00:00\u001b[0m\n",
            "\u001b[?25h  Preparing metadata (setup.py) ... \u001b[?25l\u001b[?25hdone\n",
            "Requirement already satisfied: geopy in /usr/local/lib/python3.8/dist-packages (from eemont>=0.3.5->spyndex) (1.17.0)\n",
            "Requirement already satisfied: google-auth-httplib2>=0.0.3 in /usr/local/lib/python3.8/dist-packages (from earthengine-api->spyndex) (0.1.0)\n",
            "Requirement already satisfied: future in /usr/local/lib/python3.8/dist-packages (from earthengine-api->spyndex) (0.16.0)\n",
            "Requirement already satisfied: httplib2<1dev,>=0.9.2 in /usr/local/lib/python3.8/dist-packages (from earthengine-api->spyndex) (0.17.4)\n",
            "Requirement already satisfied: google-cloud-storage in /usr/local/lib/python3.8/dist-packages (from earthengine-api->spyndex) (2.7.0)\n",
            "Requirement already satisfied: google-api-python-client>=1.12.1 in /usr/local/lib/python3.8/dist-packages (from earthengine-api->spyndex) (2.70.0)\n",
            "Requirement already satisfied: six in /usr/local/lib/python3.8/dist-packages (from earthengine-api->spyndex) (1.15.0)\n",
            "Requirement already satisfied: google-auth>=1.4.1 in /usr/local/lib/python3.8/dist-packages (from earthengine-api->spyndex) (2.15.0)\n",
            "Requirement already satisfied: pyparsing!=2.0.4,!=2.1.2,!=2.1.6,>=2.0.1 in /usr/local/lib/python3.8/dist-packages (from matplotlib->spyndex) (3.0.9)\n",
            "Requirement already satisfied: cycler>=0.10 in /usr/local/lib/python3.8/dist-packages (from matplotlib->spyndex) (0.11.0)\n",
            "Requirement already satisfied: python-dateutil>=2.1 in /usr/local/lib/python3.8/dist-packages (from matplotlib->spyndex) (2.8.2)\n",
            "Requirement already satisfied: kiwisolver>=1.0.1 in /usr/local/lib/python3.8/dist-packages (from matplotlib->spyndex) (1.4.4)\n",
            "Requirement already satisfied: pytz>=2017.3 in /usr/local/lib/python3.8/dist-packages (from pandas->spyndex) (2022.7)\n",
            "Requirement already satisfied: chardet<5,>=3.0.2 in /usr/local/lib/python3.8/dist-packages (from requests->spyndex) (4.0.0)\n",
            "Requirement already satisfied: idna<3,>=2.5 in /usr/local/lib/python3.8/dist-packages (from requests->spyndex) (2.10)\n",
            "Requirement already satisfied: urllib3<1.27,>=1.21.1 in /usr/local/lib/python3.8/dist-packages (from requests->spyndex) (1.24.3)\n",
            "Requirement already satisfied: certifi>=2017.4.17 in /usr/local/lib/python3.8/dist-packages (from requests->spyndex) (2022.12.7)\n",
            "Requirement already satisfied: scipy>=1.0 in /usr/local/lib/python3.8/dist-packages (from seaborn->spyndex) (1.7.3)\n",
            "Requirement already satisfied: uritemplate<5,>=3.0.1 in /usr/local/lib/python3.8/dist-packages (from google-api-python-client>=1.12.1->earthengine-api->spyndex) (4.1.1)\n",
            "Requirement already satisfied: google-api-core!=2.0.*,!=2.1.*,!=2.2.*,!=2.3.0,<3.0.0dev,>=1.31.5 in /usr/local/lib/python3.8/dist-packages (from google-api-python-client>=1.12.1->earthengine-api->spyndex) (2.11.0)\n",
            "Requirement already satisfied: cachetools<6.0,>=2.0.0 in /usr/local/lib/python3.8/dist-packages (from google-auth>=1.4.1->earthengine-api->spyndex) (5.2.0)\n",
            "Requirement already satisfied: pyasn1-modules>=0.2.1 in /usr/local/lib/python3.8/dist-packages (from google-auth>=1.4.1->earthengine-api->spyndex) (0.2.8)\n",
            "Requirement already satisfied: rsa<5,>=3.1.4 in /usr/local/lib/python3.8/dist-packages (from google-auth>=1.4.1->earthengine-api->spyndex) (4.9)\n",
            "Requirement already satisfied: locket in /usr/local/lib/python3.8/dist-packages (from partd>=0.3.10->dask>=2021.9.1->spyndex) (1.0.0)\n",
            "Requirement already satisfied: geographiclib<2,>=1.49 in /usr/local/lib/python3.8/dist-packages (from geopy->eemont>=0.3.5->spyndex) (1.52)\n",
            "Requirement already satisfied: google-cloud-core<3.0dev,>=2.3.0 in /usr/local/lib/python3.8/dist-packages (from google-cloud-storage->earthengine-api->spyndex) (2.3.2)\n",
            "Requirement already satisfied: google-resumable-media>=2.3.2 in /usr/local/lib/python3.8/dist-packages (from google-cloud-storage->earthengine-api->spyndex) (2.4.0)\n",
            "Requirement already satisfied: googleapis-common-protos<2.0dev,>=1.56.2 in /usr/local/lib/python3.8/dist-packages (from google-api-core!=2.0.*,!=2.1.*,!=2.2.*,!=2.3.0,<3.0.0dev,>=1.31.5->google-api-python-client>=1.12.1->earthengine-api->spyndex) (1.57.0)\n",
            "Requirement already satisfied: protobuf!=3.20.0,!=3.20.1,!=4.21.0,!=4.21.1,!=4.21.2,!=4.21.3,!=4.21.4,!=4.21.5,<5.0.0dev,>=3.19.5 in /usr/local/lib/python3.8/dist-packages (from google-api-core!=2.0.*,!=2.1.*,!=2.2.*,!=2.3.0,<3.0.0dev,>=1.31.5->google-api-python-client>=1.12.1->earthengine-api->spyndex) (3.19.6)\n",
            "Requirement already satisfied: google-crc32c<2.0dev,>=1.0 in /usr/local/lib/python3.8/dist-packages (from google-resumable-media>=2.3.2->google-cloud-storage->earthengine-api->spyndex) (1.5.0)\n",
            "Requirement already satisfied: pyasn1<0.5.0,>=0.4.6 in /usr/local/lib/python3.8/dist-packages (from pyasn1-modules>=0.2.1->google-auth>=1.4.1->earthengine-api->spyndex) (0.4.8)\n",
            "Building wheels for collected packages: spyndex, eemont, ee_extra\n",
            "  Building wheel for spyndex (setup.py) ... \u001b[?25l\u001b[?25hdone\n",
            "  Created wheel for spyndex: filename=spyndex-0.2.0-py3-none-any.whl size=765264 sha256=029667daef66f3e072912bf709f7617f6a784e069bceded19a430abbebc9c40e\n",
            "  Stored in directory: /root/.cache/pip/wheels/f2/27/4e/fd9eedfc506ed7ce975502ad811e9ff836cd2b8175d89b802a\n",
            "  Building wheel for eemont (setup.py) ... \u001b[?25l\u001b[?25hdone\n",
            "  Created wheel for eemont: filename=eemont-0.3.5-py3-none-any.whl size=123958 sha256=d60ae302ce84be320608a274f967e4ad3b350bd4da30ab61afb902aaab1a30ab\n",
            "  Stored in directory: /root/.cache/pip/wheels/7a/21/d6/1721a237fd77e6b67210a901e6b4d6c4f63d91f08e73d45add\n",
            "  Building wheel for ee_extra (setup.py) ... \u001b[?25l\u001b[?25hdone\n",
            "  Created wheel for ee_extra: filename=ee_extra-0.0.14-py3-none-any.whl size=209116 sha256=b68d7b4891c220e6faf0433800ce75abd42faf51db46862b81ad95ce058fd4a9\n",
            "  Stored in directory: /root/.cache/pip/wheels/0f/38/3a/2e67f6d7202f45758a40499d6d4426fd8047813d168b042645\n",
            "Successfully built spyndex eemont ee_extra\n",
            "Installing collected packages: python-box, ee_extra, eemont, spyndex\n",
            "Successfully installed ee_extra-0.0.14 eemont-0.3.5 python-box-6.1.0 spyndex-0.2.0\n"
          ]
        }
      ],
      "source": [
        "!pip install spyndex"
      ]
    },
    {
      "cell_type": "code",
      "execution_count": 83,
      "metadata": {
        "colab": {
          "base_uri": "https://localhost:8080/"
        },
        "id": "665DuUDForCo",
        "outputId": "c93a9a22-354a-4d1f-b30c-6d574e1846a0"
      },
      "outputs": [
        {
          "data": {
            "text/plain": [
              "[31750.0, -16.7833333333986, -16.7750000000653, 13.9916666666251, 14.0]"
            ]
          },
          "execution_count": 83,
          "metadata": {},
          "output_type": "execute_result"
        }
      ],
      "source": [
        "list(latdata[0])"
      ]
    },
    {
      "cell_type": "code",
      "execution_count": 7,
      "metadata": {
        "id": "EgA1OxVDXGD-"
      },
      "outputs": [],
      "source": [
        "import spyndex"
      ]
    },
    {
      "cell_type": "code",
      "execution_count": 102,
      "metadata": {
        "id": "zo1rk7KvWhXj"
      },
      "outputs": [],
      "source": [
        "def compute_indices (img):\n",
        "    dataset = 'LANDSAT/LC08/C01/T1_TOA'\n",
        "\n",
        "    parameters = {\n",
        "        \"A\": img.select(\"B1\"),\n",
        "        \"B\": img.select(\"B2\"),\n",
        "        \"G\": img.select(\"B3\"),\n",
        "        \"R\": img.select(\"B4\"),\n",
        "        \"N\": img.select(\"B5\"),\n",
        "        \"S1\": img.select(\"B6\"),\n",
        "        \"S2\": img.select(\"B7\"),\n",
        "        \"T1\": img.select(\"B10\"),\n",
        "        \"T2\": img.select(\"B11\"),\n",
        "        \"L\" : 1, \n",
        "        \"g\" : 2.5, \"C1\" : 6, \"C2\" : 7.5\n",
        "    }\n",
        "\n",
        "    indices = ['AFRI1600','AFRI2100','ANDWI','AVI','AWEInsh','AWEIsh','BAI','BAIM','BCC','BI','BLFEI','BNDVI','BRBA','BaI','CIG','CSI','CSIT','CVI','DBI','DBSI','DSI','DSWI1','DSWI2','DSWI3','DSWI4','DSWI5','DVI','EBBI','EMBI','EVI','EVI2','ExG','ExGR','ExR','FCVI','GARI','GBNDVI','GCC','GEMI','GLI','GNDVI','GOSAVI','GRNDVI','GRVI','GSAVI','GVMI','IBI','IKAW','IPVI','LSWI','MBI','MCARI1','MCARI2','MGRVI','MIRBI','MLSWI26','MLSWI27','MNDVI','MNDWI','MNLI','MRBVI','MSAVI','MSI','MSR','MTVI1','MTVI2','MuWIR','NBAI','NBLI','NBR','NBR2','NBRSWIR','NBRT1','NBRT2','NBRT3','NBSIMS','NBUI','NDBI','NDBaI','NDDI','NDGlaI','NDII','NDISIb','NDISIg','NDISImndwi','NDISIndwi','NDISIr','NDMI','NDPonI','NDSI','NDSII','NDSWIR','NDSaII','NDTI','NDVI','NDVIMNDWI','NDVIT','NDWI','NDYI','NGRDI','NIRv','NLI','NMDI','NRFIg','NRFIr','NSDS','NSDSI1','NSDSI2','NSDSI3','NSTv1','NSTv2','NWI','NormG','NormNIR','NormR','OSAVI','PISI','RCC','RDVI','RGBVI','RGRI','RI','RI4XS','S3','SARVI','SAVI','SAVIT','SI','SIPI','SR','SR2','SWI','SWM','TDVI','TGI','TVI','TriVI','UI','VARI','VI6T','VIBI','VIG','VgNIRBI','VrNIRBI','WI1','WI2','WI2015','WRI']\n",
        "    \n",
        "\n",
        "    for x in range(0, len(indices), 2):\n",
        "        try:\n",
        "            img = img.addBands(spyndex.computeIndex([indices[x], indices[x + 1]], parameters))\n",
        "        except Exception as e:\n",
        "            pass\n",
        "\n",
        "    meanDict = img.reduceRegion(\n",
        "        reducer= ee.Reducer.mean(),\n",
        "        geometry= img.geometry(),\n",
        "        scale= 90,\n",
        "        maxPixels= 40e9\n",
        "    )\n",
        "\n",
        "    # mappedDictionary = meanDict.map(lambda key, val:  val if val is not None else 0)\n",
        "\n",
        "    return meanDict\n"
      ]
    },
    {
      "cell_type": "code",
      "execution_count": 109,
      "metadata": {
        "id": "e2RKRXZArm8r"
      },
      "outputs": [],
      "source": [
        "import numpy as np\n",
        "sample = latdata[np.random.randint(latdata.shape[0], size=10000), :]"
      ]
    },
    {
      "cell_type": "code",
      "execution_count": null,
      "metadata": {
        "colab": {
          "base_uri": "https://localhost:8080/"
        },
        "id": "TI2FCGu4gfKQ",
        "outputId": "60b00878-e841-4715-e341-a585f792db79"
      },
      "outputs": [
        {
          "name": "stdout",
          "output_type": "stream",
          "text": [
            "0\n",
            "1\n",
            "2\n",
            "3\n",
            "4\n",
            "5\n",
            "6\n",
            "7\n",
            "8\n",
            "9\n",
            "10\n",
            "11\n",
            "12\n",
            "13\n",
            "14\n",
            "15\n",
            "16\n",
            "17\n",
            "18\n",
            "19\n",
            "20\n",
            "21\n",
            "22\n",
            "23\n",
            "24\n",
            "25\n",
            "26\n",
            "27\n",
            "28\n",
            "29\n",
            "30\n",
            "31\n",
            "32\n",
            "33\n",
            "34\n",
            "35\n",
            "36\n",
            "37\n",
            "38\n",
            "39\n",
            "40\n",
            "41\n",
            "42\n",
            "43\n",
            "44\n",
            "45\n",
            "46\n",
            "47\n",
            "48\n",
            "49\n",
            "50\n",
            "51\n",
            "52\n",
            "53\n",
            "54\n",
            "55\n",
            "56\n",
            "57\n",
            "58\n",
            "59\n",
            "60\n",
            "61\n",
            "62\n",
            "63\n",
            "64\n"
          ]
        }
      ],
      "source": [
        "def process_image(long1, lat1, long2, lat2, MU_GLOBAL):\n",
        "\t# Combine selecting area, pan-sharpening, illumination, topographic correction, and spectral indices\n",
        "\n",
        "    img = select(long1, lat1, long2, lat2)\n",
        "    img = img.scaleAndOffset()\n",
        "\n",
        "    img = pan_sharpen(img, [\"B1\", \"B2\", \"B3\", \"B4\", \"B5\", \"B6\", \"B7\",\"B9\", \"B10\", \"B11\"])\n",
        "    indices = compute_indices(img);\n",
        "\n",
        "    return indices.set('MU_GLOBAL', MU_GLOBAL).getInfo()\n",
        "\n",
        "features = [];\n",
        "\n",
        "\n",
        "\n",
        "for i in range(len(sample)):\n",
        "    processed = process_image(sample[i][1], sample[i][3], sample[i][2], sample[i][4], sample[i][0]);\n",
        "    features.append(processed);\n",
        "    print(i)"
      ]
    },
    {
      "cell_type": "code",
      "execution_count": null,
      "metadata": {
        "id": "XF_dvJi1ZXmA"
      },
      "outputs": [],
      "source": [
        "df =  pd.DataFrame(features)"
      ]
    },
    {
      "cell_type": "code",
      "execution_count": null,
      "metadata": {
        "id": "_4K5D-kKs8nW"
      },
      "outputs": [],
      "source": [
        "df.to_csv(\"/content/drive/MyDrive/SOC/Data/TOAFastFeatures\")"
      ]
    }
  ],
  "metadata": {
    "colab": {
      "authorship_tag": "ABX9TyMT0Rfpy/P5etMAqQrknGOi",
      "mount_file_id": "1D62U1zKjd-WUdDQshFXFSgOMTEaQMTbM",
      "provenance": []
    },
    "kernelspec": {
      "display_name": "Python 3.9.2 64-bit",
      "language": "python",
      "name": "python3"
    },
    "language_info": {
      "name": "python",
      "version": "3.9.2"
    },
    "vscode": {
      "interpreter": {
        "hash": "31f2aee4e71d21fbe5cf8b01ff0e069b9275f58929596ceb00d14d90e3e16cd6"
      }
    }
  },
  "nbformat": 4,
  "nbformat_minor": 0
}
