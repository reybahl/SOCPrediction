{
  "nbformat": 4,
  "nbformat_minor": 0,
  "metadata": {
    "colab": {
      "provenance": [],
      "mount_file_id": "1x3-WMGDHNpEbLuT85zKba1MEM5eHUhgP",
      "authorship_tag": "ABX9TyMbD1d5+irtFeH5fc/vOL2P"
    },
    "kernelspec": {
      "name": "python3",
      "display_name": "Python 3"
    },
    "language_info": {
      "name": "python"
    }
  },
  "cells": [
    {
      "cell_type": "markdown",
      "source": [
        "\n",
        "# Load Data, Drop Unecessary Information"
      ],
      "metadata": {
        "id": "uREH7voho1G_"
      }
    },
    {
      "cell_type": "code",
      "execution_count": null,
      "metadata": {
        "id": "dmHGo8qznMNQ"
      },
      "outputs": [],
      "source": [
        "import pandas as pd\n",
        "import os"
      ]
    },
    {
      "cell_type": "code",
      "source": [
        "def create_complete_df(num_files):\n",
        "    path_to_features  = '/content/drive/MyDrive/SOCData'\n",
        "\n",
        "    list_of_dfs = []\n",
        "    for i in range(num_files):\n",
        "        csv_file = f'{i}.csv'\n",
        "        print(csv_file)\n",
        "        df = pd.read_csv(os.path.join(path_to_features, csv_file))\n",
        "        list_of_dfs.append(df)\n",
        "\n",
        "    df = pd.concat(list_of_dfs, axis=0)\n",
        "    return df"
      ],
      "metadata": {
        "id": "cwG-O2f3nWyQ"
      },
      "execution_count": null,
      "outputs": []
    },
    {
      "cell_type": "code",
      "source": [
        "df = create_complete_df(28)"
      ],
      "metadata": {
        "id": "aUFOpcRtngFy"
      },
      "execution_count": null,
      "outputs": []
    },
    {
      "cell_type": "code",
      "source": [
        "df"
      ],
      "metadata": {
        "id": "TB7fuCwhodhA"
      },
      "execution_count": null,
      "outputs": []
    },
    {
      "cell_type": "code",
      "source": [
        "df.reset_index(inplace = True)"
      ],
      "metadata": {
        "id": "tsl4tfx1oYo5"
      },
      "execution_count": null,
      "outputs": []
    },
    {
      "cell_type": "code",
      "source": [
        "df.drop(['system:index', '.geo'], axis = 1, inplace = True)"
      ],
      "metadata": {
        "id": "29YK2p8yn3KT"
      },
      "execution_count": null,
      "outputs": []
    },
    {
      "cell_type": "code",
      "source": [
        "df"
      ],
      "metadata": {
        "id": "R2_dcRYmoMo8"
      },
      "execution_count": null,
      "outputs": []
    },
    {
      "cell_type": "code",
      "source": [
        "from sklearn.experimental import enable_iterative_imputer\n",
        "from sklearn.impute import IterativeImputer\n",
        "\n",
        "imputer = IterativeImputer(verbose=2, max_iter=20)\n",
        "\n",
        "imputed_df = pd.DataFrame(imputer.fit_transform(df), columns = df.columns)\n",
        "imputed_df"
      ],
      "metadata": {
        "id": "NKWc_TECogpl"
      },
      "execution_count": null,
      "outputs": []
    },
    {
      "cell_type": "markdown",
      "source": [
        "# Merge HWSD Data"
      ],
      "metadata": {
        "id": "pfOJvWYLo8wz"
      }
    },
    {
      "cell_type": "code",
      "source": [
        "HWSD = pd.read_csv('/content/drive/MyDrive/SOCData/HWSD_DATA.csv')\n",
        "HWSD = HWSD[['MU_GLOBAL', 'S_OC']]\n",
        "HWSD"
      ],
      "metadata": {
        "id": "fnsXonYMo8NM"
      },
      "execution_count": null,
      "outputs": []
    },
    {
      "cell_type": "code",
      "source": [
        "new = pd.merge(imputed_df, HWSD, on=\"MU_GLOBAL\")\n",
        "new = new.dropna()"
      ],
      "metadata": {
        "id": "onmsoI4qp8LT"
      },
      "execution_count": null,
      "outputs": []
    },
    {
      "cell_type": "markdown",
      "source": [
        "# Split Data"
      ],
      "metadata": {
        "id": "_cnxFqoOrQSB"
      }
    },
    {
      "cell_type": "code",
      "source": [
        "y = new.pop('S_OC')\n",
        "X = new"
      ],
      "metadata": {
        "id": "6VELKxebrUn9"
      },
      "execution_count": null,
      "outputs": []
    },
    {
      "cell_type": "code",
      "source": [
        "assert 'S_OC' not in X.columns"
      ],
      "metadata": {
        "id": "SsR-6VS-rf3T"
      },
      "execution_count": null,
      "outputs": []
    },
    {
      "cell_type": "code",
      "source": [
        "from sklearn.model_selection import train_test_split\n",
        "\n",
        "X_train, X_test, y_train, y_test = train_test_split(\n",
        "        X, y, test_size=0.2, random_state=42)"
      ],
      "metadata": {
        "id": "3GQBO0rwrPj4"
      },
      "execution_count": null,
      "outputs": []
    },
    {
      "cell_type": "code",
      "source": [
        "assert len(X_train) == len(y_train)"
      ],
      "metadata": {
        "id": "OUhwe7Y8r2U1"
      },
      "execution_count": null,
      "outputs": []
    },
    {
      "cell_type": "code",
      "source": [
        "assert len(X_test) == len(y_test)"
      ],
      "metadata": {
        "id": "HABQVKJIr6_C"
      },
      "execution_count": null,
      "outputs": []
    },
    {
      "cell_type": "markdown",
      "source": [
        "# Random Forest Regressor"
      ],
      "metadata": {
        "id": "OYEHfetasAo6"
      }
    },
    {
      "cell_type": "code",
      "source": [
        "from sklearn.ensemble import RandomForestRegressor\n",
        "\n",
        "rf = RandomForestRegressor()\n",
        "rf.fit(X, y)"
      ],
      "metadata": {
        "id": "qbe1nzH_r_6e"
      },
      "execution_count": null,
      "outputs": []
    },
    {
      "cell_type": "markdown",
      "source": [
        "# RMSE"
      ],
      "metadata": {
        "id": "uilHrP8osRWb"
      }
    },
    {
      "cell_type": "code",
      "source": [
        "from sklearn.metrics import mean_squared_log_error\n",
        "\n",
        "round(mean_squared_log_error(rf.predict(X_test), y_test), 3)"
      ],
      "metadata": {
        "id": "z5Bc4MuJsNEE"
      },
      "execution_count": null,
      "outputs": []
    }
  ]
}