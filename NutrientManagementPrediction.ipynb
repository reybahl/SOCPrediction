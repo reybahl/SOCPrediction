{
  "nbformat": 4,
  "nbformat_minor": 0,
  "metadata": {
    "colab": {
      "provenance": [],
      "mount_file_id": "1Yy66VutoHBeXW4MWRjEM6xKGdnzJCojU",
      "authorship_tag": "ABX9TyMN2F9BR7o3qmyawlu6qkRC"
    },
    "kernelspec": {
      "name": "python3",
      "display_name": "Python 3"
    },
    "language_info": {
      "name": "python"
    }
  },
  "cells": [
    {
      "cell_type": "code",
      "execution_count": 72,
      "metadata": {
        "colab": {
          "base_uri": "https://localhost:8080/",
          "height": 1000
        },
        "id": "hzNm74xUKidg",
        "outputId": "5d5abe86-20b9-4675-ebda-2e677089b74f"
      },
      "outputs": [
        {
          "output_type": "execute_result",
          "data": {
            "text/plain": [
              "                  review                                 rv rvYear  \\\n",
              "0    Nutrient Management                soil organic carbon      2   \n",
              "1    Nutrient Management                soil organic carbon      2   \n",
              "2    Nutrient Management                soil organic carbon      2   \n",
              "3    Nutrient Management                soil organic carbon      2   \n",
              "4    Nutrient Management                soil organic carbon      2   \n",
              "..                   ...                                ...    ...   \n",
              "795  Nutrient Management  mineral-associated C stock <53 um      2   \n",
              "796  Nutrient Management  mineral-associated C stock <53 um      2   \n",
              "797  Nutrient Management  mineral-associated C stock <53 um      2   \n",
              "798  Nutrient Management  mineral-associated C stock <53 um      2   \n",
              "799  Nutrient Management  mineral-associated C stock <53 um      2   \n",
              "\n",
              "                          rvUnits  startYear  studyLength sampleDepth  \\\n",
              "0                               %       2018            2     0-30 cm   \n",
              "1                               %       2018            2     0-30 cm   \n",
              "2                               %       2018            2     0-30 cm   \n",
              "3                               %       2018            2     0-30 cm   \n",
              "4                               %       2018            2     0-30 cm   \n",
              "..                            ...        ...          ...         ...   \n",
              "795  g C m2 soil-1 to 20 cm depth       2011            2     0-30 cm   \n",
              "796  g C m2 soil-1 to 20 cm depth       2011            2     0-30 cm   \n",
              "797  g C m2 soil-1 to 20 cm depth       2011            2     0-30 cm   \n",
              "798  g C m2 soil-1 to 20 cm depth       2011            2     0-30 cm   \n",
              "799  g C m2 soil-1 to 20 cm depth       2011            2     0-30 cm   \n",
              "\n",
              "     controlValue  trtValue  percentChange  ...  sampledepth  \\\n",
              "0            2.36      2.51           0.15  ...      0-30 cm   \n",
              "1            2.36      2.51           0.15  ...      0-30 cm   \n",
              "2            2.36      2.57           0.21  ...      0-30 cm   \n",
              "3            2.51      2.51           0.00  ...      0-30 cm   \n",
              "4            2.51      2.57           0.06  ...      0-30 cm   \n",
              "..            ...       ...            ...  ...          ...   \n",
              "795        338.18    330.94          -2.14  ...      0-30 cm   \n",
              "796        338.18    350.22           3.56  ...      0-30 cm   \n",
              "797        338.18    353.63           4.57  ...      0-30 cm   \n",
              "798        338.18    357.09           5.59  ...      0-30 cm   \n",
              "799        338.18    325.45          -3.76  ...      0-30 cm   \n",
              "\n",
              "                                       mapregion                         doi  \\\n",
              "0    [\"Maize mixed\",\"Maize mixed\",\"Maize mixed\"]  10.1016/j.agee.2020.107064   \n",
              "1    [\"Maize mixed\",\"Maize mixed\",\"Maize mixed\"]  10.1016/j.agee.2020.107064   \n",
              "2    [\"Maize mixed\",\"Maize mixed\",\"Maize mixed\"]  10.1016/j.agee.2020.107064   \n",
              "3    [\"Maize mixed\",\"Maize mixed\",\"Maize mixed\"]  10.1016/j.agee.2020.107064   \n",
              "4    [\"Maize mixed\",\"Maize mixed\",\"Maize mixed\"]  10.1016/j.agee.2020.107064   \n",
              "..                                           ...                         ...   \n",
              "795                              [\"Maize mixed\"]           10.1890/16-0024.1   \n",
              "796                              [\"Maize mixed\"]           10.1890/16-0024.1   \n",
              "797                              [\"Maize mixed\"]           10.1890/16-0024.1   \n",
              "798                              [\"Maize mixed\"]           10.1890/16-0024.1   \n",
              "799                              [\"Maize mixed\"]           10.1890/16-0024.1   \n",
              "\n",
              "                                                 title  \\\n",
              "0    Soil greenhouse gas fluxes from maize cropping...   \n",
              "1    Soil greenhouse gas fluxes from maize cropping...   \n",
              "2    Soil greenhouse gas fluxes from maize cropping...   \n",
              "3    Soil greenhouse gas fluxes from maize cropping...   \n",
              "4    Soil greenhouse gas fluxes from maize cropping...   \n",
              "..                                                 ...   \n",
              "795  Opposing effects of different soil organic mat...   \n",
              "796  Opposing effects of different soil organic mat...   \n",
              "797  Opposing effects of different soil organic mat...   \n",
              "798  Opposing effects of different soil organic mat...   \n",
              "799  Opposing effects of different soil organic mat...   \n",
              "\n",
              "                                               authors   authors_abbrev  \\\n",
              "0    Musafiri, C.M., Macharia, J.M., Kiboi, M.N., N...  Musafiri et al.   \n",
              "1    Musafiri, C.M., Macharia, J.M., Kiboi, M.N., N...  Musafiri et al.   \n",
              "2    Musafiri, C.M., Macharia, J.M., Kiboi, M.N., N...  Musafiri et al.   \n",
              "3    Musafiri, C.M., Macharia, J.M., Kiboi, M.N., N...  Musafiri et al.   \n",
              "4    Musafiri, C.M., Macharia, J.M., Kiboi, M.N., N...  Musafiri et al.   \n",
              "..                                                 ...              ...   \n",
              "795  Wood, S.A., Sokol, N., Bell, C.W., Bradford, M...      Wood et al.   \n",
              "796  Wood, S.A., Sokol, N., Bell, C.W., Bradford, M...      Wood et al.   \n",
              "797  Wood, S.A., Sokol, N., Bell, C.W., Bradford, M...      Wood et al.   \n",
              "798  Wood, S.A., Sokol, N., Bell, C.W., Bradford, M...      Wood et al.   \n",
              "799  Wood, S.A., Sokol, N., Bell, C.W., Bradford, M...      Wood et al.   \n",
              "\n",
              "    pubyear                                  journal volume_issue      pages  \n",
              "0      2020  Agriculture, Ecosystems and Environment          201     107064  \n",
              "1      2020  Agriculture, Ecosystems and Environment          201     107064  \n",
              "2      2020  Agriculture, Ecosystems and Environment          201     107064  \n",
              "3      2020  Agriculture, Ecosystems and Environment          201     107064  \n",
              "4      2020  Agriculture, Ecosystems and Environment          201     107064  \n",
              "..      ...                                      ...          ...        ...  \n",
              "795    2016                  Ecological Applications           26  2072-2085  \n",
              "796    2016                  Ecological Applications           26  2072-2085  \n",
              "797    2016                  Ecological Applications           26  2072-2085  \n",
              "798    2016                  Ecological Applications           26  2072-2085  \n",
              "799    2016                  Ecological Applications           26  2072-2085  \n",
              "\n",
              "[800 rows x 25 columns]"
            ],
            "text/html": [
              "\n",
              "  <div id=\"df-4c18dfe5-bc98-4ba2-8988-37187196e8ad\">\n",
              "    <div class=\"colab-df-container\">\n",
              "      <div>\n",
              "<style scoped>\n",
              "    .dataframe tbody tr th:only-of-type {\n",
              "        vertical-align: middle;\n",
              "    }\n",
              "\n",
              "    .dataframe tbody tr th {\n",
              "        vertical-align: top;\n",
              "    }\n",
              "\n",
              "    .dataframe thead th {\n",
              "        text-align: right;\n",
              "    }\n",
              "</style>\n",
              "<table border=\"1\" class=\"dataframe\">\n",
              "  <thead>\n",
              "    <tr style=\"text-align: right;\">\n",
              "      <th></th>\n",
              "      <th>review</th>\n",
              "      <th>rv</th>\n",
              "      <th>rvYear</th>\n",
              "      <th>rvUnits</th>\n",
              "      <th>startYear</th>\n",
              "      <th>studyLength</th>\n",
              "      <th>sampleDepth</th>\n",
              "      <th>controlValue</th>\n",
              "      <th>trtValue</th>\n",
              "      <th>percentChange</th>\n",
              "      <th>...</th>\n",
              "      <th>sampledepth</th>\n",
              "      <th>mapregion</th>\n",
              "      <th>doi</th>\n",
              "      <th>title</th>\n",
              "      <th>authors</th>\n",
              "      <th>authors_abbrev</th>\n",
              "      <th>pubyear</th>\n",
              "      <th>journal</th>\n",
              "      <th>volume_issue</th>\n",
              "      <th>pages</th>\n",
              "    </tr>\n",
              "  </thead>\n",
              "  <tbody>\n",
              "    <tr>\n",
              "      <th>0</th>\n",
              "      <td>Nutrient Management</td>\n",
              "      <td>soil organic carbon</td>\n",
              "      <td>2</td>\n",
              "      <td>%</td>\n",
              "      <td>2018</td>\n",
              "      <td>2</td>\n",
              "      <td>0-30 cm</td>\n",
              "      <td>2.36</td>\n",
              "      <td>2.51</td>\n",
              "      <td>0.15</td>\n",
              "      <td>...</td>\n",
              "      <td>0-30 cm</td>\n",
              "      <td>[\"Maize mixed\",\"Maize mixed\",\"Maize mixed\"]</td>\n",
              "      <td>10.1016/j.agee.2020.107064</td>\n",
              "      <td>Soil greenhouse gas fluxes from maize cropping...</td>\n",
              "      <td>Musafiri, C.M., Macharia, J.M., Kiboi, M.N., N...</td>\n",
              "      <td>Musafiri et al.</td>\n",
              "      <td>2020</td>\n",
              "      <td>Agriculture, Ecosystems and Environment</td>\n",
              "      <td>201</td>\n",
              "      <td>107064</td>\n",
              "    </tr>\n",
              "    <tr>\n",
              "      <th>1</th>\n",
              "      <td>Nutrient Management</td>\n",
              "      <td>soil organic carbon</td>\n",
              "      <td>2</td>\n",
              "      <td>%</td>\n",
              "      <td>2018</td>\n",
              "      <td>2</td>\n",
              "      <td>0-30 cm</td>\n",
              "      <td>2.36</td>\n",
              "      <td>2.51</td>\n",
              "      <td>0.15</td>\n",
              "      <td>...</td>\n",
              "      <td>0-30 cm</td>\n",
              "      <td>[\"Maize mixed\",\"Maize mixed\",\"Maize mixed\"]</td>\n",
              "      <td>10.1016/j.agee.2020.107064</td>\n",
              "      <td>Soil greenhouse gas fluxes from maize cropping...</td>\n",
              "      <td>Musafiri, C.M., Macharia, J.M., Kiboi, M.N., N...</td>\n",
              "      <td>Musafiri et al.</td>\n",
              "      <td>2020</td>\n",
              "      <td>Agriculture, Ecosystems and Environment</td>\n",
              "      <td>201</td>\n",
              "      <td>107064</td>\n",
              "    </tr>\n",
              "    <tr>\n",
              "      <th>2</th>\n",
              "      <td>Nutrient Management</td>\n",
              "      <td>soil organic carbon</td>\n",
              "      <td>2</td>\n",
              "      <td>%</td>\n",
              "      <td>2018</td>\n",
              "      <td>2</td>\n",
              "      <td>0-30 cm</td>\n",
              "      <td>2.36</td>\n",
              "      <td>2.57</td>\n",
              "      <td>0.21</td>\n",
              "      <td>...</td>\n",
              "      <td>0-30 cm</td>\n",
              "      <td>[\"Maize mixed\",\"Maize mixed\",\"Maize mixed\"]</td>\n",
              "      <td>10.1016/j.agee.2020.107064</td>\n",
              "      <td>Soil greenhouse gas fluxes from maize cropping...</td>\n",
              "      <td>Musafiri, C.M., Macharia, J.M., Kiboi, M.N., N...</td>\n",
              "      <td>Musafiri et al.</td>\n",
              "      <td>2020</td>\n",
              "      <td>Agriculture, Ecosystems and Environment</td>\n",
              "      <td>201</td>\n",
              "      <td>107064</td>\n",
              "    </tr>\n",
              "    <tr>\n",
              "      <th>3</th>\n",
              "      <td>Nutrient Management</td>\n",
              "      <td>soil organic carbon</td>\n",
              "      <td>2</td>\n",
              "      <td>%</td>\n",
              "      <td>2018</td>\n",
              "      <td>2</td>\n",
              "      <td>0-30 cm</td>\n",
              "      <td>2.51</td>\n",
              "      <td>2.51</td>\n",
              "      <td>0.00</td>\n",
              "      <td>...</td>\n",
              "      <td>0-30 cm</td>\n",
              "      <td>[\"Maize mixed\",\"Maize mixed\",\"Maize mixed\"]</td>\n",
              "      <td>10.1016/j.agee.2020.107064</td>\n",
              "      <td>Soil greenhouse gas fluxes from maize cropping...</td>\n",
              "      <td>Musafiri, C.M., Macharia, J.M., Kiboi, M.N., N...</td>\n",
              "      <td>Musafiri et al.</td>\n",
              "      <td>2020</td>\n",
              "      <td>Agriculture, Ecosystems and Environment</td>\n",
              "      <td>201</td>\n",
              "      <td>107064</td>\n",
              "    </tr>\n",
              "    <tr>\n",
              "      <th>4</th>\n",
              "      <td>Nutrient Management</td>\n",
              "      <td>soil organic carbon</td>\n",
              "      <td>2</td>\n",
              "      <td>%</td>\n",
              "      <td>2018</td>\n",
              "      <td>2</td>\n",
              "      <td>0-30 cm</td>\n",
              "      <td>2.51</td>\n",
              "      <td>2.57</td>\n",
              "      <td>0.06</td>\n",
              "      <td>...</td>\n",
              "      <td>0-30 cm</td>\n",
              "      <td>[\"Maize mixed\",\"Maize mixed\",\"Maize mixed\"]</td>\n",
              "      <td>10.1016/j.agee.2020.107064</td>\n",
              "      <td>Soil greenhouse gas fluxes from maize cropping...</td>\n",
              "      <td>Musafiri, C.M., Macharia, J.M., Kiboi, M.N., N...</td>\n",
              "      <td>Musafiri et al.</td>\n",
              "      <td>2020</td>\n",
              "      <td>Agriculture, Ecosystems and Environment</td>\n",
              "      <td>201</td>\n",
              "      <td>107064</td>\n",
              "    </tr>\n",
              "    <tr>\n",
              "      <th>...</th>\n",
              "      <td>...</td>\n",
              "      <td>...</td>\n",
              "      <td>...</td>\n",
              "      <td>...</td>\n",
              "      <td>...</td>\n",
              "      <td>...</td>\n",
              "      <td>...</td>\n",
              "      <td>...</td>\n",
              "      <td>...</td>\n",
              "      <td>...</td>\n",
              "      <td>...</td>\n",
              "      <td>...</td>\n",
              "      <td>...</td>\n",
              "      <td>...</td>\n",
              "      <td>...</td>\n",
              "      <td>...</td>\n",
              "      <td>...</td>\n",
              "      <td>...</td>\n",
              "      <td>...</td>\n",
              "      <td>...</td>\n",
              "      <td>...</td>\n",
              "    </tr>\n",
              "    <tr>\n",
              "      <th>795</th>\n",
              "      <td>Nutrient Management</td>\n",
              "      <td>mineral-associated C stock &lt;53 um</td>\n",
              "      <td>2</td>\n",
              "      <td>g C m2 soil-1 to 20 cm depth</td>\n",
              "      <td>2011</td>\n",
              "      <td>2</td>\n",
              "      <td>0-30 cm</td>\n",
              "      <td>338.18</td>\n",
              "      <td>330.94</td>\n",
              "      <td>-2.14</td>\n",
              "      <td>...</td>\n",
              "      <td>0-30 cm</td>\n",
              "      <td>[\"Maize mixed\"]</td>\n",
              "      <td>10.1890/16-0024.1</td>\n",
              "      <td>Opposing effects of different soil organic mat...</td>\n",
              "      <td>Wood, S.A., Sokol, N., Bell, C.W., Bradford, M...</td>\n",
              "      <td>Wood et al.</td>\n",
              "      <td>2016</td>\n",
              "      <td>Ecological Applications</td>\n",
              "      <td>26</td>\n",
              "      <td>2072-2085</td>\n",
              "    </tr>\n",
              "    <tr>\n",
              "      <th>796</th>\n",
              "      <td>Nutrient Management</td>\n",
              "      <td>mineral-associated C stock &lt;53 um</td>\n",
              "      <td>2</td>\n",
              "      <td>g C m2 soil-1 to 20 cm depth</td>\n",
              "      <td>2011</td>\n",
              "      <td>2</td>\n",
              "      <td>0-30 cm</td>\n",
              "      <td>338.18</td>\n",
              "      <td>350.22</td>\n",
              "      <td>3.56</td>\n",
              "      <td>...</td>\n",
              "      <td>0-30 cm</td>\n",
              "      <td>[\"Maize mixed\"]</td>\n",
              "      <td>10.1890/16-0024.1</td>\n",
              "      <td>Opposing effects of different soil organic mat...</td>\n",
              "      <td>Wood, S.A., Sokol, N., Bell, C.W., Bradford, M...</td>\n",
              "      <td>Wood et al.</td>\n",
              "      <td>2016</td>\n",
              "      <td>Ecological Applications</td>\n",
              "      <td>26</td>\n",
              "      <td>2072-2085</td>\n",
              "    </tr>\n",
              "    <tr>\n",
              "      <th>797</th>\n",
              "      <td>Nutrient Management</td>\n",
              "      <td>mineral-associated C stock &lt;53 um</td>\n",
              "      <td>2</td>\n",
              "      <td>g C m2 soil-1 to 20 cm depth</td>\n",
              "      <td>2011</td>\n",
              "      <td>2</td>\n",
              "      <td>0-30 cm</td>\n",
              "      <td>338.18</td>\n",
              "      <td>353.63</td>\n",
              "      <td>4.57</td>\n",
              "      <td>...</td>\n",
              "      <td>0-30 cm</td>\n",
              "      <td>[\"Maize mixed\"]</td>\n",
              "      <td>10.1890/16-0024.1</td>\n",
              "      <td>Opposing effects of different soil organic mat...</td>\n",
              "      <td>Wood, S.A., Sokol, N., Bell, C.W., Bradford, M...</td>\n",
              "      <td>Wood et al.</td>\n",
              "      <td>2016</td>\n",
              "      <td>Ecological Applications</td>\n",
              "      <td>26</td>\n",
              "      <td>2072-2085</td>\n",
              "    </tr>\n",
              "    <tr>\n",
              "      <th>798</th>\n",
              "      <td>Nutrient Management</td>\n",
              "      <td>mineral-associated C stock &lt;53 um</td>\n",
              "      <td>2</td>\n",
              "      <td>g C m2 soil-1 to 20 cm depth</td>\n",
              "      <td>2011</td>\n",
              "      <td>2</td>\n",
              "      <td>0-30 cm</td>\n",
              "      <td>338.18</td>\n",
              "      <td>357.09</td>\n",
              "      <td>5.59</td>\n",
              "      <td>...</td>\n",
              "      <td>0-30 cm</td>\n",
              "      <td>[\"Maize mixed\"]</td>\n",
              "      <td>10.1890/16-0024.1</td>\n",
              "      <td>Opposing effects of different soil organic mat...</td>\n",
              "      <td>Wood, S.A., Sokol, N., Bell, C.W., Bradford, M...</td>\n",
              "      <td>Wood et al.</td>\n",
              "      <td>2016</td>\n",
              "      <td>Ecological Applications</td>\n",
              "      <td>26</td>\n",
              "      <td>2072-2085</td>\n",
              "    </tr>\n",
              "    <tr>\n",
              "      <th>799</th>\n",
              "      <td>Nutrient Management</td>\n",
              "      <td>mineral-associated C stock &lt;53 um</td>\n",
              "      <td>2</td>\n",
              "      <td>g C m2 soil-1 to 20 cm depth</td>\n",
              "      <td>2011</td>\n",
              "      <td>2</td>\n",
              "      <td>0-30 cm</td>\n",
              "      <td>338.18</td>\n",
              "      <td>325.45</td>\n",
              "      <td>-3.76</td>\n",
              "      <td>...</td>\n",
              "      <td>0-30 cm</td>\n",
              "      <td>[\"Maize mixed\"]</td>\n",
              "      <td>10.1890/16-0024.1</td>\n",
              "      <td>Opposing effects of different soil organic mat...</td>\n",
              "      <td>Wood, S.A., Sokol, N., Bell, C.W., Bradford, M...</td>\n",
              "      <td>Wood et al.</td>\n",
              "      <td>2016</td>\n",
              "      <td>Ecological Applications</td>\n",
              "      <td>26</td>\n",
              "      <td>2072-2085</td>\n",
              "    </tr>\n",
              "  </tbody>\n",
              "</table>\n",
              "<p>800 rows × 25 columns</p>\n",
              "</div>\n",
              "      <button class=\"colab-df-convert\" onclick=\"convertToInteractive('df-4c18dfe5-bc98-4ba2-8988-37187196e8ad')\"\n",
              "              title=\"Convert this dataframe to an interactive table.\"\n",
              "              style=\"display:none;\">\n",
              "        \n",
              "  <svg xmlns=\"http://www.w3.org/2000/svg\" height=\"24px\"viewBox=\"0 0 24 24\"\n",
              "       width=\"24px\">\n",
              "    <path d=\"M0 0h24v24H0V0z\" fill=\"none\"/>\n",
              "    <path d=\"M18.56 5.44l.94 2.06.94-2.06 2.06-.94-2.06-.94-.94-2.06-.94 2.06-2.06.94zm-11 1L8.5 8.5l.94-2.06 2.06-.94-2.06-.94L8.5 2.5l-.94 2.06-2.06.94zm10 10l.94 2.06.94-2.06 2.06-.94-2.06-.94-.94-2.06-.94 2.06-2.06.94z\"/><path d=\"M17.41 7.96l-1.37-1.37c-.4-.4-.92-.59-1.43-.59-.52 0-1.04.2-1.43.59L10.3 9.45l-7.72 7.72c-.78.78-.78 2.05 0 2.83L4 21.41c.39.39.9.59 1.41.59.51 0 1.02-.2 1.41-.59l7.78-7.78 2.81-2.81c.8-.78.8-2.07 0-2.86zM5.41 20L4 18.59l7.72-7.72 1.47 1.35L5.41 20z\"/>\n",
              "  </svg>\n",
              "      </button>\n",
              "      \n",
              "  <style>\n",
              "    .colab-df-container {\n",
              "      display:flex;\n",
              "      flex-wrap:wrap;\n",
              "      gap: 12px;\n",
              "    }\n",
              "\n",
              "    .colab-df-convert {\n",
              "      background-color: #E8F0FE;\n",
              "      border: none;\n",
              "      border-radius: 50%;\n",
              "      cursor: pointer;\n",
              "      display: none;\n",
              "      fill: #1967D2;\n",
              "      height: 32px;\n",
              "      padding: 0 0 0 0;\n",
              "      width: 32px;\n",
              "    }\n",
              "\n",
              "    .colab-df-convert:hover {\n",
              "      background-color: #E2EBFA;\n",
              "      box-shadow: 0px 1px 2px rgba(60, 64, 67, 0.3), 0px 1px 3px 1px rgba(60, 64, 67, 0.15);\n",
              "      fill: #174EA6;\n",
              "    }\n",
              "\n",
              "    [theme=dark] .colab-df-convert {\n",
              "      background-color: #3B4455;\n",
              "      fill: #D2E3FC;\n",
              "    }\n",
              "\n",
              "    [theme=dark] .colab-df-convert:hover {\n",
              "      background-color: #434B5C;\n",
              "      box-shadow: 0px 1px 3px 1px rgba(0, 0, 0, 0.15);\n",
              "      filter: drop-shadow(0px 1px 2px rgba(0, 0, 0, 0.3));\n",
              "      fill: #FFFFFF;\n",
              "    }\n",
              "  </style>\n",
              "\n",
              "      <script>\n",
              "        const buttonEl =\n",
              "          document.querySelector('#df-4c18dfe5-bc98-4ba2-8988-37187196e8ad button.colab-df-convert');\n",
              "        buttonEl.style.display =\n",
              "          google.colab.kernel.accessAllowed ? 'block' : 'none';\n",
              "\n",
              "        async function convertToInteractive(key) {\n",
              "          const element = document.querySelector('#df-4c18dfe5-bc98-4ba2-8988-37187196e8ad');\n",
              "          const dataTable =\n",
              "            await google.colab.kernel.invokeFunction('convertToInteractive',\n",
              "                                                     [key], {});\n",
              "          if (!dataTable) return;\n",
              "\n",
              "          const docLinkHtml = 'Like what you see? Visit the ' +\n",
              "            '<a target=\"_blank\" href=https://colab.research.google.com/notebooks/data_table.ipynb>data table notebook</a>'\n",
              "            + ' to learn more about interactive tables.';\n",
              "          element.innerHTML = '';\n",
              "          dataTable['output_type'] = 'display_data';\n",
              "          await google.colab.output.renderOutput(dataTable, element);\n",
              "          const docLink = document.createElement('div');\n",
              "          docLink.innerHTML = docLinkHtml;\n",
              "          element.appendChild(docLink);\n",
              "        }\n",
              "      </script>\n",
              "    </div>\n",
              "  </div>\n",
              "  "
            ]
          },
          "metadata": {},
          "execution_count": 72
        }
      ],
      "source": [
        "import pandas as pd\n",
        "df_list = [pd.read_csv('/content/drive/MyDrive/SOC/Data/AgEvidence/nutrient management/nutrient management0.csv')]\n",
        "df = pd.concat(df_list, axis = 0)\n",
        "df"
      ]
    },
    {
      "cell_type": "code",
      "source": [
        "df.rv = df.rv.str.lower()"
      ],
      "metadata": {
        "id": "PQ3Hur8aLSj1"
      },
      "execution_count": 73,
      "outputs": []
    },
    {
      "cell_type": "code",
      "source": [
        "df = df.query('rv.str.contains(\"soil\") and rv.str.contains(\"organic\") and rv.str.contains(\"carbon\") and not rv.str.contains(\"poc\") and not rv.str.contains(\"particulate\")', engine='python')"
      ],
      "metadata": {
        "id": "cvnGM4WTKlVJ"
      },
      "execution_count": 74,
      "outputs": []
    },
    {
      "cell_type": "code",
      "source": [
        "df.rvUnits.value_counts()"
      ],
      "metadata": {
        "colab": {
          "base_uri": "https://localhost:8080/"
        },
        "id": "Fw-19DlSLek2",
        "outputId": "ddd4a502-b13c-416e-9712-9ea27d553bed"
      },
      "execution_count": 75,
      "outputs": [
        {
          "output_type": "execute_result",
          "data": {
            "text/plain": [
              "%        345\n",
              "g/kg      82\n",
              "Mg/ha     18\n",
              "Name: rvUnits, dtype: int64"
            ]
          },
          "metadata": {},
          "execution_count": 75
        }
      ]
    },
    {
      "cell_type": "markdown",
      "source": [
        "One-hot encoding"
      ],
      "metadata": {
        "id": "KMCBf-kjItYB"
      }
    },
    {
      "cell_type": "code",
      "source": [
        "df[\"control\"].value_counts()"
      ],
      "metadata": {
        "colab": {
          "base_uri": "https://localhost:8080/"
        },
        "id": "gzwZYkJfLEry",
        "outputId": "fd4739b8-a12b-4afd-cc9a-a337d9bdf1c5"
      },
      "execution_count": 76,
      "outputs": [
        {
          "output_type": "execute_result",
          "data": {
            "text/plain": [
              "[\"Unamended\"]                                                                                     84\n",
              "[\"Nitrogen Mineral Fertilizer\"]                                                                   80\n",
              "[\"Unspecified Mineral Fertilizer\",\"Green Manure\"]                                                 64\n",
              "[\"Unspecified Mineral Fertilizer\",\"Green Manure\",\"Animal Manure\"]                                 48\n",
              "[\"Green Manure\",\"Animal Manure\",\"Legume Intercrop\"]                                               48\n",
              "[\"Nitrogen Mineral Fertilizer\",\"Phosphorus Mineral Fertilizer\"]                                   33\n",
              "[\"Phosphorus Mineral Fertilizer\"]                                                                 32\n",
              "[\"Green Manure\"]                                                                                  20\n",
              "[\"Nitrogen Mineral Fertilizer\",\"Phosphorus Mineral Fertilizer\",\"Potassium Mineral Fertilizer\"]    12\n",
              "[\"Animal Manure\"]                                                                                 11\n",
              "[\"Phosphorus Mineral Fertilizer\",\"Potassium Mineral Fertilizer\"]                                   6\n",
              "[\"Nitrogen Mineral Fertilizer\",\"Potassium Mineral Fertilizer\"]                                     4\n",
              "[\"Incinerated Organics\"]                                                                           3\n",
              "Name: control, dtype: int64"
            ]
          },
          "metadata": {},
          "execution_count": 76
        }
      ]
    },
    {
      "cell_type": "code",
      "source": [
        "def encode(data, variable):\n",
        "    return int(variable in data)"
      ],
      "metadata": {
        "id": "j7vaO8Ibbrnx"
      },
      "execution_count": 77,
      "outputs": []
    },
    {
      "cell_type": "code",
      "source": [
        "import ast"
      ],
      "metadata": {
        "id": "zBwk73pLdRLQ"
      },
      "execution_count": 78,
      "outputs": []
    },
    {
      "cell_type": "code",
      "source": [
        "controls = set()\n",
        "for val, count in df[\"control\"].value_counts().iteritems():    \n",
        "    for control in ast.literal_eval(val):\n",
        "        controls.add(control)\n",
        "controls"
      ],
      "metadata": {
        "colab": {
          "base_uri": "https://localhost:8080/"
        },
        "id": "zetwZGPcaP48",
        "outputId": "9df04ff9-311e-45a4-f655-8fc2c7709c5a"
      },
      "execution_count": 79,
      "outputs": [
        {
          "output_type": "execute_result",
          "data": {
            "text/plain": [
              "{'Animal Manure',\n",
              " 'Green Manure',\n",
              " 'Incinerated Organics',\n",
              " 'Legume Intercrop',\n",
              " 'Nitrogen Mineral Fertilizer',\n",
              " 'Phosphorus Mineral Fertilizer',\n",
              " 'Potassium Mineral Fertilizer',\n",
              " 'Unamended',\n",
              " 'Unspecified Mineral Fertilizer'}"
            ]
          },
          "metadata": {},
          "execution_count": 79
        }
      ]
    },
    {
      "cell_type": "code",
      "source": [
        "treatments = set()\n",
        "for val, count in df[\"treatment\"].value_counts().iteritems():    \n",
        "    for treatment in ast.literal_eval(val):\n",
        "        treatments.add(treatment)\n",
        "treatments"
      ],
      "metadata": {
        "colab": {
          "base_uri": "https://localhost:8080/"
        },
        "id": "v65JGb0adHoh",
        "outputId": "b20b417b-f789-4700-b5a8-12fb304d209b"
      },
      "execution_count": 80,
      "outputs": [
        {
          "output_type": "execute_result",
          "data": {
            "text/plain": [
              "{'Animal Manure',\n",
              " 'Green Manure',\n",
              " 'Incinerated Organics',\n",
              " 'Legume Intercrop',\n",
              " 'Nitrogen Mineral Fertilizer',\n",
              " 'Phosphorus Mineral Fertilizer',\n",
              " 'Potassium Mineral Fertilizer',\n",
              " 'Unspecified Mineral Fertilizer'}"
            ]
          },
          "metadata": {},
          "execution_count": 80
        }
      ]
    },
    {
      "cell_type": "code",
      "source": [
        "for x in controls:\n",
        "    df[x + \"_control\"] = df['control'].apply(encode, args = [x])\n",
        "    \n",
        "for x in treatments:\n",
        "    df[x + \"_treatment\"] = df['treatment'].apply(encode, args = [x])"
      ],
      "metadata": {
        "colab": {
          "base_uri": "https://localhost:8080/"
        },
        "id": "kjCwIN0_dXDB",
        "outputId": "ad45f57a-99b3-4331-cb6d-32e5e5a8abf9"
      },
      "execution_count": 81,
      "outputs": [
        {
          "output_type": "stream",
          "name": "stderr",
          "text": [
            "<ipython-input-81-47752ec81192>:2: SettingWithCopyWarning: \n",
            "A value is trying to be set on a copy of a slice from a DataFrame.\n",
            "Try using .loc[row_indexer,col_indexer] = value instead\n",
            "\n",
            "See the caveats in the documentation: https://pandas.pydata.org/pandas-docs/stable/user_guide/indexing.html#returning-a-view-versus-a-copy\n",
            "  df[x + \"_control\"] = df['control'].apply(encode, args = [x])\n",
            "<ipython-input-81-47752ec81192>:5: SettingWithCopyWarning: \n",
            "A value is trying to be set on a copy of a slice from a DataFrame.\n",
            "Try using .loc[row_indexer,col_indexer] = value instead\n",
            "\n",
            "See the caveats in the documentation: https://pandas.pydata.org/pandas-docs/stable/user_guide/indexing.html#returning-a-view-versus-a-copy\n",
            "  df[x + \"_treatment\"] = df['treatment'].apply(encode, args = [x])\n"
          ]
        }
      ]
    },
    {
      "cell_type": "code",
      "source": [
        "df.columns"
      ],
      "metadata": {
        "colab": {
          "base_uri": "https://localhost:8080/"
        },
        "id": "EwusL4x-KMZW",
        "outputId": "8b90d756-4931-4d0f-91fe-8d5eb22d45b7"
      },
      "execution_count": 82,
      "outputs": [
        {
          "output_type": "execute_result",
          "data": {
            "text/plain": [
              "Index(['review', 'rv', 'rvYear', 'rvUnits', 'startYear', 'studyLength',\n",
              "       'sampleDepth', 'controlValue', 'trtValue', 'percentChange', 'norm',\n",
              "       'studyduration', 'croptype', 'control', 'treatment', 'sampledepth',\n",
              "       'mapregion', 'doi', 'title', 'authors', 'authors_abbrev', 'pubyear',\n",
              "       'journal', 'volume_issue', 'pages',\n",
              "       'Unspecified Mineral Fertilizer_control', 'Legume Intercrop_control',\n",
              "       'Potassium Mineral Fertilizer_control',\n",
              "       'Nitrogen Mineral Fertilizer_control', 'Unamended_control',\n",
              "       'Incinerated Organics_control', 'Green Manure_control',\n",
              "       'Animal Manure_control', 'Phosphorus Mineral Fertilizer_control',\n",
              "       'Unspecified Mineral Fertilizer_treatment',\n",
              "       'Legume Intercrop_treatment', 'Potassium Mineral Fertilizer_treatment',\n",
              "       'Nitrogen Mineral Fertilizer_treatment', 'Animal Manure_treatment',\n",
              "       'Incinerated Organics_treatment', 'Green Manure_treatment',\n",
              "       'Phosphorus Mineral Fertilizer_treatment'],\n",
              "      dtype='object')"
            ]
          },
          "metadata": {},
          "execution_count": 82
        }
      ]
    },
    {
      "cell_type": "code",
      "source": [
        "feature_cols = [\n",
        "    \"rvUnits\",\n",
        "    \"startYear\",\n",
        "    \"studyLength\",\n",
        "    \"sampleDepth\",\n",
        "    \"controlValue\",\n",
        "    \"norm\",\n",
        "    \"croptype\",\n",
        "    'Unspecified Mineral Fertilizer_control', 'Legume Intercrop_control',\n",
        "       'Potassium Mineral Fertilizer_control',\n",
        "       'Nitrogen Mineral Fertilizer_control', 'Unamended_control',\n",
        "       'Incinerated Organics_control', 'Green Manure_control',\n",
        "       'Animal Manure_control', 'Phosphorus Mineral Fertilizer_control',\n",
        "       'Unspecified Mineral Fertilizer_treatment',\n",
        "       'Legume Intercrop_treatment', 'Potassium Mineral Fertilizer_treatment',\n",
        "       'Nitrogen Mineral Fertilizer_treatment', 'Animal Manure_treatment',\n",
        "       'Incinerated Organics_treatment', 'Green Manure_treatment',\n",
        "       'Phosphorus Mineral Fertilizer_treatment'\n",
        "]"
      ],
      "metadata": {
        "id": "jxdd6Zn1Lql4"
      },
      "execution_count": 83,
      "outputs": []
    },
    {
      "cell_type": "code",
      "source": [
        "X = df[feature_cols]\n",
        "y = df['percentChange']"
      ],
      "metadata": {
        "id": "y5pwUBE9MvnG"
      },
      "execution_count": 84,
      "outputs": []
    },
    {
      "cell_type": "code",
      "source": [
        "X.isnull().sum()"
      ],
      "metadata": {
        "colab": {
          "base_uri": "https://localhost:8080/"
        },
        "id": "J0InKx4ANiUD",
        "outputId": "906f1d7f-b30e-427d-fb49-55cc5533cee3"
      },
      "execution_count": 85,
      "outputs": [
        {
          "output_type": "execute_result",
          "data": {
            "text/plain": [
              "rvUnits                                     0\n",
              "startYear                                   0\n",
              "studyLength                                 0\n",
              "sampleDepth                                 0\n",
              "controlValue                                0\n",
              "norm                                        0\n",
              "croptype                                    0\n",
              "Unspecified Mineral Fertilizer_control      0\n",
              "Legume Intercrop_control                    0\n",
              "Potassium Mineral Fertilizer_control        0\n",
              "Nitrogen Mineral Fertilizer_control         0\n",
              "Unamended_control                           0\n",
              "Incinerated Organics_control                0\n",
              "Green Manure_control                        0\n",
              "Animal Manure_control                       0\n",
              "Phosphorus Mineral Fertilizer_control       0\n",
              "Unspecified Mineral Fertilizer_treatment    0\n",
              "Legume Intercrop_treatment                  0\n",
              "Potassium Mineral Fertilizer_treatment      0\n",
              "Nitrogen Mineral Fertilizer_treatment       0\n",
              "Animal Manure_treatment                     0\n",
              "Incinerated Organics_treatment              0\n",
              "Green Manure_treatment                      0\n",
              "Phosphorus Mineral Fertilizer_treatment     0\n",
              "dtype: int64"
            ]
          },
          "metadata": {},
          "execution_count": 85
        }
      ]
    },
    {
      "cell_type": "code",
      "source": [
        "X.dtypes"
      ],
      "metadata": {
        "colab": {
          "base_uri": "https://localhost:8080/"
        },
        "id": "0oIq8viqKY8r",
        "outputId": "147ed3dd-d11e-40ba-c205-8bbcb04a01ca"
      },
      "execution_count": 87,
      "outputs": [
        {
          "output_type": "execute_result",
          "data": {
            "text/plain": [
              "rvUnits                                      object\n",
              "startYear                                     int64\n",
              "studyLength                                   int64\n",
              "sampleDepth                                  object\n",
              "controlValue                                float64\n",
              "norm                                          int64\n",
              "croptype                                     object\n",
              "Unspecified Mineral Fertilizer_control        int64\n",
              "Legume Intercrop_control                      int64\n",
              "Potassium Mineral Fertilizer_control          int64\n",
              "Nitrogen Mineral Fertilizer_control           int64\n",
              "Unamended_control                             int64\n",
              "Incinerated Organics_control                  int64\n",
              "Green Manure_control                          int64\n",
              "Animal Manure_control                         int64\n",
              "Phosphorus Mineral Fertilizer_control         int64\n",
              "Unspecified Mineral Fertilizer_treatment      int64\n",
              "Legume Intercrop_treatment                    int64\n",
              "Potassium Mineral Fertilizer_treatment        int64\n",
              "Nitrogen Mineral Fertilizer_treatment         int64\n",
              "Animal Manure_treatment                       int64\n",
              "Incinerated Organics_treatment                int64\n",
              "Green Manure_treatment                        int64\n",
              "Phosphorus Mineral Fertilizer_treatment       int64\n",
              "dtype: object"
            ]
          },
          "metadata": {},
          "execution_count": 87
        }
      ]
    },
    {
      "cell_type": "code",
      "source": [
        "from sklearn.preprocessing import OrdinalEncoder\n",
        "\n",
        "encoder = OrdinalEncoder()\n",
        "to_encode = [\"rvUnits\", \"sampleDepth\", \"croptype\"]\n",
        "\n",
        "X[to_encode] = encoder.fit_transform(X[to_encode])"
      ],
      "metadata": {
        "colab": {
          "base_uri": "https://localhost:8080/"
        },
        "id": "rrtu8FRSMwfx",
        "outputId": "ef30e7cd-9a8b-4981-d9e4-2867e08d459f"
      },
      "execution_count": 88,
      "outputs": [
        {
          "output_type": "stream",
          "name": "stderr",
          "text": [
            "/usr/local/lib/python3.8/dist-packages/pandas/core/frame.py:3678: SettingWithCopyWarning: \n",
            "A value is trying to be set on a copy of a slice from a DataFrame.\n",
            "Try using .loc[row_indexer,col_indexer] = value instead\n",
            "\n",
            "See the caveats in the documentation: https://pandas.pydata.org/pandas-docs/stable/user_guide/indexing.html#returning-a-view-versus-a-copy\n",
            "  self[col] = igetitem(value, i)\n"
          ]
        }
      ]
    },
    {
      "cell_type": "code",
      "source": [
        "X.dtypes"
      ],
      "metadata": {
        "colab": {
          "base_uri": "https://localhost:8080/"
        },
        "id": "4y1IkSTsOWAC",
        "outputId": "c486dd43-5464-47bc-9dea-55d2cd6b72fa"
      },
      "execution_count": 91,
      "outputs": [
        {
          "output_type": "execute_result",
          "data": {
            "text/plain": [
              "rvUnits                                     float64\n",
              "startYear                                     int64\n",
              "studyLength                                   int64\n",
              "sampleDepth                                 float64\n",
              "controlValue                                float64\n",
              "norm                                          int64\n",
              "croptype                                    float64\n",
              "Unspecified Mineral Fertilizer_control        int64\n",
              "Legume Intercrop_control                      int64\n",
              "Potassium Mineral Fertilizer_control          int64\n",
              "Nitrogen Mineral Fertilizer_control           int64\n",
              "Unamended_control                             int64\n",
              "Incinerated Organics_control                  int64\n",
              "Green Manure_control                          int64\n",
              "Animal Manure_control                         int64\n",
              "Phosphorus Mineral Fertilizer_control         int64\n",
              "Unspecified Mineral Fertilizer_treatment      int64\n",
              "Legume Intercrop_treatment                    int64\n",
              "Potassium Mineral Fertilizer_treatment        int64\n",
              "Nitrogen Mineral Fertilizer_treatment         int64\n",
              "Animal Manure_treatment                       int64\n",
              "Incinerated Organics_treatment                int64\n",
              "Green Manure_treatment                        int64\n",
              "Phosphorus Mineral Fertilizer_treatment       int64\n",
              "dtype: object"
            ]
          },
          "metadata": {},
          "execution_count": 91
        }
      ]
    },
    {
      "cell_type": "code",
      "source": [
        "from sklearn.model_selection import train_test_split\n",
        "\n",
        "X_train, X_test, y_train, y_test = train_test_split(X, y, random_state=42)"
      ],
      "metadata": {
        "id": "beEtV7JoQiob"
      },
      "execution_count": 93,
      "outputs": []
    },
    {
      "cell_type": "code",
      "source": [
        "assert len(X_train) == len(y_train)\n",
        "assert len(X_test) == len(y_test)"
      ],
      "metadata": {
        "id": "qYJpRHVdQzWl"
      },
      "execution_count": 94,
      "outputs": []
    },
    {
      "cell_type": "code",
      "source": [
        "from sklearn.tree import DecisionTreeRegressor\n",
        "\n",
        "dt = DecisionTreeRegressor()\n",
        "dt.fit(X_train, y_train)"
      ],
      "metadata": {
        "colab": {
          "base_uri": "https://localhost:8080/"
        },
        "id": "LorZpE_PQ8i7",
        "outputId": "9805d8fa-55ca-4195-d275-38c06941568a"
      },
      "execution_count": 95,
      "outputs": [
        {
          "output_type": "execute_result",
          "data": {
            "text/plain": [
              "DecisionTreeRegressor()"
            ]
          },
          "metadata": {},
          "execution_count": 95
        }
      ]
    },
    {
      "cell_type": "code",
      "source": [
        "preds = dt.predict(X_test)"
      ],
      "metadata": {
        "id": "2Djr9RspRFds"
      },
      "execution_count": 96,
      "outputs": []
    },
    {
      "cell_type": "code",
      "source": [
        "from sklearn.metrics import mean_squared_error\n",
        "\n",
        "mean_squared_error(y_test, preds, squared = False)"
      ],
      "metadata": {
        "colab": {
          "base_uri": "https://localhost:8080/"
        },
        "id": "WQ9JIZ5RRKT4",
        "outputId": "8214ef36-12d2-47cb-b626-a32080a5c9f4"
      },
      "execution_count": 97,
      "outputs": [
        {
          "output_type": "execute_result",
          "data": {
            "text/plain": [
              "5.790907098401893"
            ]
          },
          "metadata": {},
          "execution_count": 97
        }
      ]
    },
    {
      "cell_type": "code",
      "source": [
        "from sklearn.ensemble import RandomForestRegressor\n",
        "\n",
        "rf = RandomForestRegressor(n_estimators = 500)\n",
        "rf.fit(X_train, y_train)"
      ],
      "metadata": {
        "colab": {
          "base_uri": "https://localhost:8080/"
        },
        "id": "qjLt4U7jE1Lg",
        "outputId": "74cad0d6-a82c-48eb-aaba-dd02863f2788"
      },
      "execution_count": 98,
      "outputs": [
        {
          "output_type": "execute_result",
          "data": {
            "text/plain": [
              "RandomForestRegressor(n_estimators=500)"
            ]
          },
          "metadata": {},
          "execution_count": 98
        }
      ]
    },
    {
      "cell_type": "code",
      "source": [
        "preds = rf.predict(X_test)\n",
        "mean_squared_error(y_test, preds, squared = False)"
      ],
      "metadata": {
        "colab": {
          "base_uri": "https://localhost:8080/"
        },
        "id": "Gbzv-gcIE9Jz",
        "outputId": "fc23f4d5-1219-497f-e8ec-bdcbf8110a2b"
      },
      "execution_count": 99,
      "outputs": [
        {
          "output_type": "execute_result",
          "data": {
            "text/plain": [
              "4.051653059799852"
            ]
          },
          "metadata": {},
          "execution_count": 99
        }
      ]
    },
    {
      "cell_type": "code",
      "source": [
        "df.groupby(['control', 'treatment']).agg({'percentChange': ['mean']})"
      ],
      "metadata": {
        "colab": {
          "base_uri": "https://localhost:8080/",
          "height": 1000
        },
        "id": "bZJWp5UsSa2_",
        "outputId": "28f09e6c-00b8-41f4-85b0-0f74c65d92c6"
      },
      "execution_count": 108,
      "outputs": [
        {
          "output_type": "execute_result",
          "data": {
            "text/plain": [
              "                                                                                                      percentChange\n",
              "                                                                                                               mean\n",
              "control                                            treatment                                                       \n",
              "[\"Animal Manure\"]                                  [\"Green Manure\"]                                       -1.884000\n",
              "                                                   [\"Nitrogen Mineral Fertilizer\",\"Phosphorus Mine...      0.060000\n",
              "[\"Green Manure\",\"Animal Manure\",\"Legume Intercr... [\"Green Manure\",\"Animal Manure\",\"Legume Intercr...      0.093125\n",
              "                                                   [\"Green Manure\",\"Legume Intercrop\",\"Phosphorus ...     -0.046562\n",
              "[\"Green Manure\"]                                   [\"Green Manure\"]                                       -4.986500\n",
              "[\"Incinerated Organics\"]                           [\"Nitrogen Mineral Fertilizer\",\"Phosphorus Mine...     -0.690000\n",
              "[\"Nitrogen Mineral Fertilizer\",\"Phosphorus Mine... [\"Incinerated Organics\"]                               44.370000\n",
              "                                                   [\"Nitrogen Mineral Fertilizer\",\"Phosphorus Mine...      6.211667\n",
              "                                                   [\"Nitrogen Mineral Fertilizer\",\"Phosphorus Mine...     43.820000\n",
              "[\"Nitrogen Mineral Fertilizer\",\"Phosphorus Mine... [\"Animal Manure\"]                                      24.406667\n",
              "                                                   [\"Green Manure\"]                                       13.122692\n",
              "                                                   [\"Nitrogen Mineral Fertilizer\",\"Phosphorus Mine...      0.060000\n",
              "                                                   [\"Nitrogen Mineral Fertilizer\",\"Phosphorus Mine...     -1.540000\n",
              "                                                   [\"Nitrogen Mineral Fertilizer\"]                         0.180000\n",
              "[\"Nitrogen Mineral Fertilizer\",\"Potassium Miner... [\"Nitrogen Mineral Fertilizer\",\"Phosphorus Mine...     -1.325000\n",
              "                                                   [\"Nitrogen Mineral Fertilizer\",\"Phosphorus Mine...      0.190000\n",
              "[\"Nitrogen Mineral Fertilizer\"]                    [\"Green Manure\",\"Animal Manure\",\"Legume Intercr...      0.095000\n",
              "                                                   [\"Green Manure\",\"Legume Intercrop\",\"Phosphorus ...      0.049375\n",
              "                                                   [\"Nitrogen Mineral Fertilizer\",\"Green Manure\"]          0.067500\n",
              "                                                   [\"Unspecified Mineral Fertilizer\",\"Green Manure...      0.058125\n",
              "[\"Phosphorus Mineral Fertilizer\",\"Potassium Min... [\"Nitrogen Mineral Fertilizer\",\"Phosphorus Mine...      0.170000\n",
              "                                                   [\"Nitrogen Mineral Fertilizer\",\"Phosphorus Mine...      1.730000\n",
              "                                                   [\"Nitrogen Mineral Fertilizer\",\"Potassium Miner...      1.560000\n",
              "[\"Phosphorus Mineral Fertilizer\"]                  [\"Green Manure\"]                                        0.111875\n",
              "                                                   [\"Nitrogen Mineral Fertilizer\",\"Phosphorus Mine...      0.120625\n",
              "[\"Unamended\"]                                      [\"Animal Manure\"]                                      36.033333\n",
              "                                                   [\"Green Manure\"]                                       19.598077\n",
              "                                                   [\"Incinerated Organics\"]                               52.700000\n",
              "                                                   [\"Nitrogen Mineral Fertilizer\",\"Phosphorus Mine...      0.210000\n",
              "                                                   [\"Nitrogen Mineral Fertilizer\",\"Phosphorus Mine...     51.913333\n",
              "                                                   [\"Nitrogen Mineral Fertilizer\",\"Phosphorus Mine...      3.146000\n",
              "                                                   [\"Nitrogen Mineral Fertilizer\",\"Phosphorus Mine...      1.181818\n",
              "                                                   [\"Nitrogen Mineral Fertilizer\",\"Potassium Miner...     -0.555000\n",
              "                                                   [\"Nitrogen Mineral Fertilizer\"]                         0.050000\n",
              "                                                   [\"Phosphorus Mineral Fertilizer\",\"Potassium Min...     -2.080000\n",
              "                                                   [\"Phosphorus Mineral Fertilizer\"]                      -0.102500\n",
              "[\"Unspecified Mineral Fertilizer\",\"Green Manure... [\"Green Manure\",\"Animal Manure\",\"Legume Intercr...      0.036562\n",
              "                                                   [\"Green Manure\",\"Legume Intercrop\",\"Phosphorus ...     -0.010000\n",
              "[\"Unspecified Mineral Fertilizer\",\"Green Manure\"]  [\"Green Manure\",\"Animal Manure\",\"Legume Intercr...      0.026563\n",
              "                                                   [\"Green Manure\",\"Legume Intercrop\",\"Phosphorus ...     -0.018125\n",
              "                                                   [\"Unspecified Mineral Fertilizer\",\"Green Manure...     -0.010000"
            ],
            "text/html": [
              "\n",
              "  <div id=\"df-b5b60b07-281a-45d5-bf30-154339b595a4\">\n",
              "    <div class=\"colab-df-container\">\n",
              "      <div>\n",
              "<style scoped>\n",
              "    .dataframe tbody tr th:only-of-type {\n",
              "        vertical-align: middle;\n",
              "    }\n",
              "\n",
              "    .dataframe tbody tr th {\n",
              "        vertical-align: top;\n",
              "    }\n",
              "\n",
              "    .dataframe thead tr th {\n",
              "        text-align: left;\n",
              "    }\n",
              "\n",
              "    .dataframe thead tr:last-of-type th {\n",
              "        text-align: right;\n",
              "    }\n",
              "</style>\n",
              "<table border=\"1\" class=\"dataframe\">\n",
              "  <thead>\n",
              "    <tr>\n",
              "      <th></th>\n",
              "      <th></th>\n",
              "      <th>percentChange</th>\n",
              "    </tr>\n",
              "    <tr>\n",
              "      <th></th>\n",
              "      <th></th>\n",
              "      <th>mean</th>\n",
              "    </tr>\n",
              "    <tr>\n",
              "      <th>control</th>\n",
              "      <th>treatment</th>\n",
              "      <th></th>\n",
              "    </tr>\n",
              "  </thead>\n",
              "  <tbody>\n",
              "    <tr>\n",
              "      <th rowspan=\"2\" valign=\"top\">[\"Animal Manure\"]</th>\n",
              "      <th>[\"Green Manure\"]</th>\n",
              "      <td>-1.884000</td>\n",
              "    </tr>\n",
              "    <tr>\n",
              "      <th>[\"Nitrogen Mineral Fertilizer\",\"Phosphorus Mineral Fertilizer\",\"Animal Manure\"]</th>\n",
              "      <td>0.060000</td>\n",
              "    </tr>\n",
              "    <tr>\n",
              "      <th rowspan=\"2\" valign=\"top\">[\"Green Manure\",\"Animal Manure\",\"Legume Intercrop\"]</th>\n",
              "      <th>[\"Green Manure\",\"Animal Manure\",\"Legume Intercrop\"]</th>\n",
              "      <td>0.093125</td>\n",
              "    </tr>\n",
              "    <tr>\n",
              "      <th>[\"Green Manure\",\"Legume Intercrop\",\"Phosphorus Mineral Fertilizer\"]</th>\n",
              "      <td>-0.046562</td>\n",
              "    </tr>\n",
              "    <tr>\n",
              "      <th>[\"Green Manure\"]</th>\n",
              "      <th>[\"Green Manure\"]</th>\n",
              "      <td>-4.986500</td>\n",
              "    </tr>\n",
              "    <tr>\n",
              "      <th>[\"Incinerated Organics\"]</th>\n",
              "      <th>[\"Nitrogen Mineral Fertilizer\",\"Phosphorus Mineral Fertilizer\",\"Potassium Mineral Fertilizer\",\"Incinerated Organics\"]</th>\n",
              "      <td>-0.690000</td>\n",
              "    </tr>\n",
              "    <tr>\n",
              "      <th rowspan=\"3\" valign=\"top\">[\"Nitrogen Mineral Fertilizer\",\"Phosphorus Mineral Fertilizer\",\"Potassium Mineral Fertilizer\"]</th>\n",
              "      <th>[\"Incinerated Organics\"]</th>\n",
              "      <td>44.370000</td>\n",
              "    </tr>\n",
              "    <tr>\n",
              "      <th>[\"Nitrogen Mineral Fertilizer\",\"Phosphorus Mineral Fertilizer\",\"Potassium Mineral Fertilizer\",\"Animal Manure\"]</th>\n",
              "      <td>6.211667</td>\n",
              "    </tr>\n",
              "    <tr>\n",
              "      <th>[\"Nitrogen Mineral Fertilizer\",\"Phosphorus Mineral Fertilizer\",\"Potassium Mineral Fertilizer\",\"Incinerated Organics\"]</th>\n",
              "      <td>43.820000</td>\n",
              "    </tr>\n",
              "    <tr>\n",
              "      <th rowspan=\"5\" valign=\"top\">[\"Nitrogen Mineral Fertilizer\",\"Phosphorus Mineral Fertilizer\"]</th>\n",
              "      <th>[\"Animal Manure\"]</th>\n",
              "      <td>24.406667</td>\n",
              "    </tr>\n",
              "    <tr>\n",
              "      <th>[\"Green Manure\"]</th>\n",
              "      <td>13.122692</td>\n",
              "    </tr>\n",
              "    <tr>\n",
              "      <th>[\"Nitrogen Mineral Fertilizer\",\"Phosphorus Mineral Fertilizer\",\"Animal Manure\"]</th>\n",
              "      <td>0.060000</td>\n",
              "    </tr>\n",
              "    <tr>\n",
              "      <th>[\"Nitrogen Mineral Fertilizer\",\"Phosphorus Mineral Fertilizer\",\"Potassium Mineral Fertilizer\"]</th>\n",
              "      <td>-1.540000</td>\n",
              "    </tr>\n",
              "    <tr>\n",
              "      <th>[\"Nitrogen Mineral Fertilizer\"]</th>\n",
              "      <td>0.180000</td>\n",
              "    </tr>\n",
              "    <tr>\n",
              "      <th rowspan=\"2\" valign=\"top\">[\"Nitrogen Mineral Fertilizer\",\"Potassium Mineral Fertilizer\"]</th>\n",
              "      <th>[\"Nitrogen Mineral Fertilizer\",\"Phosphorus Mineral Fertilizer\",\"Potassium Mineral Fertilizer\"]</th>\n",
              "      <td>-1.325000</td>\n",
              "    </tr>\n",
              "    <tr>\n",
              "      <th>[\"Nitrogen Mineral Fertilizer\",\"Phosphorus Mineral Fertilizer\"]</th>\n",
              "      <td>0.190000</td>\n",
              "    </tr>\n",
              "    <tr>\n",
              "      <th rowspan=\"4\" valign=\"top\">[\"Nitrogen Mineral Fertilizer\"]</th>\n",
              "      <th>[\"Green Manure\",\"Animal Manure\",\"Legume Intercrop\"]</th>\n",
              "      <td>0.095000</td>\n",
              "    </tr>\n",
              "    <tr>\n",
              "      <th>[\"Green Manure\",\"Legume Intercrop\",\"Phosphorus Mineral Fertilizer\"]</th>\n",
              "      <td>0.049375</td>\n",
              "    </tr>\n",
              "    <tr>\n",
              "      <th>[\"Nitrogen Mineral Fertilizer\",\"Green Manure\"]</th>\n",
              "      <td>0.067500</td>\n",
              "    </tr>\n",
              "    <tr>\n",
              "      <th>[\"Unspecified Mineral Fertilizer\",\"Green Manure\",\"Animal Manure\"]</th>\n",
              "      <td>0.058125</td>\n",
              "    </tr>\n",
              "    <tr>\n",
              "      <th rowspan=\"3\" valign=\"top\">[\"Phosphorus Mineral Fertilizer\",\"Potassium Mineral Fertilizer\"]</th>\n",
              "      <th>[\"Nitrogen Mineral Fertilizer\",\"Phosphorus Mineral Fertilizer\",\"Potassium Mineral Fertilizer\"]</th>\n",
              "      <td>0.170000</td>\n",
              "    </tr>\n",
              "    <tr>\n",
              "      <th>[\"Nitrogen Mineral Fertilizer\",\"Phosphorus Mineral Fertilizer\"]</th>\n",
              "      <td>1.730000</td>\n",
              "    </tr>\n",
              "    <tr>\n",
              "      <th>[\"Nitrogen Mineral Fertilizer\",\"Potassium Mineral Fertilizer\"]</th>\n",
              "      <td>1.560000</td>\n",
              "    </tr>\n",
              "    <tr>\n",
              "      <th rowspan=\"2\" valign=\"top\">[\"Phosphorus Mineral Fertilizer\"]</th>\n",
              "      <th>[\"Green Manure\"]</th>\n",
              "      <td>0.111875</td>\n",
              "    </tr>\n",
              "    <tr>\n",
              "      <th>[\"Nitrogen Mineral Fertilizer\",\"Phosphorus Mineral Fertilizer\"]</th>\n",
              "      <td>0.120625</td>\n",
              "    </tr>\n",
              "    <tr>\n",
              "      <th rowspan=\"11\" valign=\"top\">[\"Unamended\"]</th>\n",
              "      <th>[\"Animal Manure\"]</th>\n",
              "      <td>36.033333</td>\n",
              "    </tr>\n",
              "    <tr>\n",
              "      <th>[\"Green Manure\"]</th>\n",
              "      <td>19.598077</td>\n",
              "    </tr>\n",
              "    <tr>\n",
              "      <th>[\"Incinerated Organics\"]</th>\n",
              "      <td>52.700000</td>\n",
              "    </tr>\n",
              "    <tr>\n",
              "      <th>[\"Nitrogen Mineral Fertilizer\",\"Phosphorus Mineral Fertilizer\",\"Animal Manure\"]</th>\n",
              "      <td>0.210000</td>\n",
              "    </tr>\n",
              "    <tr>\n",
              "      <th>[\"Nitrogen Mineral Fertilizer\",\"Phosphorus Mineral Fertilizer\",\"Potassium Mineral Fertilizer\",\"Incinerated Organics\"]</th>\n",
              "      <td>51.913333</td>\n",
              "    </tr>\n",
              "    <tr>\n",
              "      <th>[\"Nitrogen Mineral Fertilizer\",\"Phosphorus Mineral Fertilizer\",\"Potassium Mineral Fertilizer\"]</th>\n",
              "      <td>3.146000</td>\n",
              "    </tr>\n",
              "    <tr>\n",
              "      <th>[\"Nitrogen Mineral Fertilizer\",\"Phosphorus Mineral Fertilizer\"]</th>\n",
              "      <td>1.181818</td>\n",
              "    </tr>\n",
              "    <tr>\n",
              "      <th>[\"Nitrogen Mineral Fertilizer\",\"Potassium Mineral Fertilizer\"]</th>\n",
              "      <td>-0.555000</td>\n",
              "    </tr>\n",
              "    <tr>\n",
              "      <th>[\"Nitrogen Mineral Fertilizer\"]</th>\n",
              "      <td>0.050000</td>\n",
              "    </tr>\n",
              "    <tr>\n",
              "      <th>[\"Phosphorus Mineral Fertilizer\",\"Potassium Mineral Fertilizer\"]</th>\n",
              "      <td>-2.080000</td>\n",
              "    </tr>\n",
              "    <tr>\n",
              "      <th>[\"Phosphorus Mineral Fertilizer\"]</th>\n",
              "      <td>-0.102500</td>\n",
              "    </tr>\n",
              "    <tr>\n",
              "      <th rowspan=\"2\" valign=\"top\">[\"Unspecified Mineral Fertilizer\",\"Green Manure\",\"Animal Manure\"]</th>\n",
              "      <th>[\"Green Manure\",\"Animal Manure\",\"Legume Intercrop\"]</th>\n",
              "      <td>0.036562</td>\n",
              "    </tr>\n",
              "    <tr>\n",
              "      <th>[\"Green Manure\",\"Legume Intercrop\",\"Phosphorus Mineral Fertilizer\"]</th>\n",
              "      <td>-0.010000</td>\n",
              "    </tr>\n",
              "    <tr>\n",
              "      <th rowspan=\"3\" valign=\"top\">[\"Unspecified Mineral Fertilizer\",\"Green Manure\"]</th>\n",
              "      <th>[\"Green Manure\",\"Animal Manure\",\"Legume Intercrop\"]</th>\n",
              "      <td>0.026563</td>\n",
              "    </tr>\n",
              "    <tr>\n",
              "      <th>[\"Green Manure\",\"Legume Intercrop\",\"Phosphorus Mineral Fertilizer\"]</th>\n",
              "      <td>-0.018125</td>\n",
              "    </tr>\n",
              "    <tr>\n",
              "      <th>[\"Unspecified Mineral Fertilizer\",\"Green Manure\",\"Animal Manure\"]</th>\n",
              "      <td>-0.010000</td>\n",
              "    </tr>\n",
              "  </tbody>\n",
              "</table>\n",
              "</div>\n",
              "      <button class=\"colab-df-convert\" onclick=\"convertToInteractive('df-b5b60b07-281a-45d5-bf30-154339b595a4')\"\n",
              "              title=\"Convert this dataframe to an interactive table.\"\n",
              "              style=\"display:none;\">\n",
              "        \n",
              "  <svg xmlns=\"http://www.w3.org/2000/svg\" height=\"24px\"viewBox=\"0 0 24 24\"\n",
              "       width=\"24px\">\n",
              "    <path d=\"M0 0h24v24H0V0z\" fill=\"none\"/>\n",
              "    <path d=\"M18.56 5.44l.94 2.06.94-2.06 2.06-.94-2.06-.94-.94-2.06-.94 2.06-2.06.94zm-11 1L8.5 8.5l.94-2.06 2.06-.94-2.06-.94L8.5 2.5l-.94 2.06-2.06.94zm10 10l.94 2.06.94-2.06 2.06-.94-2.06-.94-.94-2.06-.94 2.06-2.06.94z\"/><path d=\"M17.41 7.96l-1.37-1.37c-.4-.4-.92-.59-1.43-.59-.52 0-1.04.2-1.43.59L10.3 9.45l-7.72 7.72c-.78.78-.78 2.05 0 2.83L4 21.41c.39.39.9.59 1.41.59.51 0 1.02-.2 1.41-.59l7.78-7.78 2.81-2.81c.8-.78.8-2.07 0-2.86zM5.41 20L4 18.59l7.72-7.72 1.47 1.35L5.41 20z\"/>\n",
              "  </svg>\n",
              "      </button>\n",
              "      \n",
              "  <style>\n",
              "    .colab-df-container {\n",
              "      display:flex;\n",
              "      flex-wrap:wrap;\n",
              "      gap: 12px;\n",
              "    }\n",
              "\n",
              "    .colab-df-convert {\n",
              "      background-color: #E8F0FE;\n",
              "      border: none;\n",
              "      border-radius: 50%;\n",
              "      cursor: pointer;\n",
              "      display: none;\n",
              "      fill: #1967D2;\n",
              "      height: 32px;\n",
              "      padding: 0 0 0 0;\n",
              "      width: 32px;\n",
              "    }\n",
              "\n",
              "    .colab-df-convert:hover {\n",
              "      background-color: #E2EBFA;\n",
              "      box-shadow: 0px 1px 2px rgba(60, 64, 67, 0.3), 0px 1px 3px 1px rgba(60, 64, 67, 0.15);\n",
              "      fill: #174EA6;\n",
              "    }\n",
              "\n",
              "    [theme=dark] .colab-df-convert {\n",
              "      background-color: #3B4455;\n",
              "      fill: #D2E3FC;\n",
              "    }\n",
              "\n",
              "    [theme=dark] .colab-df-convert:hover {\n",
              "      background-color: #434B5C;\n",
              "      box-shadow: 0px 1px 3px 1px rgba(0, 0, 0, 0.15);\n",
              "      filter: drop-shadow(0px 1px 2px rgba(0, 0, 0, 0.3));\n",
              "      fill: #FFFFFF;\n",
              "    }\n",
              "  </style>\n",
              "\n",
              "      <script>\n",
              "        const buttonEl =\n",
              "          document.querySelector('#df-b5b60b07-281a-45d5-bf30-154339b595a4 button.colab-df-convert');\n",
              "        buttonEl.style.display =\n",
              "          google.colab.kernel.accessAllowed ? 'block' : 'none';\n",
              "\n",
              "        async function convertToInteractive(key) {\n",
              "          const element = document.querySelector('#df-b5b60b07-281a-45d5-bf30-154339b595a4');\n",
              "          const dataTable =\n",
              "            await google.colab.kernel.invokeFunction('convertToInteractive',\n",
              "                                                     [key], {});\n",
              "          if (!dataTable) return;\n",
              "\n",
              "          const docLinkHtml = 'Like what you see? Visit the ' +\n",
              "            '<a target=\"_blank\" href=https://colab.research.google.com/notebooks/data_table.ipynb>data table notebook</a>'\n",
              "            + ' to learn more about interactive tables.';\n",
              "          element.innerHTML = '';\n",
              "          dataTable['output_type'] = 'display_data';\n",
              "          await google.colab.output.renderOutput(dataTable, element);\n",
              "          const docLink = document.createElement('div');\n",
              "          docLink.innerHTML = docLinkHtml;\n",
              "          element.appendChild(docLink);\n",
              "        }\n",
              "      </script>\n",
              "    </div>\n",
              "  </div>\n",
              "  "
            ]
          },
          "metadata": {},
          "execution_count": 108
        }
      ]
    }
  ]
}